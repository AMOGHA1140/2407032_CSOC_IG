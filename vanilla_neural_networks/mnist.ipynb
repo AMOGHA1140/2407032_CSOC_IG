{
 "cells": [
  {
   "cell_type": "code",
   "execution_count": 1,
   "id": "bee88c14",
   "metadata": {},
   "outputs": [],
   "source": [
    "import numpy as np\n",
    "import pandas as pd\n",
    "from sklearn.model_selection import train_test_split\n",
    "from main import Sequential, Dense, accuracy"
   ]
  },
  {
   "cell_type": "code",
   "execution_count": 2,
   "id": "a3296507-206c-47bc-87ce-7b5e93f2d4ca",
   "metadata": {},
   "outputs": [],
   "source": [
    "data = pd.read_csv(\"mnist_data.csv\")"
   ]
  },
  {
   "cell_type": "code",
   "execution_count": 4,
   "id": "3b0e350b-f132-445a-b445-22bd4a1707c2",
   "metadata": {},
   "outputs": [],
   "source": [
    "X = data.drop(columns=['label'])\n",
    "y = data['label']\n",
    "y = pd.get_dummies(y)\n",
    "X  = X/255.0\n",
    "X = X.to_numpy()\n",
    "y = y.to_numpy().astype(np.float32)\n",
    "\n",
    "X, X_test, y, y_test = train_test_split(X, y, train_size=0.3)\n"
   ]
  },
  {
   "cell_type": "code",
   "execution_count": null,
   "id": "a7dfd82b-3133-473e-b9fa-1dc0340b38a5",
   "metadata": {},
   "outputs": [],
   "source": [
    "y"
   ]
  },
  {
   "cell_type": "code",
   "execution_count": 5,
   "id": "d1513d5b-5de3-4c37-b746-ee4ec7602104",
   "metadata": {},
   "outputs": [],
   "source": [
    "\n",
    "model = Sequential([\n",
    "    Dense(16),\n",
    "    Dense(16),\n",
    "    Dense(10, activation='softmax')\n",
    "])\n",
    "model.compile(loss='sparse_categorical_cross_entropy')"
   ]
  },
  {
   "cell_type": "code",
   "execution_count": 34,
   "id": "112d8087-a2d6-43bb-97be-03392ffe7ece",
   "metadata": {},
   "outputs": [
    {
     "name": "stdout",
     "output_type": "stream",
     "text": [
      "Epoch: 1, time taken: 0.6249051094055176\n",
      "Epoch: 2, time taken: 0.6837856769561768\n",
      "Epoch: 3, time taken: 0.6846709251403809\n",
      "Epoch: 4, time taken: 0.6536457538604736\n",
      "Epoch: 5, time taken: 0.8846597671508789\n",
      "Epoch: 6, time taken: 0.8521876335144043\n",
      "Epoch: 7, time taken: 0.8596835136413574\n",
      "Epoch: 8, time taken: 0.7593510150909424\n",
      "Epoch: 9, time taken: 0.695181131362915\n",
      "Epoch: 10, time taken: 0.5996739864349365\n",
      "Epoch: 11, time taken: 0.6410050392150879\n",
      "Epoch: 12, time taken: 0.6335849761962891\n",
      "Epoch: 13, time taken: 0.6217794418334961\n",
      "Epoch: 14, time taken: 0.653231143951416\n",
      "Epoch: 15, time taken: 0.6675550937652588\n",
      "Epoch: 16, time taken: 0.6054937839508057\n",
      "Epoch: 17, time taken: 0.6838219165802002\n",
      "Epoch: 18, time taken: 0.637481689453125\n",
      "Epoch: 19, time taken: 0.5491364002227783\n",
      "Epoch: 20, time taken: 0.5940234661102295\n",
      "Epoch: 21, time taken: 0.6145837306976318\n",
      "Epoch: 22, time taken: 0.6309952735900879\n",
      "Epoch: 23, time taken: 0.6261470317840576\n",
      "Epoch: 24, time taken: 0.6441354751586914\n",
      "Epoch: 25, time taken: 0.6232249736785889\n",
      "Epoch: 26, time taken: 0.5834295749664307\n",
      "Epoch: 27, time taken: 0.6194467544555664\n",
      "Epoch: 28, time taken: 0.625098705291748\n",
      "Epoch: 29, time taken: 0.6515614986419678\n",
      "Epoch: 30, time taken: 0.6493794918060303\n"
     ]
    }
   ],
   "source": [
    "model.fit(X, y, epochs=30, learning_rate=0.001)"
   ]
  },
  {
   "cell_type": "code",
   "execution_count": 36,
   "id": "1f627aa9-b5ce-48ef-97c5-51f1cf98968f",
   "metadata": {},
   "outputs": [
    {
     "data": {
      "text/plain": [
       "np.float64(0.9369047619047619)"
      ]
     },
     "execution_count": 36,
     "metadata": {},
     "output_type": "execute_result"
    }
   ],
   "source": [
    "# A = model.pre\n",
    "y_pred = model.predict(X_test)\n",
    "y_pred.shape\n",
    "y_pred\n",
    "temp = np.zeros_like(y_pred)\n",
    "temp[np.arange(y_pred.shape[0]),np.argmax(y_pred, axis=1)] = True\n",
    "accuracy(temp, y_test)"
   ]
  },
  {
   "cell_type": "code",
   "execution_count": null,
   "id": "c9c28936-6992-4615-9f29-60c276196e61",
   "metadata": {},
   "outputs": [],
   "source": []
  },
  {
   "cell_type": "code",
   "execution_count": null,
   "id": "6be51941-67c7-4ef9-a22f-d1b578ae166e",
   "metadata": {},
   "outputs": [],
   "source": [
    "np.argmax(y[:10], axis=1, keepdims=True)"
   ]
  },
  {
   "cell_type": "code",
   "execution_count": null,
   "id": "c9830457-8bba-4bd8-ac54-78a6caf6ac9f",
   "metadata": {},
   "outputs": [],
   "source": [
    "# import tensorflow as tf\n",
    "X.shape"
   ]
  },
  {
   "cell_type": "code",
   "execution_count": null,
   "id": "2cb418e4-2291-4084-8ce0-73726237a561",
   "metadata": {},
   "outputs": [],
   "source": [
    "# tfmodel = tf.keras.Sequential([\n",
    "#     tf.keras.layers.Dense(16, activation='relu'),\n",
    "#     tf.keras.layers.Dense(16, activation='relu'),\n",
    "#     tf.keras.layers.Dense(10, activation='softmax')\n",
    "# ])\n",
    "# tfmodel.compile(loss=tf.keras.losses.CategoricalCrossentropy, metrics=['accuracy'])"
   ]
  },
  {
   "cell_type": "code",
   "execution_count": null,
   "id": "7a1dc788-ba78-4e2c-88cb-38ae125537d4",
   "metadata": {},
   "outputs": [],
   "source": [
    "# tfmodel.fit(X, y, epochs=10)"
   ]
  },
  {
   "cell_type": "code",
   "execution_count": null,
   "id": "5cc4ac4d-113b-44bf-abe8-0c11c6a2f90d",
   "metadata": {},
   "outputs": [],
   "source": []
  },
  {
   "cell_type": "code",
   "execution_count": null,
   "id": "f49d6934-a065-41ab-8bbe-19f2eaf53d38",
   "metadata": {},
   "outputs": [],
   "source": []
  }
 ],
 "metadata": {
  "kernelspec": {
   "display_name": "Python 3 (ipykernel)",
   "language": "python",
   "name": "python3"
  },
  "language_info": {
   "codemirror_mode": {
    "name": "ipython",
    "version": 3
   },
   "file_extension": ".py",
   "mimetype": "text/x-python",
   "name": "python",
   "nbconvert_exporter": "python",
   "pygments_lexer": "ipython3",
   "version": "3.12.10"
  }
 },
 "nbformat": 4,
 "nbformat_minor": 5
}
