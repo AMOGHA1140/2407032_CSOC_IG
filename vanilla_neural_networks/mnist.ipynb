{
 "cells": [
  {
   "cell_type": "code",
   "execution_count": 1,
   "id": "bee88c14",
   "metadata": {},
   "outputs": [],
   "source": [
    "import numpy as np\n",
    "import pandas as pd\n",
    "from sklearn.model_selection import train_test_split\n",
    "from main import Sequential, Dense, accuracy"
   ]
  },
  {
   "cell_type": "code",
   "execution_count": 2,
   "id": "a3296507-206c-47bc-87ce-7b5e93f2d4ca",
   "metadata": {},
   "outputs": [],
   "source": [
    "data = pd.read_csv(\"mnist_data.csv\")"
   ]
  },
  {
   "cell_type": "code",
   "execution_count": 3,
   "id": "3b0e350b-f132-445a-b445-22bd4a1707c2",
   "metadata": {},
   "outputs": [],
   "source": [
    "X = data.drop(columns=['label'])\n",
    "y = data['label']\n",
    "y = pd.get_dummies(y)\n",
    "X  = X/255.0\n",
    "X = X.to_numpy()\n",
    "y = y.to_numpy().astype(np.float32)"
   ]
  },
  {
   "cell_type": "code",
   "execution_count": 4,
   "id": "a7dfd82b-3133-473e-b9fa-1dc0340b38a5",
   "metadata": {},
   "outputs": [
    {
     "data": {
      "text/plain": [
       "array([[0., 1., 0., ..., 0., 0., 0.],\n",
       "       [1., 0., 0., ..., 0., 0., 0.],\n",
       "       [0., 1., 0., ..., 0., 0., 0.],\n",
       "       ...,\n",
       "       [0., 0., 0., ..., 1., 0., 0.],\n",
       "       [0., 0., 0., ..., 0., 0., 0.],\n",
       "       [0., 0., 0., ..., 0., 0., 1.]], dtype=float32)"
      ]
     },
     "execution_count": 4,
     "metadata": {},
     "output_type": "execute_result"
    }
   ],
   "source": [
    "y"
   ]
  },
  {
   "cell_type": "code",
   "execution_count": 5,
   "id": "d1513d5b-5de3-4c37-b746-ee4ec7602104",
   "metadata": {},
   "outputs": [],
   "source": [
    "\n",
    "model = Sequential([\n",
    "    Dense(16),\n",
    "    Dense(16),\n",
    "    Dense(10, activation='softmax')\n",
    "])\n",
    "model.compile(loss='sparse_categorical_cross_entropy')"
   ]
  },
  {
   "cell_type": "code",
   "execution_count": null,
   "id": "112d8087-a2d6-43bb-97be-03392ffe7ece",
   "metadata": {},
   "outputs": [
    {
     "name": "stdout",
     "output_type": "stream",
     "text": [
      "Epoch: 1, Accuracy: 0.9080952380952381, sparse_categorical_cross_entropy loss: 0.3261069796779409\n",
      "Epoch: 2, Accuracy: 0.9080952380952381, sparse_categorical_cross_entropy loss: 0.3260875314079049\n",
      "Epoch: 3, Accuracy: 0.9081428571428571, sparse_categorical_cross_entropy loss: 0.32606808789920405\n",
      "Epoch: 4, Accuracy: 0.9081428571428571, sparse_categorical_cross_entropy loss: 0.3260486520514867\n",
      "Epoch: 5, Accuracy: 0.9081190476190476, sparse_categorical_cross_entropy loss: 0.32602922485414\n",
      "Epoch: 6, Accuracy: 0.9081190476190476, sparse_categorical_cross_entropy loss: 0.3260098036742513\n",
      "Epoch: 7, Accuracy: 0.9081190476190476, sparse_categorical_cross_entropy loss: 0.325990389578025\n",
      "Epoch: 8, Accuracy: 0.9081190476190476, sparse_categorical_cross_entropy loss: 0.325970986841061\n",
      "Epoch: 9, Accuracy: 0.9081190476190476, sparse_categorical_cross_entropy loss: 0.325951591182915\n",
      "Epoch: 10, Accuracy: 0.9081190476190476, sparse_categorical_cross_entropy loss: 0.3259321968176845\n",
      "Epoch: 11, Accuracy: 0.9081190476190476, sparse_categorical_cross_entropy loss: 0.32591280971236225\n",
      "Epoch: 12, Accuracy: 0.9081666666666667, sparse_categorical_cross_entropy loss: 0.3258934291933459\n",
      "Epoch: 13, Accuracy: 0.9081666666666667, sparse_categorical_cross_entropy loss: 0.3258740490185362\n",
      "Epoch: 14, Accuracy: 0.9081666666666667, sparse_categorical_cross_entropy loss: 0.32585467354166253\n",
      "Epoch: 15, Accuracy: 0.9081666666666667, sparse_categorical_cross_entropy loss: 0.3258353075322949\n",
      "Epoch: 16, Accuracy: 0.9081666666666667, sparse_categorical_cross_entropy loss: 0.3258159521901556\n",
      "Epoch: 17, Accuracy: 0.9081904761904762, sparse_categorical_cross_entropy loss: 0.32579660605157773\n",
      "Epoch: 18, Accuracy: 0.9081904761904762, sparse_categorical_cross_entropy loss: 0.3257772646814468\n",
      "Epoch: 19, Accuracy: 0.9082142857142858, sparse_categorical_cross_entropy loss: 0.3257579367594354\n",
      "Epoch: 20, Accuracy: 0.9082142857142858, sparse_categorical_cross_entropy loss: 0.32573862654678776\n",
      "Epoch: 21, Accuracy: 0.9082142857142858, sparse_categorical_cross_entropy loss: 0.32571932938468184\n",
      "Epoch: 22, Accuracy: 0.9082142857142858, sparse_categorical_cross_entropy loss: 0.32570003845788387\n",
      "Epoch: 23, Accuracy: 0.9082142857142858, sparse_categorical_cross_entropy loss: 0.32568074737630653\n",
      "Epoch: 24, Accuracy: 0.9082142857142858, sparse_categorical_cross_entropy loss: 0.32566145200752555\n",
      "Epoch: 25, Accuracy: 0.9082142857142858, sparse_categorical_cross_entropy loss: 0.325642161507878\n",
      "Epoch: 26, Accuracy: 0.9082380952380953, sparse_categorical_cross_entropy loss: 0.32562287580683247\n",
      "Epoch: 27, Accuracy: 0.9082619047619047, sparse_categorical_cross_entropy loss: 0.32560359568878594\n",
      "Epoch: 28, Accuracy: 0.9082619047619047, sparse_categorical_cross_entropy loss: 0.32558432015347055\n",
      "Epoch: 29, Accuracy: 0.9082619047619047, sparse_categorical_cross_entropy loss: 0.32556505233632754\n",
      "Epoch: 30, Accuracy: 0.9082619047619047, sparse_categorical_cross_entropy loss: 0.3255457949530866\n",
      "Epoch: 31, Accuracy: 0.9082619047619047, sparse_categorical_cross_entropy loss: 0.3255265507925774\n",
      "Epoch: 32, Accuracy: 0.9082619047619047, sparse_categorical_cross_entropy loss: 0.32550731232931335\n",
      "Epoch: 33, Accuracy: 0.9082857142857143, sparse_categorical_cross_entropy loss: 0.3254880804859683\n",
      "Epoch: 34, Accuracy: 0.9082857142857143, sparse_categorical_cross_entropy loss: 0.3254688553704343\n",
      "Epoch: 35, Accuracy: 0.9082857142857143, sparse_categorical_cross_entropy loss: 0.32544964213348965\n",
      "Epoch: 36, Accuracy: 0.9082857142857143, sparse_categorical_cross_entropy loss: 0.325430441370508\n",
      "Epoch: 37, Accuracy: 0.9082619047619047, sparse_categorical_cross_entropy loss: 0.3254112475554105\n",
      "Epoch: 38, Accuracy: 0.9082619047619047, sparse_categorical_cross_entropy loss: 0.3253920617898913\n",
      "Epoch: 39, Accuracy: 0.9082619047619047, sparse_categorical_cross_entropy loss: 0.3253728903646328\n",
      "Epoch: 40, Accuracy: 0.9082380952380953, sparse_categorical_cross_entropy loss: 0.32535372399173695\n",
      "Epoch: 41, Accuracy: 0.9082380952380953, sparse_categorical_cross_entropy loss: 0.3253345666866076\n",
      "Epoch: 42, Accuracy: 0.9082380952380953, sparse_categorical_cross_entropy loss: 0.3253154074158377\n",
      "Epoch: 43, Accuracy: 0.9082380952380953, sparse_categorical_cross_entropy loss: 0.32529625295697334\n",
      "Epoch: 44, Accuracy: 0.9082380952380953, sparse_categorical_cross_entropy loss: 0.3252771006511441\n",
      "Epoch: 45, Accuracy: 0.9082380952380953, sparse_categorical_cross_entropy loss: 0.3252579542046622\n",
      "Epoch: 46, Accuracy: 0.9082380952380953, sparse_categorical_cross_entropy loss: 0.3252388119746886\n",
      "Epoch: 47, Accuracy: 0.9082380952380953, sparse_categorical_cross_entropy loss: 0.32521966952001863\n",
      "Epoch: 48, Accuracy: 0.9082380952380953, sparse_categorical_cross_entropy loss: 0.32520053258441667\n",
      "Epoch: 49, Accuracy: 0.9082380952380953, sparse_categorical_cross_entropy loss: 0.3251814017286989\n",
      "Epoch: 50, Accuracy: 0.9082619047619047, sparse_categorical_cross_entropy loss: 0.3251622698624774\n",
      "Epoch: 51, Accuracy: 0.9082619047619047, sparse_categorical_cross_entropy loss: 0.3251431434413274\n",
      "Epoch: 52, Accuracy: 0.9082857142857143, sparse_categorical_cross_entropy loss: 0.32512402223571113\n",
      "Epoch: 53, Accuracy: 0.9082857142857143, sparse_categorical_cross_entropy loss: 0.3251049078149535\n",
      "Epoch: 54, Accuracy: 0.9083095238095238, sparse_categorical_cross_entropy loss: 0.3250858007576623\n",
      "Epoch: 55, Accuracy: 0.9083095238095238, sparse_categorical_cross_entropy loss: 0.32506669547378236\n",
      "Epoch: 56, Accuracy: 0.9083095238095238, sparse_categorical_cross_entropy loss: 0.3250475973509514\n",
      "Epoch: 57, Accuracy: 0.9083095238095238, sparse_categorical_cross_entropy loss: 0.3250284963640241\n",
      "Epoch: 58, Accuracy: 0.9083095238095238, sparse_categorical_cross_entropy loss: 0.32500940037847736\n",
      "Epoch: 59, Accuracy: 0.9083095238095238, sparse_categorical_cross_entropy loss: 0.32499030921426036\n",
      "Epoch: 60, Accuracy: 0.9083095238095238, sparse_categorical_cross_entropy loss: 0.3249712192617989\n",
      "Epoch: 61, Accuracy: 0.9083095238095238, sparse_categorical_cross_entropy loss: 0.32495213635224923\n",
      "Epoch: 62, Accuracy: 0.9083095238095238, sparse_categorical_cross_entropy loss: 0.3249330620028081\n",
      "Epoch: 63, Accuracy: 0.9083333333333333, sparse_categorical_cross_entropy loss: 0.32491399458274894\n",
      "Epoch: 64, Accuracy: 0.9083333333333333, sparse_categorical_cross_entropy loss: 0.3248949362454522\n",
      "Epoch: 65, Accuracy: 0.9083333333333333, sparse_categorical_cross_entropy loss: 0.3248758839216736\n",
      "Epoch: 66, Accuracy: 0.9083571428571429, sparse_categorical_cross_entropy loss: 0.32485681927297416\n",
      "Epoch: 67, Accuracy: 0.9083571428571429, sparse_categorical_cross_entropy loss: 0.3248377599647708\n",
      "Epoch: 68, Accuracy: 0.9083333333333333, sparse_categorical_cross_entropy loss: 0.32481871605449414\n",
      "Epoch: 69, Accuracy: 0.9083333333333333, sparse_categorical_cross_entropy loss: 0.3247996771256373\n",
      "Epoch: 70, Accuracy: 0.9083333333333333, sparse_categorical_cross_entropy loss: 0.3247806437102234\n",
      "Epoch: 71, Accuracy: 0.9083333333333333, sparse_categorical_cross_entropy loss: 0.3247616182780805\n",
      "Epoch: 72, Accuracy: 0.9083571428571429, sparse_categorical_cross_entropy loss: 0.32474260031384505\n",
      "Epoch: 73, Accuracy: 0.9084047619047619, sparse_categorical_cross_entropy loss: 0.32472358781430627\n",
      "Epoch: 74, Accuracy: 0.9084047619047619, sparse_categorical_cross_entropy loss: 0.3247045813929315\n",
      "Epoch: 75, Accuracy: 0.9084047619047619, sparse_categorical_cross_entropy loss: 0.32468557959639355\n",
      "Epoch: 76, Accuracy: 0.9084047619047619, sparse_categorical_cross_entropy loss: 0.32466658306430357\n",
      "Epoch: 77, Accuracy: 0.9084047619047619, sparse_categorical_cross_entropy loss: 0.32464759167044493\n",
      "Epoch: 78, Accuracy: 0.9083809523809524, sparse_categorical_cross_entropy loss: 0.3246286057015614\n",
      "Epoch: 79, Accuracy: 0.9083809523809524, sparse_categorical_cross_entropy loss: 0.3246096261003977\n",
      "Epoch: 80, Accuracy: 0.9084047619047619, sparse_categorical_cross_entropy loss: 0.3245906509418927\n",
      "Epoch: 81, Accuracy: 0.9084047619047619, sparse_categorical_cross_entropy loss: 0.3245716822585678\n",
      "Epoch: 82, Accuracy: 0.9084047619047619, sparse_categorical_cross_entropy loss: 0.32455271942347524\n",
      "Epoch: 83, Accuracy: 0.9084285714285715, sparse_categorical_cross_entropy loss: 0.32453376283328256\n",
      "Epoch: 84, Accuracy: 0.9084285714285715, sparse_categorical_cross_entropy loss: 0.32451481317575503\n",
      "Epoch: 85, Accuracy: 0.9084761904761904, sparse_categorical_cross_entropy loss: 0.3244958695763711\n",
      "Epoch: 86, Accuracy: 0.9084761904761904, sparse_categorical_cross_entropy loss: 0.32447693183972753\n",
      "Epoch: 87, Accuracy: 0.9084761904761904, sparse_categorical_cross_entropy loss: 0.32445799942000786\n",
      "Epoch: 88, Accuracy: 0.9084761904761904, sparse_categorical_cross_entropy loss: 0.3244390690086353\n",
      "Epoch: 89, Accuracy: 0.9084761904761904, sparse_categorical_cross_entropy loss: 0.3244201329604062\n",
      "Epoch: 90, Accuracy: 0.9084761904761904, sparse_categorical_cross_entropy loss: 0.3244012072070786\n",
      "Epoch: 91, Accuracy: 0.9084761904761904, sparse_categorical_cross_entropy loss: 0.32438228702429484\n",
      "Epoch: 92, Accuracy: 0.9085238095238095, sparse_categorical_cross_entropy loss: 0.32436336892215945\n",
      "Epoch: 93, Accuracy: 0.9085238095238095, sparse_categorical_cross_entropy loss: 0.32434445453970145\n",
      "Epoch: 94, Accuracy: 0.9085238095238095, sparse_categorical_cross_entropy loss: 0.3243255430601777\n",
      "Epoch: 95, Accuracy: 0.908547619047619, sparse_categorical_cross_entropy loss: 0.32430663456514025\n",
      "Epoch: 96, Accuracy: 0.908547619047619, sparse_categorical_cross_entropy loss: 0.32428772969466746\n",
      "Epoch: 97, Accuracy: 0.908547619047619, sparse_categorical_cross_entropy loss: 0.32426883081696584\n",
      "Epoch: 98, Accuracy: 0.908547619047619, sparse_categorical_cross_entropy loss: 0.3242499391468821\n",
      "Epoch: 99, Accuracy: 0.9085238095238095, sparse_categorical_cross_entropy loss: 0.3242310540626332\n",
      "Epoch: 100, Accuracy: 0.9085238095238095, sparse_categorical_cross_entropy loss: 0.3242121745264199\n",
      "Epoch: 101, Accuracy: 0.9085238095238095, sparse_categorical_cross_entropy loss: 0.3241933003667873\n",
      "Epoch: 102, Accuracy: 0.9085238095238095, sparse_categorical_cross_entropy loss: 0.3241744325499423\n",
      "Epoch: 103, Accuracy: 0.9085238095238095, sparse_categorical_cross_entropy loss: 0.3241555694446725\n",
      "Epoch: 104, Accuracy: 0.9085238095238095, sparse_categorical_cross_entropy loss: 0.32413670556154445\n",
      "Epoch: 105, Accuracy: 0.908547619047619, sparse_categorical_cross_entropy loss: 0.32411784568192925\n",
      "Epoch: 106, Accuracy: 0.908547619047619, sparse_categorical_cross_entropy loss: 0.32409899328501135\n",
      "Epoch: 107, Accuracy: 0.9085714285714286, sparse_categorical_cross_entropy loss: 0.32408014909492316\n",
      "Epoch: 108, Accuracy: 0.9085714285714286, sparse_categorical_cross_entropy loss: 0.3240613139346963\n",
      "Epoch: 109, Accuracy: 0.9085714285714286, sparse_categorical_cross_entropy loss: 0.32404248876498976\n",
      "Epoch: 110, Accuracy: 0.9085714285714286, sparse_categorical_cross_entropy loss: 0.32402366509487596\n",
      "Epoch: 111, Accuracy: 0.9085952380952381, sparse_categorical_cross_entropy loss: 0.324004845271981\n",
      "Epoch: 112, Accuracy: 0.9085952380952381, sparse_categorical_cross_entropy loss: 0.3239860319872446\n",
      "Epoch: 113, Accuracy: 0.9085952380952381, sparse_categorical_cross_entropy loss: 0.32396722390919214\n",
      "Epoch: 114, Accuracy: 0.9085952380952381, sparse_categorical_cross_entropy loss: 0.32394842087811027\n",
      "Epoch: 115, Accuracy: 0.9086190476190477, sparse_categorical_cross_entropy loss: 0.3239296224768619\n",
      "Epoch: 116, Accuracy: 0.9085952380952381, sparse_categorical_cross_entropy loss: 0.3239108186897279\n",
      "Epoch: 117, Accuracy: 0.9085952380952381, sparse_categorical_cross_entropy loss: 0.323892010800279\n",
      "Epoch: 118, Accuracy: 0.9086190476190477, sparse_categorical_cross_entropy loss: 0.32387321015898574\n",
      "Epoch: 119, Accuracy: 0.9086428571428572, sparse_categorical_cross_entropy loss: 0.32385441787336716\n",
      "Epoch: 120, Accuracy: 0.9086428571428572, sparse_categorical_cross_entropy loss: 0.32383562997432436\n",
      "Epoch: 121, Accuracy: 0.9086666666666666, sparse_categorical_cross_entropy loss: 0.32381684829862273\n",
      "Epoch: 122, Accuracy: 0.9086666666666666, sparse_categorical_cross_entropy loss: 0.3237980756829887\n",
      "Epoch: 123, Accuracy: 0.9086904761904762, sparse_categorical_cross_entropy loss: 0.323779307090002\n",
      "Epoch: 124, Accuracy: 0.9086904761904762, sparse_categorical_cross_entropy loss: 0.3237605437477965\n",
      "Epoch: 125, Accuracy: 0.9086904761904762, sparse_categorical_cross_entropy loss: 0.32374178012228166\n",
      "Epoch: 126, Accuracy: 0.9086904761904762, sparse_categorical_cross_entropy loss: 0.32372302234433065\n",
      "Epoch: 127, Accuracy: 0.9087142857142857, sparse_categorical_cross_entropy loss: 0.32370426980959793\n",
      "Epoch: 128, Accuracy: 0.9087142857142857, sparse_categorical_cross_entropy loss: 0.32368552661331956\n",
      "Epoch: 129, Accuracy: 0.9087142857142857, sparse_categorical_cross_entropy loss: 0.32366679187143194\n",
      "Epoch: 130, Accuracy: 0.9087142857142857, sparse_categorical_cross_entropy loss: 0.3236480639042621\n",
      "Epoch: 131, Accuracy: 0.9087380952380952, sparse_categorical_cross_entropy loss: 0.32362934408436017\n",
      "Epoch: 132, Accuracy: 0.9087380952380952, sparse_categorical_cross_entropy loss: 0.3236106300286044\n",
      "Epoch: 133, Accuracy: 0.9087619047619048, sparse_categorical_cross_entropy loss: 0.3235919226704699\n",
      "Epoch: 134, Accuracy: 0.9087619047619048, sparse_categorical_cross_entropy loss: 0.32357322149801143\n",
      "Epoch: 135, Accuracy: 0.9087857142857143, sparse_categorical_cross_entropy loss: 0.3235545232250287\n",
      "Epoch: 136, Accuracy: 0.9087857142857143, sparse_categorical_cross_entropy loss: 0.32353583030512656\n",
      "Epoch: 137, Accuracy: 0.9087857142857143, sparse_categorical_cross_entropy loss: 0.32351714415930455\n",
      "Epoch: 138, Accuracy: 0.9088095238095238, sparse_categorical_cross_entropy loss: 0.3234984664057793\n",
      "Epoch: 139, Accuracy: 0.9088095238095238, sparse_categorical_cross_entropy loss: 0.32347979520105224\n",
      "Epoch: 140, Accuracy: 0.9088095238095238, sparse_categorical_cross_entropy loss: 0.3234611299533802\n",
      "Epoch: 141, Accuracy: 0.9088095238095238, sparse_categorical_cross_entropy loss: 0.3234424661713494\n",
      "Epoch: 142, Accuracy: 0.9088095238095238, sparse_categorical_cross_entropy loss: 0.32342380307223256\n",
      "Epoch: 143, Accuracy: 0.9088095238095238, sparse_categorical_cross_entropy loss: 0.3234051455422561\n",
      "Epoch: 144, Accuracy: 0.9088571428571428, sparse_categorical_cross_entropy loss: 0.3233864932233368\n",
      "Epoch: 145, Accuracy: 0.9088571428571428, sparse_categorical_cross_entropy loss: 0.32336784602754226\n",
      "Epoch: 146, Accuracy: 0.9088809523809523, sparse_categorical_cross_entropy loss: 0.3233492037349792\n",
      "Epoch: 147, Accuracy: 0.9088809523809523, sparse_categorical_cross_entropy loss: 0.32333056616050304\n",
      "Epoch: 148, Accuracy: 0.9088809523809523, sparse_categorical_cross_entropy loss: 0.323311924209974\n",
      "Epoch: 149, Accuracy: 0.9088571428571428, sparse_categorical_cross_entropy loss: 0.32329328907116683\n",
      "Epoch: 150, Accuracy: 0.9088571428571428, sparse_categorical_cross_entropy loss: 0.323274661125668\n",
      "Epoch: 151, Accuracy: 0.9088571428571428, sparse_categorical_cross_entropy loss: 0.3232560392868381\n",
      "Epoch: 152, Accuracy: 0.9088809523809523, sparse_categorical_cross_entropy loss: 0.323237423187012\n",
      "Epoch: 153, Accuracy: 0.9089047619047619, sparse_categorical_cross_entropy loss: 0.3232188149927347\n",
      "Epoch: 154, Accuracy: 0.9089047619047619, sparse_categorical_cross_entropy loss: 0.32320020848454284\n",
      "Epoch: 155, Accuracy: 0.9089285714285714, sparse_categorical_cross_entropy loss: 0.32318160744975083\n",
      "Epoch: 156, Accuracy: 0.9089285714285714, sparse_categorical_cross_entropy loss: 0.3231630130489444\n",
      "Epoch: 157, Accuracy: 0.9089285714285714, sparse_categorical_cross_entropy loss: 0.32314442230607665\n",
      "Epoch: 158, Accuracy: 0.908952380952381, sparse_categorical_cross_entropy loss: 0.3231258337287725\n",
      "Epoch: 159, Accuracy: 0.908952380952381, sparse_categorical_cross_entropy loss: 0.3231072461673327\n",
      "Epoch: 160, Accuracy: 0.908952380952381, sparse_categorical_cross_entropy loss: 0.32308866172443484\n",
      "Epoch: 161, Accuracy: 0.9089761904761905, sparse_categorical_cross_entropy loss: 0.3230700704726051\n",
      "Epoch: 162, Accuracy: 0.9089761904761905, sparse_categorical_cross_entropy loss: 0.32305143102872974\n",
      "Epoch: 163, Accuracy: 0.9089761904761905, sparse_categorical_cross_entropy loss: 0.3230327978730226\n",
      "Epoch: 164, Accuracy: 0.9089761904761905, sparse_categorical_cross_entropy loss: 0.3230141707697796\n",
      "Epoch: 165, Accuracy: 0.9089761904761905, sparse_categorical_cross_entropy loss: 0.32299554982054696\n",
      "Epoch: 166, Accuracy: 0.9089761904761905, sparse_categorical_cross_entropy loss: 0.3229769326122964\n",
      "Epoch: 167, Accuracy: 0.9089761904761905, sparse_categorical_cross_entropy loss: 0.3229583230573281\n",
      "Epoch: 168, Accuracy: 0.9089761904761905, sparse_categorical_cross_entropy loss: 0.32293972394355264\n",
      "Epoch: 169, Accuracy: 0.9089761904761905, sparse_categorical_cross_entropy loss: 0.32292112931238065\n",
      "Epoch: 170, Accuracy: 0.9089761904761905, sparse_categorical_cross_entropy loss: 0.32290254042826294\n",
      "Epoch: 171, Accuracy: 0.909, sparse_categorical_cross_entropy loss: 0.3228839531181187\n",
      "Epoch: 172, Accuracy: 0.909, sparse_categorical_cross_entropy loss: 0.3228653595142615\n",
      "Epoch: 173, Accuracy: 0.909, sparse_categorical_cross_entropy loss: 0.3228467739608551\n",
      "Epoch: 174, Accuracy: 0.9090238095238096, sparse_categorical_cross_entropy loss: 0.3228281978033466\n",
      "Epoch: 175, Accuracy: 0.9090238095238096, sparse_categorical_cross_entropy loss: 0.32280962846275424\n",
      "Epoch: 176, Accuracy: 0.9090238095238096, sparse_categorical_cross_entropy loss: 0.32279106449872674\n",
      "Epoch: 177, Accuracy: 0.9090238095238096, sparse_categorical_cross_entropy loss: 0.322772505346308\n",
      "Epoch: 178, Accuracy: 0.9090238095238096, sparse_categorical_cross_entropy loss: 0.32275395174446975\n",
      "Epoch: 179, Accuracy: 0.909047619047619, sparse_categorical_cross_entropy loss: 0.3227354034722141\n",
      "Epoch: 180, Accuracy: 0.909047619047619, sparse_categorical_cross_entropy loss: 0.32271686098962954\n",
      "Epoch: 181, Accuracy: 0.909047619047619, sparse_categorical_cross_entropy loss: 0.32269832351096844\n",
      "Epoch: 182, Accuracy: 0.909047619047619, sparse_categorical_cross_entropy loss: 0.32267979554614173\n",
      "Epoch: 183, Accuracy: 0.9090714285714285, sparse_categorical_cross_entropy loss: 0.32266127785197257\n",
      "Epoch: 184, Accuracy: 0.9090952380952381, sparse_categorical_cross_entropy loss: 0.3226427670889733\n",
      "Epoch: 185, Accuracy: 0.9090952380952381, sparse_categorical_cross_entropy loss: 0.3226242637167531\n",
      "Epoch: 186, Accuracy: 0.9090952380952381, sparse_categorical_cross_entropy loss: 0.3226057661251943\n",
      "Epoch: 187, Accuracy: 0.9090952380952381, sparse_categorical_cross_entropy loss: 0.32258728117958696\n",
      "Epoch: 188, Accuracy: 0.9090952380952381, sparse_categorical_cross_entropy loss: 0.32256880556435064\n",
      "Epoch: 189, Accuracy: 0.9090952380952381, sparse_categorical_cross_entropy loss: 0.32255033975298225\n",
      "Epoch: 190, Accuracy: 0.9090952380952381, sparse_categorical_cross_entropy loss: 0.3225318792710833\n",
      "Epoch: 191, Accuracy: 0.9090952380952381, sparse_categorical_cross_entropy loss: 0.3225134250281156\n",
      "Epoch: 192, Accuracy: 0.9090952380952381, sparse_categorical_cross_entropy loss: 0.32249497531367644\n",
      "Epoch: 193, Accuracy: 0.9091190476190476, sparse_categorical_cross_entropy loss: 0.32247652903918267\n",
      "Epoch: 194, Accuracy: 0.9091428571428571, sparse_categorical_cross_entropy loss: 0.3224580873187906\n",
      "Epoch: 195, Accuracy: 0.9091190476190476, sparse_categorical_cross_entropy loss: 0.3224396520328686\n",
      "Epoch: 196, Accuracy: 0.9091428571428571, sparse_categorical_cross_entropy loss: 0.3224212241740364\n",
      "Epoch: 197, Accuracy: 0.9091428571428571, sparse_categorical_cross_entropy loss: 0.322402800566397\n",
      "Epoch: 198, Accuracy: 0.9091428571428571, sparse_categorical_cross_entropy loss: 0.32238438147591847\n",
      "Epoch: 199, Accuracy: 0.9091428571428571, sparse_categorical_cross_entropy loss: 0.32236596575583154\n",
      "Epoch: 200, Accuracy: 0.9091666666666667, sparse_categorical_cross_entropy loss: 0.32234755476123367\n",
      "Epoch: 201, Accuracy: 0.9091666666666667, sparse_categorical_cross_entropy loss: 0.3223291490131501\n",
      "Epoch: 202, Accuracy: 0.9091666666666667, sparse_categorical_cross_entropy loss: 0.322310748956366\n",
      "Epoch: 203, Accuracy: 0.9091666666666667, sparse_categorical_cross_entropy loss: 0.32229235478181173\n",
      "Epoch: 204, Accuracy: 0.9091666666666667, sparse_categorical_cross_entropy loss: 0.32227397055368523\n",
      "Epoch: 205, Accuracy: 0.9091666666666667, sparse_categorical_cross_entropy loss: 0.3222555909850624\n",
      "Epoch: 206, Accuracy: 0.9091666666666667, sparse_categorical_cross_entropy loss: 0.32223721631942215\n",
      "Epoch: 207, Accuracy: 0.9091666666666667, sparse_categorical_cross_entropy loss: 0.32221884601943057\n",
      "Epoch: 208, Accuracy: 0.9091428571428571, sparse_categorical_cross_entropy loss: 0.32220048029823667\n",
      "Epoch: 209, Accuracy: 0.9091428571428571, sparse_categorical_cross_entropy loss: 0.3221821186437577\n",
      "Epoch: 210, Accuracy: 0.9091428571428571, sparse_categorical_cross_entropy loss: 0.32216376083397175\n",
      "Epoch: 211, Accuracy: 0.9091428571428571, sparse_categorical_cross_entropy loss: 0.3221454083348957\n",
      "Epoch: 212, Accuracy: 0.9091428571428571, sparse_categorical_cross_entropy loss: 0.3221270592050632\n",
      "Epoch: 213, Accuracy: 0.9091428571428571, sparse_categorical_cross_entropy loss: 0.32210871520703416\n",
      "Epoch: 214, Accuracy: 0.9091428571428571, sparse_categorical_cross_entropy loss: 0.3220903748135857\n",
      "Epoch: 215, Accuracy: 0.9091666666666667, sparse_categorical_cross_entropy loss: 0.32207203900178577\n"
     ]
    }
   ],
   "source": [
    "model.fit(X, y, epochs=500, learning_rate=0.01)"
   ]
  },
  {
   "cell_type": "code",
   "execution_count": 7,
   "id": "1f627aa9-b5ce-48ef-97c5-51f1cf98968f",
   "metadata": {},
   "outputs": [],
   "source": [
    "y_pred = model.predict(X[:10])"
   ]
  },
  {
   "cell_type": "code",
   "execution_count": 8,
   "id": "c9c28936-6992-4615-9f29-60c276196e61",
   "metadata": {},
   "outputs": [
    {
     "data": {
      "text/plain": [
       "array([[9],\n",
       "       [7],\n",
       "       [3],\n",
       "       [7],\n",
       "       [0],\n",
       "       [7],\n",
       "       [7],\n",
       "       [3],\n",
       "       [3],\n",
       "       [3]])"
      ]
     },
     "execution_count": 8,
     "metadata": {},
     "output_type": "execute_result"
    }
   ],
   "source": [
    "np.argmax(y_pred, axis=1, keepdims=True)"
   ]
  },
  {
   "cell_type": "code",
   "execution_count": 9,
   "id": "6be51941-67c7-4ef9-a22f-d1b578ae166e",
   "metadata": {},
   "outputs": [
    {
     "data": {
      "text/plain": [
       "array([[1],\n",
       "       [0],\n",
       "       [1],\n",
       "       [4],\n",
       "       [0],\n",
       "       [0],\n",
       "       [7],\n",
       "       [3],\n",
       "       [5],\n",
       "       [3]])"
      ]
     },
     "execution_count": 9,
     "metadata": {},
     "output_type": "execute_result"
    }
   ],
   "source": [
    "np.argmax(y[:10], axis=1, keepdims=True)"
   ]
  },
  {
   "cell_type": "code",
   "execution_count": 18,
   "id": "c9830457-8bba-4bd8-ac54-78a6caf6ac9f",
   "metadata": {},
   "outputs": [
    {
     "data": {
      "text/plain": [
       "(42000, 784)"
      ]
     },
     "execution_count": 18,
     "metadata": {},
     "output_type": "execute_result"
    }
   ],
   "source": [
    "# import tensorflow as tf\n",
    "X.shape"
   ]
  },
  {
   "cell_type": "code",
   "execution_count": 19,
   "id": "2cb418e4-2291-4084-8ce0-73726237a561",
   "metadata": {},
   "outputs": [],
   "source": [
    "tfmodel = tf.keras.Sequential([\n",
    "    tf.keras.layers.Dense(16, activation='relu'),\n",
    "    tf.keras.layers.Dense(16, activation='relu'),\n",
    "    tf.keras.layers.Dense(10, activation='softmax')\n",
    "])\n",
    "tfmodel.compile(loss=tf.keras.losses.CategoricalCrossentropy, metrics=['accuracy'])"
   ]
  },
  {
   "cell_type": "code",
   "execution_count": 21,
   "id": "7a1dc788-ba78-4e2c-88cb-38ae125537d4",
   "metadata": {},
   "outputs": [
    {
     "name": "stdout",
     "output_type": "stream",
     "text": [
      "Epoch 1/10\n",
      "\u001b[1m1313/1313\u001b[0m \u001b[32m━━━━━━━━━━━━━━━━━━━━\u001b[0m\u001b[37m\u001b[0m \u001b[1m6s\u001b[0m 4ms/step - accuracy: 0.9263 - loss: 0.2570\n",
      "Epoch 2/10\n",
      "\u001b[1m1313/1313\u001b[0m \u001b[32m━━━━━━━━━━━━━━━━━━━━\u001b[0m\u001b[37m\u001b[0m \u001b[1m5s\u001b[0m 4ms/step - accuracy: 0.9404 - loss: 0.2068\n",
      "Epoch 3/10\n",
      "\u001b[1m1313/1313\u001b[0m \u001b[32m━━━━━━━━━━━━━━━━━━━━\u001b[0m\u001b[37m\u001b[0m \u001b[1m11s\u001b[0m 4ms/step - accuracy: 0.9460 - loss: 0.1904\n",
      "Epoch 4/10\n",
      "\u001b[1m1313/1313\u001b[0m \u001b[32m━━━━━━━━━━━━━━━━━━━━\u001b[0m\u001b[37m\u001b[0m \u001b[1m6s\u001b[0m 5ms/step - accuracy: 0.9509 - loss: 0.1702\n",
      "Epoch 5/10\n",
      "\u001b[1m 194/1313\u001b[0m \u001b[32m━━\u001b[0m\u001b[37m━━━━━━━━━━━━━━━━━━\u001b[0m \u001b[1m4s\u001b[0m 4ms/step - accuracy: 0.9492 - loss: 0.1823"
     ]
    },
    {
     "ename": "KeyboardInterrupt",
     "evalue": "",
     "output_type": "error",
     "traceback": [
      "\u001b[31m---------------------------------------------------------------------------\u001b[39m",
      "\u001b[31mKeyboardInterrupt\u001b[39m                         Traceback (most recent call last)",
      "\u001b[36mCell\u001b[39m\u001b[36m \u001b[39m\u001b[32mIn[21]\u001b[39m\u001b[32m, line 1\u001b[39m\n\u001b[32m----> \u001b[39m\u001b[32m1\u001b[39m \u001b[43mtfmodel\u001b[49m\u001b[43m.\u001b[49m\u001b[43mfit\u001b[49m\u001b[43m(\u001b[49m\u001b[43mX\u001b[49m\u001b[43m,\u001b[49m\u001b[43m \u001b[49m\u001b[43my\u001b[49m\u001b[43m,\u001b[49m\u001b[43m \u001b[49m\u001b[43mepochs\u001b[49m\u001b[43m=\u001b[49m\u001b[32;43m10\u001b[39;49m\u001b[43m)\u001b[49m\n",
      "\u001b[36mFile \u001b[39m\u001b[32m~\\AppData\\Local\\Packages\\PythonSoftwareFoundation.Python.3.12_qbz5n2kfra8p0\\LocalCache\\local-packages\\Python312\\site-packages\\keras\\src\\utils\\traceback_utils.py:117\u001b[39m, in \u001b[36mfilter_traceback.<locals>.error_handler\u001b[39m\u001b[34m(*args, **kwargs)\u001b[39m\n\u001b[32m    115\u001b[39m filtered_tb = \u001b[38;5;28;01mNone\u001b[39;00m\n\u001b[32m    116\u001b[39m \u001b[38;5;28;01mtry\u001b[39;00m:\n\u001b[32m--> \u001b[39m\u001b[32m117\u001b[39m     \u001b[38;5;28;01mreturn\u001b[39;00m \u001b[43mfn\u001b[49m\u001b[43m(\u001b[49m\u001b[43m*\u001b[49m\u001b[43margs\u001b[49m\u001b[43m,\u001b[49m\u001b[43m \u001b[49m\u001b[43m*\u001b[49m\u001b[43m*\u001b[49m\u001b[43mkwargs\u001b[49m\u001b[43m)\u001b[49m\n\u001b[32m    118\u001b[39m \u001b[38;5;28;01mexcept\u001b[39;00m \u001b[38;5;167;01mException\u001b[39;00m \u001b[38;5;28;01mas\u001b[39;00m e:\n\u001b[32m    119\u001b[39m     filtered_tb = _process_traceback_frames(e.__traceback__)\n",
      "\u001b[36mFile \u001b[39m\u001b[32m~\\AppData\\Local\\Packages\\PythonSoftwareFoundation.Python.3.12_qbz5n2kfra8p0\\LocalCache\\local-packages\\Python312\\site-packages\\keras\\src\\backend\\tensorflow\\trainer.py:371\u001b[39m, in \u001b[36mTensorFlowTrainer.fit\u001b[39m\u001b[34m(self, x, y, batch_size, epochs, verbose, callbacks, validation_split, validation_data, shuffle, class_weight, sample_weight, initial_epoch, steps_per_epoch, validation_steps, validation_batch_size, validation_freq)\u001b[39m\n\u001b[32m    369\u001b[39m \u001b[38;5;28;01mfor\u001b[39;00m step, iterator \u001b[38;5;129;01min\u001b[39;00m epoch_iterator:\n\u001b[32m    370\u001b[39m     callbacks.on_train_batch_begin(step)\n\u001b[32m--> \u001b[39m\u001b[32m371\u001b[39m     logs = \u001b[38;5;28;43mself\u001b[39;49m\u001b[43m.\u001b[49m\u001b[43mtrain_function\u001b[49m\u001b[43m(\u001b[49m\u001b[43miterator\u001b[49m\u001b[43m)\u001b[49m\n\u001b[32m    372\u001b[39m     callbacks.on_train_batch_end(step, logs)\n\u001b[32m    373\u001b[39m     \u001b[38;5;28;01mif\u001b[39;00m \u001b[38;5;28mself\u001b[39m.stop_training:\n",
      "\u001b[36mFile \u001b[39m\u001b[32m~\\AppData\\Local\\Packages\\PythonSoftwareFoundation.Python.3.12_qbz5n2kfra8p0\\LocalCache\\local-packages\\Python312\\site-packages\\keras\\src\\backend\\tensorflow\\trainer.py:219\u001b[39m, in \u001b[36mTensorFlowTrainer._make_function.<locals>.function\u001b[39m\u001b[34m(iterator)\u001b[39m\n\u001b[32m    215\u001b[39m \u001b[38;5;28;01mdef\u001b[39;00m\u001b[38;5;250m \u001b[39m\u001b[34mfunction\u001b[39m(iterator):\n\u001b[32m    216\u001b[39m     \u001b[38;5;28;01mif\u001b[39;00m \u001b[38;5;28misinstance\u001b[39m(\n\u001b[32m    217\u001b[39m         iterator, (tf.data.Iterator, tf.distribute.DistributedIterator)\n\u001b[32m    218\u001b[39m     ):\n\u001b[32m--> \u001b[39m\u001b[32m219\u001b[39m         opt_outputs = \u001b[43mmulti_step_on_iterator\u001b[49m\u001b[43m(\u001b[49m\u001b[43miterator\u001b[49m\u001b[43m)\u001b[49m\n\u001b[32m    220\u001b[39m         \u001b[38;5;28;01mif\u001b[39;00m \u001b[38;5;129;01mnot\u001b[39;00m opt_outputs.has_value():\n\u001b[32m    221\u001b[39m             \u001b[38;5;28;01mraise\u001b[39;00m \u001b[38;5;167;01mStopIteration\u001b[39;00m\n",
      "\u001b[36mFile \u001b[39m\u001b[32m~\\AppData\\Local\\Packages\\PythonSoftwareFoundation.Python.3.12_qbz5n2kfra8p0\\LocalCache\\local-packages\\Python312\\site-packages\\tensorflow\\python\\util\\traceback_utils.py:150\u001b[39m, in \u001b[36mfilter_traceback.<locals>.error_handler\u001b[39m\u001b[34m(*args, **kwargs)\u001b[39m\n\u001b[32m    148\u001b[39m filtered_tb = \u001b[38;5;28;01mNone\u001b[39;00m\n\u001b[32m    149\u001b[39m \u001b[38;5;28;01mtry\u001b[39;00m:\n\u001b[32m--> \u001b[39m\u001b[32m150\u001b[39m   \u001b[38;5;28;01mreturn\u001b[39;00m \u001b[43mfn\u001b[49m\u001b[43m(\u001b[49m\u001b[43m*\u001b[49m\u001b[43margs\u001b[49m\u001b[43m,\u001b[49m\u001b[43m \u001b[49m\u001b[43m*\u001b[49m\u001b[43m*\u001b[49m\u001b[43mkwargs\u001b[49m\u001b[43m)\u001b[49m\n\u001b[32m    151\u001b[39m \u001b[38;5;28;01mexcept\u001b[39;00m \u001b[38;5;167;01mException\u001b[39;00m \u001b[38;5;28;01mas\u001b[39;00m e:\n\u001b[32m    152\u001b[39m   filtered_tb = _process_traceback_frames(e.__traceback__)\n",
      "\u001b[36mFile \u001b[39m\u001b[32m~\\AppData\\Local\\Packages\\PythonSoftwareFoundation.Python.3.12_qbz5n2kfra8p0\\LocalCache\\local-packages\\Python312\\site-packages\\tensorflow\\python\\eager\\polymorphic_function\\polymorphic_function.py:833\u001b[39m, in \u001b[36mFunction.__call__\u001b[39m\u001b[34m(self, *args, **kwds)\u001b[39m\n\u001b[32m    830\u001b[39m compiler = \u001b[33m\"\u001b[39m\u001b[33mxla\u001b[39m\u001b[33m\"\u001b[39m \u001b[38;5;28;01mif\u001b[39;00m \u001b[38;5;28mself\u001b[39m._jit_compile \u001b[38;5;28;01melse\u001b[39;00m \u001b[33m\"\u001b[39m\u001b[33mnonXla\u001b[39m\u001b[33m\"\u001b[39m\n\u001b[32m    832\u001b[39m \u001b[38;5;28;01mwith\u001b[39;00m OptionalXlaContext(\u001b[38;5;28mself\u001b[39m._jit_compile):\n\u001b[32m--> \u001b[39m\u001b[32m833\u001b[39m   result = \u001b[38;5;28;43mself\u001b[39;49m\u001b[43m.\u001b[49m\u001b[43m_call\u001b[49m\u001b[43m(\u001b[49m\u001b[43m*\u001b[49m\u001b[43margs\u001b[49m\u001b[43m,\u001b[49m\u001b[43m \u001b[49m\u001b[43m*\u001b[49m\u001b[43m*\u001b[49m\u001b[43mkwds\u001b[49m\u001b[43m)\u001b[49m\n\u001b[32m    835\u001b[39m new_tracing_count = \u001b[38;5;28mself\u001b[39m.experimental_get_tracing_count()\n\u001b[32m    836\u001b[39m without_tracing = (tracing_count == new_tracing_count)\n",
      "\u001b[36mFile \u001b[39m\u001b[32m~\\AppData\\Local\\Packages\\PythonSoftwareFoundation.Python.3.12_qbz5n2kfra8p0\\LocalCache\\local-packages\\Python312\\site-packages\\tensorflow\\python\\eager\\polymorphic_function\\polymorphic_function.py:878\u001b[39m, in \u001b[36mFunction._call\u001b[39m\u001b[34m(self, *args, **kwds)\u001b[39m\n\u001b[32m    875\u001b[39m \u001b[38;5;28mself\u001b[39m._lock.release()\n\u001b[32m    876\u001b[39m \u001b[38;5;66;03m# In this case we have not created variables on the first call. So we can\u001b[39;00m\n\u001b[32m    877\u001b[39m \u001b[38;5;66;03m# run the first trace but we should fail if variables are created.\u001b[39;00m\n\u001b[32m--> \u001b[39m\u001b[32m878\u001b[39m results = \u001b[43mtracing_compilation\u001b[49m\u001b[43m.\u001b[49m\u001b[43mcall_function\u001b[49m\u001b[43m(\u001b[49m\n\u001b[32m    879\u001b[39m \u001b[43m    \u001b[49m\u001b[43margs\u001b[49m\u001b[43m,\u001b[49m\u001b[43m \u001b[49m\u001b[43mkwds\u001b[49m\u001b[43m,\u001b[49m\u001b[43m \u001b[49m\u001b[38;5;28;43mself\u001b[39;49m\u001b[43m.\u001b[49m\u001b[43m_variable_creation_config\u001b[49m\n\u001b[32m    880\u001b[39m \u001b[43m\u001b[49m\u001b[43m)\u001b[49m\n\u001b[32m    881\u001b[39m \u001b[38;5;28;01mif\u001b[39;00m \u001b[38;5;28mself\u001b[39m._created_variables:\n\u001b[32m    882\u001b[39m   \u001b[38;5;28;01mraise\u001b[39;00m \u001b[38;5;167;01mValueError\u001b[39;00m(\u001b[33m\"\u001b[39m\u001b[33mCreating variables on a non-first call to a function\u001b[39m\u001b[33m\"\u001b[39m\n\u001b[32m    883\u001b[39m                    \u001b[33m\"\u001b[39m\u001b[33m decorated with tf.function.\u001b[39m\u001b[33m\"\u001b[39m)\n",
      "\u001b[36mFile \u001b[39m\u001b[32m~\\AppData\\Local\\Packages\\PythonSoftwareFoundation.Python.3.12_qbz5n2kfra8p0\\LocalCache\\local-packages\\Python312\\site-packages\\tensorflow\\python\\eager\\polymorphic_function\\tracing_compilation.py:139\u001b[39m, in \u001b[36mcall_function\u001b[39m\u001b[34m(args, kwargs, tracing_options)\u001b[39m\n\u001b[32m    137\u001b[39m bound_args = function.function_type.bind(*args, **kwargs)\n\u001b[32m    138\u001b[39m flat_inputs = function.function_type.unpack_inputs(bound_args)\n\u001b[32m--> \u001b[39m\u001b[32m139\u001b[39m \u001b[38;5;28;01mreturn\u001b[39;00m \u001b[43mfunction\u001b[49m\u001b[43m.\u001b[49m\u001b[43m_call_flat\u001b[49m\u001b[43m(\u001b[49m\u001b[43m  \u001b[49m\u001b[38;5;66;43;03m# pylint: disable=protected-access\u001b[39;49;00m\n\u001b[32m    140\u001b[39m \u001b[43m    \u001b[49m\u001b[43mflat_inputs\u001b[49m\u001b[43m,\u001b[49m\u001b[43m \u001b[49m\u001b[43mcaptured_inputs\u001b[49m\u001b[43m=\u001b[49m\u001b[43mfunction\u001b[49m\u001b[43m.\u001b[49m\u001b[43mcaptured_inputs\u001b[49m\n\u001b[32m    141\u001b[39m \u001b[43m\u001b[49m\u001b[43m)\u001b[49m\n",
      "\u001b[36mFile \u001b[39m\u001b[32m~\\AppData\\Local\\Packages\\PythonSoftwareFoundation.Python.3.12_qbz5n2kfra8p0\\LocalCache\\local-packages\\Python312\\site-packages\\tensorflow\\python\\eager\\polymorphic_function\\concrete_function.py:1322\u001b[39m, in \u001b[36mConcreteFunction._call_flat\u001b[39m\u001b[34m(self, tensor_inputs, captured_inputs)\u001b[39m\n\u001b[32m   1318\u001b[39m possible_gradient_type = gradients_util.PossibleTapeGradientTypes(args)\n\u001b[32m   1319\u001b[39m \u001b[38;5;28;01mif\u001b[39;00m (possible_gradient_type == gradients_util.POSSIBLE_GRADIENT_TYPES_NONE\n\u001b[32m   1320\u001b[39m     \u001b[38;5;129;01mand\u001b[39;00m executing_eagerly):\n\u001b[32m   1321\u001b[39m   \u001b[38;5;66;03m# No tape is watching; skip to running the function.\u001b[39;00m\n\u001b[32m-> \u001b[39m\u001b[32m1322\u001b[39m   \u001b[38;5;28;01mreturn\u001b[39;00m \u001b[38;5;28;43mself\u001b[39;49m\u001b[43m.\u001b[49m\u001b[43m_inference_function\u001b[49m\u001b[43m.\u001b[49m\u001b[43mcall_preflattened\u001b[49m\u001b[43m(\u001b[49m\u001b[43margs\u001b[49m\u001b[43m)\u001b[49m\n\u001b[32m   1323\u001b[39m forward_backward = \u001b[38;5;28mself\u001b[39m._select_forward_and_backward_functions(\n\u001b[32m   1324\u001b[39m     args,\n\u001b[32m   1325\u001b[39m     possible_gradient_type,\n\u001b[32m   1326\u001b[39m     executing_eagerly)\n\u001b[32m   1327\u001b[39m forward_function, args_with_tangents = forward_backward.forward()\n",
      "\u001b[36mFile \u001b[39m\u001b[32m~\\AppData\\Local\\Packages\\PythonSoftwareFoundation.Python.3.12_qbz5n2kfra8p0\\LocalCache\\local-packages\\Python312\\site-packages\\tensorflow\\python\\eager\\polymorphic_function\\atomic_function.py:216\u001b[39m, in \u001b[36mAtomicFunction.call_preflattened\u001b[39m\u001b[34m(self, args)\u001b[39m\n\u001b[32m    214\u001b[39m \u001b[38;5;28;01mdef\u001b[39;00m\u001b[38;5;250m \u001b[39m\u001b[34mcall_preflattened\u001b[39m(\u001b[38;5;28mself\u001b[39m, args: Sequence[core.Tensor]) -> Any:\n\u001b[32m    215\u001b[39m \u001b[38;5;250m  \u001b[39m\u001b[33;03m\"\"\"Calls with flattened tensor inputs and returns the structured output.\"\"\"\u001b[39;00m\n\u001b[32m--> \u001b[39m\u001b[32m216\u001b[39m   flat_outputs = \u001b[38;5;28;43mself\u001b[39;49m\u001b[43m.\u001b[49m\u001b[43mcall_flat\u001b[49m\u001b[43m(\u001b[49m\u001b[43m*\u001b[49m\u001b[43margs\u001b[49m\u001b[43m)\u001b[49m\n\u001b[32m    217\u001b[39m   \u001b[38;5;28;01mreturn\u001b[39;00m \u001b[38;5;28mself\u001b[39m.function_type.pack_output(flat_outputs)\n",
      "\u001b[36mFile \u001b[39m\u001b[32m~\\AppData\\Local\\Packages\\PythonSoftwareFoundation.Python.3.12_qbz5n2kfra8p0\\LocalCache\\local-packages\\Python312\\site-packages\\tensorflow\\python\\eager\\polymorphic_function\\atomic_function.py:251\u001b[39m, in \u001b[36mAtomicFunction.call_flat\u001b[39m\u001b[34m(self, *args)\u001b[39m\n\u001b[32m    249\u001b[39m \u001b[38;5;28;01mwith\u001b[39;00m record.stop_recording():\n\u001b[32m    250\u001b[39m   \u001b[38;5;28;01mif\u001b[39;00m \u001b[38;5;28mself\u001b[39m._bound_context.executing_eagerly():\n\u001b[32m--> \u001b[39m\u001b[32m251\u001b[39m     outputs = \u001b[38;5;28;43mself\u001b[39;49m\u001b[43m.\u001b[49m\u001b[43m_bound_context\u001b[49m\u001b[43m.\u001b[49m\u001b[43mcall_function\u001b[49m\u001b[43m(\u001b[49m\n\u001b[32m    252\u001b[39m \u001b[43m        \u001b[49m\u001b[38;5;28;43mself\u001b[39;49m\u001b[43m.\u001b[49m\u001b[43mname\u001b[49m\u001b[43m,\u001b[49m\n\u001b[32m    253\u001b[39m \u001b[43m        \u001b[49m\u001b[38;5;28;43mlist\u001b[39;49m\u001b[43m(\u001b[49m\u001b[43margs\u001b[49m\u001b[43m)\u001b[49m\u001b[43m,\u001b[49m\n\u001b[32m    254\u001b[39m \u001b[43m        \u001b[49m\u001b[38;5;28;43mlen\u001b[39;49m\u001b[43m(\u001b[49m\u001b[38;5;28;43mself\u001b[39;49m\u001b[43m.\u001b[49m\u001b[43mfunction_type\u001b[49m\u001b[43m.\u001b[49m\u001b[43mflat_outputs\u001b[49m\u001b[43m)\u001b[49m\u001b[43m,\u001b[49m\n\u001b[32m    255\u001b[39m \u001b[43m    \u001b[49m\u001b[43m)\u001b[49m\n\u001b[32m    256\u001b[39m   \u001b[38;5;28;01melse\u001b[39;00m:\n\u001b[32m    257\u001b[39m     outputs = make_call_op_in_graph(\n\u001b[32m    258\u001b[39m         \u001b[38;5;28mself\u001b[39m,\n\u001b[32m    259\u001b[39m         \u001b[38;5;28mlist\u001b[39m(args),\n\u001b[32m    260\u001b[39m         \u001b[38;5;28mself\u001b[39m._bound_context.function_call_options.as_attrs(),\n\u001b[32m    261\u001b[39m     )\n",
      "\u001b[36mFile \u001b[39m\u001b[32m~\\AppData\\Local\\Packages\\PythonSoftwareFoundation.Python.3.12_qbz5n2kfra8p0\\LocalCache\\local-packages\\Python312\\site-packages\\tensorflow\\python\\eager\\context.py:1688\u001b[39m, in \u001b[36mContext.call_function\u001b[39m\u001b[34m(self, name, tensor_inputs, num_outputs)\u001b[39m\n\u001b[32m   1686\u001b[39m cancellation_context = cancellation.context()\n\u001b[32m   1687\u001b[39m \u001b[38;5;28;01mif\u001b[39;00m cancellation_context \u001b[38;5;129;01mis\u001b[39;00m \u001b[38;5;28;01mNone\u001b[39;00m:\n\u001b[32m-> \u001b[39m\u001b[32m1688\u001b[39m   outputs = \u001b[43mexecute\u001b[49m\u001b[43m.\u001b[49m\u001b[43mexecute\u001b[49m\u001b[43m(\u001b[49m\n\u001b[32m   1689\u001b[39m \u001b[43m      \u001b[49m\u001b[43mname\u001b[49m\u001b[43m.\u001b[49m\u001b[43mdecode\u001b[49m\u001b[43m(\u001b[49m\u001b[33;43m\"\u001b[39;49m\u001b[33;43mutf-8\u001b[39;49m\u001b[33;43m\"\u001b[39;49m\u001b[43m)\u001b[49m\u001b[43m,\u001b[49m\n\u001b[32m   1690\u001b[39m \u001b[43m      \u001b[49m\u001b[43mnum_outputs\u001b[49m\u001b[43m=\u001b[49m\u001b[43mnum_outputs\u001b[49m\u001b[43m,\u001b[49m\n\u001b[32m   1691\u001b[39m \u001b[43m      \u001b[49m\u001b[43minputs\u001b[49m\u001b[43m=\u001b[49m\u001b[43mtensor_inputs\u001b[49m\u001b[43m,\u001b[49m\n\u001b[32m   1692\u001b[39m \u001b[43m      \u001b[49m\u001b[43mattrs\u001b[49m\u001b[43m=\u001b[49m\u001b[43mattrs\u001b[49m\u001b[43m,\u001b[49m\n\u001b[32m   1693\u001b[39m \u001b[43m      \u001b[49m\u001b[43mctx\u001b[49m\u001b[43m=\u001b[49m\u001b[38;5;28;43mself\u001b[39;49m\u001b[43m,\u001b[49m\n\u001b[32m   1694\u001b[39m \u001b[43m  \u001b[49m\u001b[43m)\u001b[49m\n\u001b[32m   1695\u001b[39m \u001b[38;5;28;01melse\u001b[39;00m:\n\u001b[32m   1696\u001b[39m   outputs = execute.execute_with_cancellation(\n\u001b[32m   1697\u001b[39m       name.decode(\u001b[33m\"\u001b[39m\u001b[33mutf-8\u001b[39m\u001b[33m\"\u001b[39m),\n\u001b[32m   1698\u001b[39m       num_outputs=num_outputs,\n\u001b[32m   (...)\u001b[39m\u001b[32m   1702\u001b[39m       cancellation_manager=cancellation_context,\n\u001b[32m   1703\u001b[39m   )\n",
      "\u001b[36mFile \u001b[39m\u001b[32m~\\AppData\\Local\\Packages\\PythonSoftwareFoundation.Python.3.12_qbz5n2kfra8p0\\LocalCache\\local-packages\\Python312\\site-packages\\tensorflow\\python\\eager\\execute.py:53\u001b[39m, in \u001b[36mquick_execute\u001b[39m\u001b[34m(op_name, num_outputs, inputs, attrs, ctx, name)\u001b[39m\n\u001b[32m     51\u001b[39m \u001b[38;5;28;01mtry\u001b[39;00m:\n\u001b[32m     52\u001b[39m   ctx.ensure_initialized()\n\u001b[32m---> \u001b[39m\u001b[32m53\u001b[39m   tensors = \u001b[43mpywrap_tfe\u001b[49m\u001b[43m.\u001b[49m\u001b[43mTFE_Py_Execute\u001b[49m\u001b[43m(\u001b[49m\u001b[43mctx\u001b[49m\u001b[43m.\u001b[49m\u001b[43m_handle\u001b[49m\u001b[43m,\u001b[49m\u001b[43m \u001b[49m\u001b[43mdevice_name\u001b[49m\u001b[43m,\u001b[49m\u001b[43m \u001b[49m\u001b[43mop_name\u001b[49m\u001b[43m,\u001b[49m\n\u001b[32m     54\u001b[39m \u001b[43m                                      \u001b[49m\u001b[43minputs\u001b[49m\u001b[43m,\u001b[49m\u001b[43m \u001b[49m\u001b[43mattrs\u001b[49m\u001b[43m,\u001b[49m\u001b[43m \u001b[49m\u001b[43mnum_outputs\u001b[49m\u001b[43m)\u001b[49m\n\u001b[32m     55\u001b[39m \u001b[38;5;28;01mexcept\u001b[39;00m core._NotOkStatusException \u001b[38;5;28;01mas\u001b[39;00m e:\n\u001b[32m     56\u001b[39m   \u001b[38;5;28;01mif\u001b[39;00m name \u001b[38;5;129;01mis\u001b[39;00m \u001b[38;5;129;01mnot\u001b[39;00m \u001b[38;5;28;01mNone\u001b[39;00m:\n",
      "\u001b[31mKeyboardInterrupt\u001b[39m: "
     ]
    }
   ],
   "source": [
    "tfmodel.fit(X, y, epochs=10)"
   ]
  },
  {
   "cell_type": "code",
   "execution_count": null,
   "id": "5cc4ac4d-113b-44bf-abe8-0c11c6a2f90d",
   "metadata": {},
   "outputs": [],
   "source": []
  }
 ],
 "metadata": {
  "kernelspec": {
   "display_name": "Python 3 (ipykernel)",
   "language": "python",
   "name": "python3"
  },
  "language_info": {
   "codemirror_mode": {
    "name": "ipython",
    "version": 3
   },
   "file_extension": ".py",
   "mimetype": "text/x-python",
   "name": "python",
   "nbconvert_exporter": "python",
   "pygments_lexer": "ipython3",
   "version": "3.12.10"
  }
 },
 "nbformat": 4,
 "nbformat_minor": 5
}
