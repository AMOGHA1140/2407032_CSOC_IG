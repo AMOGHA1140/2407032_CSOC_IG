{
 "cells": [
  {
   "cell_type": "code",
   "execution_count": 1,
   "id": "bee88c14",
   "metadata": {},
   "outputs": [],
   "source": [
    "import numpy as np\n",
    "import pandas as pd\n",
    "from sklearn.model_selection import train_test_split\n",
    "from main import Sequential, Dense, accuracy, SGD, Momentum, Adam, L2Regularizer\n",
    "import matplotlib.pyplot as plt"
   ]
  },
  {
   "cell_type": "code",
   "execution_count": 2,
   "id": "a3296507-206c-47bc-87ce-7b5e93f2d4ca",
   "metadata": {},
   "outputs": [],
   "source": [
    "data = pd.read_csv(\"mnist_data.csv\")"
   ]
  },
  {
   "cell_type": "code",
   "execution_count": 3,
   "id": "3b0e350b-f132-445a-b445-22bd4a1707c2",
   "metadata": {},
   "outputs": [],
   "source": [
    "X = data.drop(columns=['label'])\n",
    "y = data['label']\n",
    "y = pd.get_dummies(y)\n",
    "X  = X/255.0\n",
    "X = X.to_numpy()\n",
    "y = y.to_numpy().astype(np.float32)\n",
    "\n",
    "X, X_test, y, y_test = train_test_split(X, y, train_size=0.3)\n"
   ]
  },
  {
   "cell_type": "code",
   "execution_count": null,
   "id": "a7dfd82b-3133-473e-b9fa-1dc0340b38a5",
   "metadata": {},
   "outputs": [],
   "source": []
  },
  {
   "cell_type": "code",
   "execution_count": 4,
   "id": "d1513d5b-5de3-4c37-b746-ee4ec7602104",
   "metadata": {},
   "outputs": [],
   "source": [
    "\n",
    "model = Sequential([\n",
    "    Dense(16, regularizer=L2Regularizer(0.001)),\n",
    "    Dense(16, regularizer=L2Regularizer(0.001)),\n",
    "    Dense(10, regularizer=L2Regularizer(0.001), activation='softmax')\n",
    "])\n",
    "model.compile(loss='sparse_categorical_cross_entropy', optimizer=Adam(model, learning_rate=0.001))"
   ]
  },
  {
   "cell_type": "code",
   "execution_count": 5,
   "id": "112d8087-a2d6-43bb-97be-03392ffe7ece",
   "metadata": {},
   "outputs": [
    {
     "name": "stdout",
     "output_type": "stream",
     "text": [
      "Epoch: 1, time taken: 1.2385823726654053, accuracy=0.7221340947546531, sparse_categorical_cross_entropy loss=0.9508936383729637\n",
      "Epoch: 2, time taken: 1.1412196159362793, accuracy=0.8945642978003384, sparse_categorical_cross_entropy loss=0.4173459009258192\n",
      "Epoch: 3, time taken: 1.5052266120910645, accuracy=0.9116698392554992, sparse_categorical_cross_entropy loss=0.354172642281089\n",
      "Epoch: 4, time taken: 1.5333101749420166, accuracy=0.9173804991539763, sparse_categorical_cross_entropy loss=0.3280615515862506\n",
      "Epoch: 5, time taken: 1.3911759853363037, accuracy=0.9265810067681896, sparse_categorical_cross_entropy loss=0.3074289562287822\n",
      "Epoch: 6, time taken: 1.1506421566009521, accuracy=0.931577834179357, sparse_categorical_cross_entropy loss=0.2956116522629328\n",
      "Epoch: 7, time taken: 1.220388650894165, accuracy=0.93350782571912, sparse_categorical_cross_entropy loss=0.28377792117256967\n",
      "Epoch: 8, time taken: 1.2440986633300781, accuracy=0.9378172588832487, sparse_categorical_cross_entropy loss=0.2741491640802791\n",
      "Epoch: 9, time taken: 1.3311874866485596, accuracy=0.9392978003384094, sparse_categorical_cross_entropy loss=0.2647591824710079\n",
      "Epoch: 10, time taken: 1.2457857131958008, accuracy=0.9432899746192893, sparse_categorical_cross_entropy loss=0.25752881190421856\n",
      "Epoch: 11, time taken: 1.2445764541625977, accuracy=0.9457751692047378, sparse_categorical_cross_entropy loss=0.2500779856357977\n",
      "Epoch: 12, time taken: 1.1264369487762451, accuracy=0.9481546108291032, sparse_categorical_cross_entropy loss=0.24515431794277528\n",
      "Epoch: 13, time taken: 1.2108306884765625, accuracy=0.9501903553299492, sparse_categorical_cross_entropy loss=0.23833427821865794\n",
      "Epoch: 14, time taken: 1.1719598770141602, accuracy=0.9505340524534688, sparse_categorical_cross_entropy loss=0.23382369274363546\n",
      "Epoch: 15, time taken: 1.1190710067749023, accuracy=0.9528606175972927, sparse_categorical_cross_entropy loss=0.2276019950676236\n",
      "Epoch: 16, time taken: 1.2055096626281738, accuracy=0.9539181472081218, sparse_categorical_cross_entropy loss=0.22743149419965636\n",
      "Epoch: 17, time taken: 1.374239206314087, accuracy=0.9547112944162437, sparse_categorical_cross_entropy loss=0.222650677668576\n",
      "Epoch: 18, time taken: 1.55623459815979, accuracy=0.956614847715736, sparse_categorical_cross_entropy loss=0.21699806499276436\n",
      "Epoch: 19, time taken: 1.3246912956237793, accuracy=0.9574608714043993, sparse_categorical_cross_entropy loss=0.21447774175678466\n",
      "Epoch: 20, time taken: 1.4479563236236572, accuracy=0.9576988155668358, sparse_categorical_cross_entropy loss=0.21202178022718585\n",
      "Epoch: 21, time taken: 1.3904411792755127, accuracy=0.9599725042301185, sparse_categorical_cross_entropy loss=0.21054905179124744\n",
      "Epoch: 22, time taken: 1.4921181201934814, accuracy=0.9640439932318104, sparse_categorical_cross_entropy loss=0.20432939884881315\n",
      "Epoch: 23, time taken: 1.236522912979126, accuracy=0.9623255076142132, sparse_categorical_cross_entropy loss=0.20410658361590817\n",
      "Epoch: 24, time taken: 1.2556254863739014, accuracy=0.9634623519458545, sparse_categorical_cross_entropy loss=0.1991313991258185\n",
      "Epoch: 25, time taken: 1.1816701889038086, accuracy=0.9635152284263959, sparse_categorical_cross_entropy loss=0.19804119162115708\n",
      "Epoch: 26, time taken: 1.408604383468628, accuracy=0.9643612521150592, sparse_categorical_cross_entropy loss=0.19696517024783275\n",
      "Epoch: 27, time taken: 1.1659564971923828, accuracy=0.966132614213198, sparse_categorical_cross_entropy loss=0.1902284871776734\n",
      "Epoch: 28, time taken: 1.4540064334869385, accuracy=0.9667406937394246, sparse_categorical_cross_entropy loss=0.1914526622697964\n",
      "Epoch: 29, time taken: 1.475881576538086, accuracy=0.9667935702199663, sparse_categorical_cross_entropy loss=0.18977972917111355\n",
      "Epoch: 30, time taken: 1.52400541305542, accuracy=0.968644247038917, sparse_categorical_cross_entropy loss=0.18678733045226326\n",
      "Epoch: 31, time taken: 1.4009788036346436, accuracy=0.9688293147208121, sparse_categorical_cross_entropy loss=0.18292056210272684\n",
      "Epoch: 32, time taken: 1.1526005268096924, accuracy=0.9689615059221658, sparse_categorical_cross_entropy loss=0.18726859831362427\n",
      "Epoch: 33, time taken: 1.291762351989746, accuracy=0.9684591793570221, sparse_categorical_cross_entropy loss=0.1841661570595016\n",
      "Epoch: 34, time taken: 1.2919621467590332, accuracy=0.9699925972927241, sparse_categorical_cross_entropy loss=0.18054362955235778\n",
      "Epoch: 35, time taken: 2.23246169090271, accuracy=0.9706535532994924, sparse_categorical_cross_entropy loss=0.17928088012493482\n",
      "Epoch: 36, time taken: 2.3066506385803223, accuracy=0.9713409475465312, sparse_categorical_cross_entropy loss=0.1770250436943316\n",
      "Epoch: 37, time taken: 1.9308996200561523, accuracy=0.9734560067681896, sparse_categorical_cross_entropy loss=0.17504922442667056\n",
      "Epoch: 38, time taken: 1.541883945465088, accuracy=0.972345600676819, sparse_categorical_cross_entropy loss=0.17647207576700158\n",
      "Epoch: 39, time taken: 1.4787676334381104, accuracy=0.974381345177665, sparse_categorical_cross_entropy loss=0.17268959696484334\n",
      "Epoch: 40, time taken: 1.3503124713897705, accuracy=0.9739847715736041, sparse_categorical_cross_entropy loss=0.17226375286340917\n",
      "Epoch: 41, time taken: 1.2534499168395996, accuracy=0.9736410744500845, sparse_categorical_cross_entropy loss=0.17115159304577995\n",
      "Epoch: 42, time taken: 1.289184808731079, accuracy=0.9759412013536378, sparse_categorical_cross_entropy loss=0.17086642718337264\n",
      "Epoch: 43, time taken: 1.2183504104614258, accuracy=0.9751744923857868, sparse_categorical_cross_entropy loss=0.17082328187593815\n",
      "Epoch: 44, time taken: 1.7748398780822754, accuracy=0.9758618866328257, sparse_categorical_cross_entropy loss=0.16861131505906637\n",
      "Epoch: 45, time taken: 1.731842041015625, accuracy=0.9767079103214891, sparse_categorical_cross_entropy loss=0.16887028768070228\n",
      "Epoch: 46, time taken: 1.4425990581512451, accuracy=0.9767607868020305, sparse_categorical_cross_entropy loss=0.1659848213511072\n",
      "Epoch: 47, time taken: 1.5392827987670898, accuracy=0.9769194162436549, sparse_categorical_cross_entropy loss=0.165325284200204\n",
      "Epoch: 48, time taken: 1.2424256801605225, accuracy=0.9772631133671743, sparse_categorical_cross_entropy loss=0.16530324999582516\n",
      "Epoch: 49, time taken: 1.039811134338379, accuracy=0.9782413282571911, sparse_categorical_cross_entropy loss=0.16588891353309398\n",
      "Epoch: 50, time taken: 1.1973271369934082, accuracy=0.9781091370558376, sparse_categorical_cross_entropy loss=0.16520441901755697\n"
     ]
    }
   ],
   "source": [
    "(train_loss, train_accuracy), (test_loss, test_accuracy) = model.fit(X, y, epochs=50, X_test=X_test, y_test=y_test)"
   ]
  },
  {
   "cell_type": "code",
   "execution_count": 7,
   "id": "1f627aa9-b5ce-48ef-97c5-51f1cf98968f",
   "metadata": {},
   "outputs": [
    {
     "data": {
      "text/plain": [
       "np.float64(0.9380952380952381)"
      ]
     },
     "execution_count": 7,
     "metadata": {},
     "output_type": "execute_result"
    }
   ],
   "source": [
    "# A = model.pre\n",
    "y_pred = model.predict(X_test)\n",
    "y_pred.shape\n",
    "y_pred\n",
    "temp = np.zeros_like(y_pred)\n",
    "temp[np.arange(y_pred.shape[0]),np.argmax(y_pred, axis=1)] = True\n",
    "accuracy(temp, y_test)\n",
    "\n"
   ]
  },
  {
   "cell_type": "code",
   "execution_count": 8,
   "id": "c9c28936-6992-4615-9f29-60c276196e61",
   "metadata": {},
   "outputs": [
    {
     "name": "stdout",
     "output_type": "stream",
     "text": [
      "0.9380952380952381\n",
      "45\n"
     ]
    },
    {
     "data": {
      "text/plain": [
       "[<matplotlib.lines.Line2D at 0x1b4baaf6630>]"
      ]
     },
     "execution_count": 8,
     "metadata": {},
     "output_type": "execute_result"
    },
    {
     "data": {
      "image/png": "[encoded data removed]",
      "text/plain": [
       "<Figure size 640x480 with 1 Axes>"
      ]
     },
     "metadata": {},
     "output_type": "display_data"
    }
   ],
   "source": [
    "print(np.max(test_accuracy))\n",
    "print(np.argmin(test_loss))\n",
    "plt.plot(test_accuracy)\n",
    "plt.plot(test_loss)"
   ]
  },
  {
   "cell_type": "code",
   "execution_count": 9,
   "id": "6be51941-67c7-4ef9-a22f-d1b578ae166e",
   "metadata": {},
   "outputs": [
    {
     "data": {
      "text/plain": [
       "[<matplotlib.lines.Line2D at 0x1b4bac316d0>]"
      ]
     },
     "execution_count": 9,
     "metadata": {},
     "output_type": "execute_result"
    },
    {
     "data": {
      "image/png": "[encoded data removed]",
      "text/plain": [
       "<Figure size 640x480 with 1 Axes>"
      ]
     },
     "metadata": {},
     "output_type": "display_data"
    }
   ],
   "source": [
    "plt.plot(train_accuracy)\n",
    "plt.plot(train_loss)"
   ]
  },
  {
   "cell_type": "code",
   "execution_count": 10,
   "id": "c9830457-8bba-4bd8-ac54-78a6caf6ac9f",
   "metadata": {},
   "outputs": [
    {
     "data": {
      "text/plain": [
       "(12600, 784)"
      ]
     },
     "execution_count": 10,
     "metadata": {},
     "output_type": "execute_result"
    }
   ],
   "source": [
    "# import tensorflow as tf\n",
    "X.shape"
   ]
  },
  {
   "cell_type": "code",
   "execution_count": 11,
   "id": "2cb418e4-2291-4084-8ce0-73726237a561",
   "metadata": {},
   "outputs": [],
   "source": [
    "# tfmodel = tf.keras.Sequential([\n",
    "#     tf.keras.layers.Dense(16, activation='relu'),\n",
    "#     tf.keras.layers.Dense(16, activation='relu'),\n",
    "#     tf.keras.layers.Dense(10, activation='softmax')\n",
    "# ])\n",
    "# tfmodel.compile(loss=tf.keras.losses.CategoricalCrossentropy, metrics=['accuracy'])"
   ]
  },
  {
   "cell_type": "code",
   "execution_count": 12,
   "id": "7a1dc788-ba78-4e2c-88cb-38ae125537d4",
   "metadata": {},
   "outputs": [],
   "source": [
    "# tfmodel.fit(X, y, epochs=10)"
   ]
  },
  {
   "cell_type": "code",
   "execution_count": null,
   "id": "5cc4ac4d-113b-44bf-abe8-0c11c6a2f90d",
   "metadata": {},
   "outputs": [],
   "source": []
  },
  {
   "cell_type": "code",
   "execution_count": null,
   "id": "f49d6934-a065-41ab-8bbe-19f2eaf53d38",
   "metadata": {},
   "outputs": [],
   "source": []
  }
 ],
 "metadata": {
  "kernelspec": {
   "display_name": "Python 3 (ipykernel)",
   "language": "python",
   "name": "python3"
  },
  "language_info": {
   "codemirror_mode": {
    "name": "ipython",
    "version": 3
   },
   "file_extension": ".py",
   "mimetype": "text/x-python",
   "name": "python",
   "nbconvert_exporter": "python",
   "pygments_lexer": "ipython3",
   "version": "3.12.10"
  }
 },
 "nbformat": 4,
 "nbformat_minor": 5
}
