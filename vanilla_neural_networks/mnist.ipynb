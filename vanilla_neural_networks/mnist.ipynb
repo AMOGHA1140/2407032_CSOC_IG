{
 "cells": [
  {
   "cell_type": "code",
   "execution_count": 1,
   "id": "bee88c14",
   "metadata": {},
   "outputs": [],
   "source": [
    "import numpy as np\n",
    "import pandas as pd\n",
    "from sklearn.model_selection import train_test_split\n",
    "from main import Sequential, Dense, accuracy, SGD, Momentum, Adam\n",
    "import matplotlib.pyplot as plt"
   ]
  },
  {
   "cell_type": "code",
   "execution_count": 2,
   "id": "a3296507-206c-47bc-87ce-7b5e93f2d4ca",
   "metadata": {},
   "outputs": [],
   "source": [
    "data = pd.read_csv(\"mnist_data.csv\")"
   ]
  },
  {
   "cell_type": "code",
   "execution_count": 3,
   "id": "3b0e350b-f132-445a-b445-22bd4a1707c2",
   "metadata": {},
   "outputs": [],
   "source": [
    "X = data.drop(columns=['label'])\n",
    "y = data['label']\n",
    "y = pd.get_dummies(y)\n",
    "X  = X/255.0\n",
    "X = X.to_numpy()\n",
    "y = y.to_numpy().astype(np.float32)\n",
    "\n",
    "X, X_test, y, y_test = train_test_split(X, y, train_size=0.3)\n"
   ]
  },
  {
   "cell_type": "code",
   "execution_count": null,
   "id": "a7dfd82b-3133-473e-b9fa-1dc0340b38a5",
   "metadata": {},
   "outputs": [],
   "source": []
  },
  {
   "cell_type": "code",
   "execution_count": 4,
   "id": "d1513d5b-5de3-4c37-b746-ee4ec7602104",
   "metadata": {},
   "outputs": [],
   "source": [
    "\n",
    "model = Sequential([\n",
    "    Dense(16),\n",
    "    Dense(16),\n",
    "    Dense(10, activation='softmax')\n",
    "])\n",
    "model.compile(loss='sparse_categorical_cross_entropy', optimizer=Adam(model, learning_rate=0.001))"
   ]
  },
  {
   "cell_type": "code",
   "execution_count": null,
   "id": "112d8087-a2d6-43bb-97be-03392ffe7ece",
   "metadata": {},
   "outputs": [
    {
     "name": "stdout",
     "output_type": "stream",
     "text": [
      "Epoch: 1, time taken: 0.8513777256011963, accuracy=0.7148900169204738, sparse_categorical_cross_entropy loss=0.9571661642820244\n",
      "Epoch: 2, time taken: 1.0121588706970215, accuracy=0.896150592216582, sparse_categorical_cross_entropy loss=0.36508042600533935\n",
      "Epoch: 3, time taken: 1.0269501209259033, accuracy=0.917406937394247, sparse_categorical_cross_entropy loss=0.2932210685332956\n",
      "Epoch: 4, time taken: 1.0518851280212402, accuracy=0.9260522419627749, sparse_categorical_cross_entropy loss=0.2572425858271998\n",
      "Epoch: 5, time taken: 0.9921829700469971, accuracy=0.9330583756345178, sparse_categorical_cross_entropy loss=0.2340000185176197\n",
      "Epoch: 6, time taken: 0.9322996139526367, accuracy=0.9388483502538071, sparse_categorical_cross_entropy loss=0.21246301843604257\n",
      "Epoch: 7, time taken: 1.033573865890503, accuracy=0.9424703891708968, sparse_categorical_cross_entropy loss=0.19703469398068751\n",
      "Epoch: 8, time taken: 1.0557787418365479, accuracy=0.9470177664974619, sparse_categorical_cross_entropy loss=0.18502758776829162\n",
      "Epoch: 9, time taken: 0.9425888061523438, accuracy=0.9490535109983079, sparse_categorical_cross_entropy loss=0.17451061284509684\n",
      "Epoch: 10, time taken: 0.9241199493408203, accuracy=0.9528870558375635, sparse_categorical_cross_entropy loss=0.16404634619212485\n",
      "Epoch: 11, time taken: 1.0209600925445557, accuracy=0.9554251269035533, sparse_categorical_cross_entropy loss=0.15385506648100766\n",
      "Epoch: 12, time taken: 0.9913053512573242, accuracy=0.9583333333333333, sparse_categorical_cross_entropy loss=0.14498660412594128\n",
      "Epoch: 13, time taken: 1.0947551727294922, accuracy=0.9584126480541455, sparse_categorical_cross_entropy loss=0.13994711393739248\n",
      "Epoch: 14, time taken: 0.8335316181182861, accuracy=0.9607920896785109, sparse_categorical_cross_entropy loss=0.13312388144145335\n",
      "Epoch: 15, time taken: 1.0273818969726562, accuracy=0.9650750846023688, sparse_categorical_cross_entropy loss=0.1249352161029894\n",
      "Epoch: 16, time taken: 1.0195128917694092, accuracy=0.9649164551607444, sparse_categorical_cross_entropy loss=0.11991936098264737\n",
      "Epoch: 17, time taken: 1.1812078952789307, accuracy=0.9674280879864636, sparse_categorical_cross_entropy loss=0.11363938225804462\n",
      "Epoch: 18, time taken: 1.2387349605560303, accuracy=0.9701776649746193, sparse_categorical_cross_entropy loss=0.10549413563869296\n",
      "Epoch: 19, time taken: 1.2058470249176025, accuracy=0.9711823181049068, sparse_categorical_cross_entropy loss=0.10106991474889228\n",
      "Epoch: 20, time taken: 1.2535123825073242, accuracy=0.9729801184433164, sparse_categorical_cross_entropy loss=0.09617818897518926\n",
      "Epoch: 21, time taken: 1.2312285900115967, accuracy=0.974381345177665, sparse_categorical_cross_entropy loss=0.09037922114153196\n",
      "Epoch: 22, time taken: 1.261993169784546, accuracy=0.9741169627749576, sparse_categorical_cross_entropy loss=0.08683327115456273\n",
      "Epoch: 23, time taken: 1.2560722827911377, accuracy=0.9772631133671743, sparse_categorical_cross_entropy loss=0.08285184073887311\n",
      "Epoch: 24, time taken: 1.3127784729003906, accuracy=0.9782677664974619, sparse_categorical_cross_entropy loss=0.0779967057951641\n",
      "Epoch: 25, time taken: 1.254246473312378, accuracy=0.9785057106598984, sparse_categorical_cross_entropy loss=0.07355706586897141\n",
      "Epoch: 26, time taken: 1.2502110004425049, accuracy=0.9790609137055838, sparse_categorical_cross_entropy loss=0.0707784889283836\n",
      "Epoch: 27, time taken: 1.4082202911376953, accuracy=0.9811759729272419, sparse_categorical_cross_entropy loss=0.06584348732878305\n",
      "Epoch: 28, time taken: 1.1151480674743652, accuracy=0.9813610406091371, sparse_categorical_cross_entropy loss=0.06483647148778778\n",
      "Epoch: 29, time taken: 1.1499426364898682, accuracy=0.983105964467005, sparse_categorical_cross_entropy loss=0.06054939241395473\n",
      "Epoch: 30, time taken: 1.1249611377716064, accuracy=0.9845865059221658, sparse_categorical_cross_entropy loss=0.05724431194894319\n",
      "Epoch: 31, time taken: 1.3126897811889648, accuracy=0.9847451353637902, sparse_categorical_cross_entropy loss=0.05276809626945281\n",
      "Epoch: 32, time taken: 1.2719457149505615, accuracy=0.9864371827411168, sparse_categorical_cross_entropy loss=0.04970413610806241\n",
      "Epoch: 33, time taken: 1.2786059379577637, accuracy=0.9875475888324873, sparse_categorical_cross_entropy loss=0.04746833221688528\n",
      "Epoch: 34, time taken: 1.2714028358459473, accuracy=0.9860934856175972, sparse_categorical_cross_entropy loss=0.0482265807009986\n",
      "Epoch: 35, time taken: 1.2708399295806885, accuracy=0.9869130710659898, sparse_categorical_cross_entropy loss=0.044210316145061115\n",
      "Epoch: 36, time taken: 1.2724518775939941, accuracy=0.9884200507614214, sparse_categorical_cross_entropy loss=0.04126435312012876\n",
      "Epoch: 37, time taken: 1.2580921649932861, accuracy=0.9898477157360406, sparse_categorical_cross_entropy loss=0.04021833372572237\n",
      "Epoch: 38, time taken: 1.2470097541809082, accuracy=0.9889752538071066, sparse_categorical_cross_entropy loss=0.03860327850352787\n",
      "Epoch: 39, time taken: 1.3425121307373047, accuracy=0.9915133248730964, sparse_categorical_cross_entropy loss=0.03401789955107144\n",
      "Epoch: 40, time taken: 1.2584943771362305, accuracy=0.9905615482233503, sparse_categorical_cross_entropy loss=0.03572957838081976\n",
      "Epoch: 41, time taken: 1.1185235977172852, accuracy=0.9932582487309645, sparse_categorical_cross_entropy loss=0.02956081928152324\n",
      "Epoch: 42, time taken: 1.277184009552002, accuracy=0.9921478426395939, sparse_categorical_cross_entropy loss=0.03019999962076163\n",
      "Epoch: 43, time taken: 1.2714958190917969, accuracy=0.9923064720812182, sparse_categorical_cross_entropy loss=0.02880661292124833\n",
      "Epoch: 44, time taken: 1.1061112880706787, accuracy=0.992623730964467, sparse_categorical_cross_entropy loss=0.026881530313128402\n",
      "Epoch: 45, time taken: 1.2962660789489746, accuracy=0.9935755076142132, sparse_categorical_cross_entropy loss=0.02600796875375915\n",
      "Epoch: 46, time taken: 1.2440755367279053, accuracy=0.9946859137055838, sparse_categorical_cross_entropy loss=0.023486851883401598\n",
      "Epoch: 47, time taken: 1.2723288536071777, accuracy=0.9948445431472082, sparse_categorical_cross_entropy loss=0.022424549732854713\n",
      "Epoch: 48, time taken: 1.1958622932434082, accuracy=0.994368654822335, sparse_categorical_cross_entropy loss=0.02307594202027612\n",
      "Epoch: 49, time taken: 1.2226183414459229, accuracy=0.9961928934010152, sparse_categorical_cross_entropy loss=0.0199777269868589\n"
     ]
    }
   ],
   "source": [
    "(train_loss, train_accuracy), (test_loss, test_accuracy) = model.fit(X, y, epochs=150, X_test=X_test, y_test=y_test)"
   ]
  },
  {
   "cell_type": "code",
   "execution_count": null,
   "id": "62ac25ce-68a7-4efb-a2f9-b28eca6e2fbc",
   "metadata": {},
   "outputs": [],
   "source": [
    "np.isnan(model.layers[0].b).any()"
   ]
  },
  {
   "cell_type": "code",
   "execution_count": null,
   "id": "1f627aa9-b5ce-48ef-97c5-51f1cf98968f",
   "metadata": {},
   "outputs": [],
   "source": [
    "# A = model.pre\n",
    "y_pred = model.predict(X_test)\n",
    "y_pred.shape\n",
    "y_pred\n",
    "temp = np.zeros_like(y_pred)\n",
    "temp[np.arange(y_pred.shape[0]),np.argmax(y_pred, axis=1)] = True\n",
    "accuracy(temp, y_test)\n",
    "\n"
   ]
  },
  {
   "cell_type": "code",
   "execution_count": null,
   "id": "c9c28936-6992-4615-9f29-60c276196e61",
   "metadata": {},
   "outputs": [],
   "source": [
    "print(np.max(test_accuracy))\n",
    "print(np.argmin(test_loss))\n",
    "plt.plot(test_accuracy)\n",
    "plt.plot(test_loss)"
   ]
  },
  {
   "cell_type": "code",
   "execution_count": null,
   "id": "6be51941-67c7-4ef9-a22f-d1b578ae166e",
   "metadata": {},
   "outputs": [],
   "source": [
    "plt.plot(train_accuracy)\n",
    "plt.plot(train_loss)"
   ]
  },
  {
   "cell_type": "code",
   "execution_count": null,
   "id": "c9830457-8bba-4bd8-ac54-78a6caf6ac9f",
   "metadata": {},
   "outputs": [],
   "source": [
    "# import tensorflow as tf\n",
    "X.shape"
   ]
  },
  {
   "cell_type": "code",
   "execution_count": null,
   "id": "2cb418e4-2291-4084-8ce0-73726237a561",
   "metadata": {},
   "outputs": [],
   "source": [
    "# tfmodel = tf.keras.Sequential([\n",
    "#     tf.keras.layers.Dense(16, activation='relu'),\n",
    "#     tf.keras.layers.Dense(16, activation='relu'),\n",
    "#     tf.keras.layers.Dense(10, activation='softmax')\n",
    "# ])\n",
    "# tfmodel.compile(loss=tf.keras.losses.CategoricalCrossentropy, metrics=['accuracy'])"
   ]
  },
  {
   "cell_type": "code",
   "execution_count": null,
   "id": "7a1dc788-ba78-4e2c-88cb-38ae125537d4",
   "metadata": {},
   "outputs": [],
   "source": [
    "# tfmodel.fit(X, y, epochs=10)"
   ]
  },
  {
   "cell_type": "code",
   "execution_count": null,
   "id": "5cc4ac4d-113b-44bf-abe8-0c11c6a2f90d",
   "metadata": {},
   "outputs": [],
   "source": []
  },
  {
   "cell_type": "code",
   "execution_count": null,
   "id": "f49d6934-a065-41ab-8bbe-19f2eaf53d38",
   "metadata": {},
   "outputs": [],
   "source": []
  }
 ],
 "metadata": {
  "kernelspec": {
   "display_name": "Python 3 (ipykernel)",
   "language": "python",
   "name": "python3"
  },
  "language_info": {
   "codemirror_mode": {
    "name": "ipython",
    "version": 3
   },
   "file_extension": ".py",
   "mimetype": "text/x-python",
   "name": "python",
   "nbconvert_exporter": "python",
   "pygments_lexer": "ipython3",
   "version": "3.12.10"
  }
 },
 "nbformat": 4,
 "nbformat_minor": 5
}
