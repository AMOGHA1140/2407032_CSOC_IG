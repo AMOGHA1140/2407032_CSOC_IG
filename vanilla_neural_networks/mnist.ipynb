{
 "cells": [
  {
   "cell_type": "code",
   "execution_count": 12,
   "id": "bee88c14",
   "metadata": {},
   "outputs": [],
   "source": [
    "import numpy as np\n",
    "import pandas as pd\n",
    "from sklearn.model_selection import train_test_split\n",
    "from main import Sequential, Dense, accuracy\n",
    "import matplotlib.pyplot as plt"
   ]
  },
  {
   "cell_type": "code",
   "execution_count": 2,
   "id": "a3296507-206c-47bc-87ce-7b5e93f2d4ca",
   "metadata": {},
   "outputs": [],
   "source": [
    "data = pd.read_csv(\"mnist_data.csv\")"
   ]
  },
  {
   "cell_type": "code",
   "execution_count": 3,
   "id": "3b0e350b-f132-445a-b445-22bd4a1707c2",
   "metadata": {},
   "outputs": [],
   "source": [
    "X = data.drop(columns=['label'])\n",
    "y = data['label']\n",
    "y = pd.get_dummies(y)\n",
    "X  = X/255.0\n",
    "X = X.to_numpy()\n",
    "y = y.to_numpy().astype(np.float32)\n",
    "\n",
    "X, X_test, y, y_test = train_test_split(X, y, train_size=0.3)\n"
   ]
  },
  {
   "cell_type": "code",
   "execution_count": 4,
   "id": "a7dfd82b-3133-473e-b9fa-1dc0340b38a5",
   "metadata": {},
   "outputs": [
    {
     "data": {
      "text/plain": [
       "array([[0., 0., 0., ..., 0., 0., 0.],\n",
       "       [0., 0., 0., ..., 0., 0., 0.],\n",
       "       [0., 0., 0., ..., 0., 1., 0.],\n",
       "       ...,\n",
       "       [0., 0., 0., ..., 0., 0., 0.],\n",
       "       [1., 0., 0., ..., 0., 0., 0.],\n",
       "       [0., 0., 0., ..., 0., 0., 0.]], dtype=float32)"
      ]
     },
     "execution_count": 4,
     "metadata": {},
     "output_type": "execute_result"
    }
   ],
   "source": [
    "y"
   ]
  },
  {
   "cell_type": "code",
   "execution_count": 28,
   "id": "d1513d5b-5de3-4c37-b746-ee4ec7602104",
   "metadata": {},
   "outputs": [],
   "source": [
    "\n",
    "model = Sequential([\n",
    "    Dense(16),\n",
    "    Dense(16),\n",
    "    Dense(10, activation='softmax')\n",
    "])\n",
    "model.compile(loss='sparse_categorical_cross_entropy')"
   ]
  },
  {
   "cell_type": "code",
   "execution_count": 29,
   "id": "112d8087-a2d6-43bb-97be-03392ffe7ece",
   "metadata": {},
   "outputs": [
    {
     "name": "stdout",
     "output_type": "stream",
     "text": [
      "Epoch: 1, time taken: 0.47498273849487305, accuracy=0.4328733079526227, sparse_categorical_cross_entropy loss=1.779574742829398\n",
      "Epoch: 2, time taken: 0.624701738357544, accuracy=0.714493443316413, sparse_categorical_cross_entropy loss=0.9289820818889071\n",
      "Epoch: 3, time taken: 0.5951306819915771, accuracy=0.8187394247038917, sparse_categorical_cross_entropy loss=0.6304433939196258\n",
      "Epoch: 4, time taken: 0.5523459911346436, accuracy=0.8568898054145515, sparse_categorical_cross_entropy loss=0.5065561708286198\n",
      "Epoch: 5, time taken: 0.5855162143707275, accuracy=0.8729113790186125, sparse_categorical_cross_entropy loss=0.44640470192749293\n",
      "Epoch: 6, time taken: 0.5402300357818604, accuracy=0.8835395516074449, sparse_categorical_cross_entropy loss=0.41074645166538215\n",
      "Epoch: 7, time taken: 0.5728456974029541, accuracy=0.8907043147208121, sparse_categorical_cross_entropy loss=0.38369911593008493\n",
      "Epoch: 8, time taken: 0.5684659481048584, accuracy=0.8949608714043993, sparse_categorical_cross_entropy loss=0.36317677355264727\n",
      "Epoch: 9, time taken: 0.39089298248291016, accuracy=0.9014646785109982, sparse_categorical_cross_entropy loss=0.34629972074159865\n",
      "Epoch: 10, time taken: 0.5197625160217285, accuracy=0.9045315143824028, sparse_categorical_cross_entropy loss=0.3312764545469507\n",
      "Epoch: 11, time taken: 0.6089415550231934, accuracy=0.9086294416243654, sparse_categorical_cross_entropy loss=0.3173714000701722\n",
      "Epoch: 12, time taken: 0.6587207317352295, accuracy=0.9125687394247038, sparse_categorical_cross_entropy loss=0.30717046132582027\n",
      "Epoch: 13, time taken: 0.6254515647888184, accuracy=0.9140492808798647, sparse_categorical_cross_entropy loss=0.29738394625672615\n",
      "Epoch: 14, time taken: 0.6505963802337646, accuracy=0.9188346023688663, sparse_categorical_cross_entropy loss=0.287728269545369\n",
      "Epoch: 15, time taken: 0.6436817646026611, accuracy=0.9197070642978002, sparse_categorical_cross_entropy loss=0.27885033045003516\n",
      "Epoch: 16, time taken: 0.5916416645050049, accuracy=0.9216370558375635, sparse_categorical_cross_entropy loss=0.2699949464601488\n",
      "Epoch: 17, time taken: 0.667860746383667, accuracy=0.9235406091370558, sparse_categorical_cross_entropy loss=0.263123773515561\n",
      "Epoch: 18, time taken: 0.6562271118164062, accuracy=0.9261579949238579, sparse_categorical_cross_entropy loss=0.2564474392608372\n",
      "Epoch: 19, time taken: 0.6570546627044678, accuracy=0.9274799069373942, sparse_categorical_cross_entropy loss=0.24986520417388552\n",
      "Epoch: 20, time taken: 0.6036322116851807, accuracy=0.9299651015228426, sparse_categorical_cross_entropy loss=0.24376188203081764\n",
      "Epoch: 21, time taken: 0.6521248817443848, accuracy=0.9318422165820642, sparse_categorical_cross_entropy loss=0.23766978107876469\n",
      "Epoch: 22, time taken: 0.6296348571777344, accuracy=0.9339572758037226, sparse_categorical_cross_entropy loss=0.23233443158714243\n",
      "Epoch: 23, time taken: 0.6470656394958496, accuracy=0.9354378172588832, sparse_categorical_cross_entropy loss=0.22709752248807807\n",
      "Epoch: 24, time taken: 0.6318700313568115, accuracy=0.9364424703891708, sparse_categorical_cross_entropy loss=0.22161691890796295\n",
      "Epoch: 25, time taken: 0.6728200912475586, accuracy=0.9378965736040609, sparse_categorical_cross_entropy loss=0.21681799594839754\n",
      "Epoch: 26, time taken: 0.6426553726196289, accuracy=0.9399323181049068, sparse_categorical_cross_entropy loss=0.21232584564723153\n",
      "Epoch: 27, time taken: 0.649738073348999, accuracy=0.9418887478849408, sparse_categorical_cross_entropy loss=0.20759568602638473\n",
      "Epoch: 28, time taken: 0.599494218826294, accuracy=0.9425497038917089, sparse_categorical_cross_entropy loss=0.20328107596889036\n",
      "Epoch: 29, time taken: 0.6108970642089844, accuracy=0.9446118866328257, sparse_categorical_cross_entropy loss=0.1988027907227432\n",
      "Epoch: 30, time taken: 0.6314675807952881, accuracy=0.9444268189509307, sparse_categorical_cross_entropy loss=0.1962764180012709\n",
      "Epoch: 31, time taken: 0.6429083347320557, accuracy=0.9468855752961083, sparse_categorical_cross_entropy loss=0.19134289580549546\n",
      "Epoch: 32, time taken: 0.6264846324920654, accuracy=0.945642978003384, sparse_categorical_cross_entropy loss=0.18784700514890465\n",
      "Epoch: 33, time taken: 0.6358509063720703, accuracy=0.9463039340101523, sparse_categorical_cross_entropy loss=0.1840584638740716\n",
      "Epoch: 34, time taken: 0.6012699604034424, accuracy=0.9464096869712353, sparse_categorical_cross_entropy loss=0.18105351599372935\n",
      "Epoch: 35, time taken: 0.6357672214508057, accuracy=0.9491592639593909, sparse_categorical_cross_entropy loss=0.17759097163059503\n",
      "Epoch: 36, time taken: 0.6113147735595703, accuracy=0.9502696700507615, sparse_categorical_cross_entropy loss=0.1743034897301487\n",
      "Epoch: 37, time taken: 0.6119194030761719, accuracy=0.9495558375634517, sparse_categorical_cross_entropy loss=0.17163501975289225\n",
      "Epoch: 38, time taken: 0.6140625476837158, accuracy=0.9510363790186125, sparse_categorical_cross_entropy loss=0.16832735413776326\n",
      "Epoch: 39, time taken: 0.6303818225860596, accuracy=0.9533100676818952, sparse_categorical_cross_entropy loss=0.16518545415928262\n",
      "Epoch: 40, time taken: 0.6055600643157959, accuracy=0.9528077411167513, sparse_categorical_cross_entropy loss=0.16205414279279443\n",
      "Epoch: 41, time taken: 0.608100175857544, accuracy=0.9529663705583756, sparse_categorical_cross_entropy loss=0.15951758661423338\n",
      "Epoch: 42, time taken: 0.5069324970245361, accuracy=0.9534951353637902, sparse_categorical_cross_entropy loss=0.15749103972947917\n",
      "Epoch: 43, time taken: 0.5957150459289551, accuracy=0.953997461928934, sparse_categorical_cross_entropy loss=0.1550261673349874\n",
      "Epoch: 44, time taken: 0.6854872703552246, accuracy=0.9565884094754653, sparse_categorical_cross_entropy loss=0.1519641331227112\n",
      "Epoch: 45, time taken: 0.6253290176391602, accuracy=0.9574608714043993, sparse_categorical_cross_entropy loss=0.14882044433324867\n",
      "Epoch: 46, time taken: 0.6217348575592041, accuracy=0.9578574450084602, sparse_categorical_cross_entropy loss=0.14711678243798318\n",
      "Epoch: 47, time taken: 0.6362712383270264, accuracy=0.957011421319797, sparse_categorical_cross_entropy loss=0.1447838723200959\n",
      "Epoch: 48, time taken: 0.5673165321350098, accuracy=0.9591793570219966, sparse_categorical_cross_entropy loss=0.14264207605252124\n",
      "Epoch: 49, time taken: 0.6223208904266357, accuracy=0.9582540186125211, sparse_categorical_cross_entropy loss=0.14090905931164283\n",
      "Epoch: 50, time taken: 0.5813953876495361, accuracy=0.9603955160744501, sparse_categorical_cross_entropy loss=0.13838081866816776\n",
      "Epoch: 51, time taken: 0.6263957023620605, accuracy=0.961267978003384, sparse_categorical_cross_entropy loss=0.13569636041113947\n",
      "Epoch: 52, time taken: 0.6194851398468018, accuracy=0.9619818104906936, sparse_categorical_cross_entropy loss=0.13383498135754188\n",
      "Epoch: 53, time taken: 0.6006479263305664, accuracy=0.9614794839255499, sparse_categorical_cross_entropy loss=0.13214782962770177\n",
      "Epoch: 54, time taken: 0.5626726150512695, accuracy=0.9636209813874789, sparse_categorical_cross_entropy loss=0.1290982049693934\n",
      "Epoch: 55, time taken: 0.5050811767578125, accuracy=0.963409475465313, sparse_categorical_cross_entropy loss=0.12883298744977317\n",
      "Epoch: 56, time taken: 0.6132330894470215, accuracy=0.9630922165820642, sparse_categorical_cross_entropy loss=0.12657277423733362\n",
      "Epoch: 57, time taken: 0.6212317943572998, accuracy=0.964863578680203, sparse_categorical_cross_entropy loss=0.12465751973807208\n",
      "Epoch: 58, time taken: 0.5809135437011719, accuracy=0.9635152284263959, sparse_categorical_cross_entropy loss=0.12329334455339344\n",
      "Epoch: 59, time taken: 0.6184890270233154, accuracy=0.9661061759729271, sparse_categorical_cross_entropy loss=0.12020676495104052\n",
      "Epoch: 60, time taken: 0.5824203491210938, accuracy=0.9663441201353637, sparse_categorical_cross_entropy loss=0.11996418260240414\n",
      "Epoch: 61, time taken: 0.6293425559997559, accuracy=0.9676395939086294, sparse_categorical_cross_entropy loss=0.11755581273819006\n",
      "Epoch: 62, time taken: 0.6421165466308594, accuracy=0.9673752115059221, sparse_categorical_cross_entropy loss=0.11538442557440362\n",
      "Epoch: 63, time taken: 0.6281468868255615, accuracy=0.9670050761421319, sparse_categorical_cross_entropy loss=0.11497082144927087\n",
      "Epoch: 64, time taken: 0.6115374565124512, accuracy=0.9683798646362098, sparse_categorical_cross_entropy loss=0.1122484155022302\n",
      "Epoch: 65, time taken: 0.6287670135498047, accuracy=0.9690408206429779, sparse_categorical_cross_entropy loss=0.11129934402304513\n",
      "Epoch: 66, time taken: 0.614858865737915, accuracy=0.9700719120135364, sparse_categorical_cross_entropy loss=0.10901967594808398\n",
      "Epoch: 67, time taken: 0.6021950244903564, accuracy=0.9699397208121827, sparse_categorical_cross_entropy loss=0.1071279220720505\n",
      "Epoch: 68, time taken: 0.5686330795288086, accuracy=0.9687764382402708, sparse_categorical_cross_entropy loss=0.10604243771400992\n",
      "Epoch: 69, time taken: 0.60359787940979, accuracy=0.9704684856175972, sparse_categorical_cross_entropy loss=0.10477230362005878\n",
      "Epoch: 70, time taken: 0.5962276458740234, accuracy=0.9718168358714043, sparse_categorical_cross_entropy loss=0.1026947137505995\n",
      "Epoch: 71, time taken: 0.6057655811309814, accuracy=0.9702305414551607, sparse_categorical_cross_entropy loss=0.10247441720252322\n",
      "Epoch: 72, time taken: 0.6236667633056641, accuracy=0.9713938240270729, sparse_categorical_cross_entropy loss=0.10076458653739025\n",
      "Epoch: 73, time taken: 0.653296709060669, accuracy=0.9719754653130287, sparse_categorical_cross_entropy loss=0.09960212461281773\n",
      "Epoch: 74, time taken: 0.6315839290618896, accuracy=0.9721340947546531, sparse_categorical_cross_entropy loss=0.09784700997567768\n",
      "Epoch: 75, time taken: 0.5775265693664551, accuracy=0.9729536802030457, sparse_categorical_cross_entropy loss=0.09703158283748142\n",
      "Epoch: 76, time taken: 0.5500600337982178, accuracy=0.9726099830795262, sparse_categorical_cross_entropy loss=0.09536178772481733\n",
      "Epoch: 77, time taken: 0.6542544364929199, accuracy=0.9748572335025381, sparse_categorical_cross_entropy loss=0.0935440872643015\n",
      "Epoch: 78, time taken: 0.594447135925293, accuracy=0.9741169627749576, sparse_categorical_cross_entropy loss=0.09210456129591557\n",
      "Epoch: 79, time taken: 0.6390202045440674, accuracy=0.9759676395939086, sparse_categorical_cross_entropy loss=0.0910168979450679\n",
      "Epoch: 80, time taken: 0.6239733695983887, accuracy=0.9762848984771574, sparse_categorical_cross_entropy loss=0.08914203655362604\n",
      "Epoch: 81, time taken: 0.6195073127746582, accuracy=0.9761791455160744, sparse_categorical_cross_entropy loss=0.08879608600252266\n",
      "Epoch: 82, time taken: 0.5307509899139404, accuracy=0.9764435279187818, sparse_categorical_cross_entropy loss=0.08743095808088588\n",
      "Epoch: 83, time taken: 0.6104271411895752, accuracy=0.977765439932318, sparse_categorical_cross_entropy loss=0.08700342243876061\n",
      "Epoch: 84, time taken: 0.6591224670410156, accuracy=0.9773159898477157, sparse_categorical_cross_entropy loss=0.08491905139111511\n",
      "Epoch: 85, time taken: 0.6513056755065918, accuracy=0.9783206429780034, sparse_categorical_cross_entropy loss=0.0841662841473724\n",
      "Epoch: 86, time taken: 0.6014761924743652, accuracy=0.9782677664974619, sparse_categorical_cross_entropy loss=0.08294849329165374\n",
      "Epoch: 87, time taken: 0.5806856155395508, accuracy=0.9773688663282571, sparse_categorical_cross_entropy loss=0.08248288073314702\n",
      "Epoch: 88, time taken: 0.5464353561401367, accuracy=0.9781884517766497, sparse_categorical_cross_entropy loss=0.08074672797088131\n",
      "Epoch: 89, time taken: 0.5836319923400879, accuracy=0.9798276226734348, sparse_categorical_cross_entropy loss=0.07985660308807792\n",
      "Epoch: 90, time taken: 0.5343456268310547, accuracy=0.9800920050761421, sparse_categorical_cross_entropy loss=0.07773413556839674\n",
      "Epoch: 91, time taken: 0.6467611789703369, accuracy=0.9800920050761421, sparse_categorical_cross_entropy loss=0.0780160855209063\n",
      "Epoch: 92, time taken: 0.6256976127624512, accuracy=0.9802241962774957, sparse_categorical_cross_entropy loss=0.07721350765461123\n",
      "Epoch: 93, time taken: 0.642533540725708, accuracy=0.9796689932318104, sparse_categorical_cross_entropy loss=0.07534825162385914\n",
      "Epoch: 94, time taken: 0.6210222244262695, accuracy=0.981651861252115, sparse_categorical_cross_entropy loss=0.07469906907461665\n",
      "Epoch: 95, time taken: 0.6254034042358398, accuracy=0.9823656937394246, sparse_categorical_cross_entropy loss=0.0739672841554218\n",
      "Epoch: 96, time taken: 0.615973949432373, accuracy=0.9814403553299492, sparse_categorical_cross_entropy loss=0.07277203201426817\n",
      "Epoch: 97, time taken: 0.645989179611206, accuracy=0.9818369289340102, sparse_categorical_cross_entropy loss=0.07124031751844717\n",
      "Epoch: 98, time taken: 0.5870494842529297, accuracy=0.9828151438240271, sparse_categorical_cross_entropy loss=0.07106889551074622\n",
      "Epoch: 99, time taken: 0.6466095447540283, accuracy=0.9822335025380711, sparse_categorical_cross_entropy loss=0.06977811025378085\n",
      "Epoch: 100, time taken: 0.6271698474884033, accuracy=0.9826300761421319, sparse_categorical_cross_entropy loss=0.06885700977423999\n",
      "Epoch: 101, time taken: 0.5890121459960938, accuracy=0.9835554145516074, sparse_categorical_cross_entropy loss=0.06810974829460481\n",
      "Epoch: 102, time taken: 0.6182146072387695, accuracy=0.983502538071066, sparse_categorical_cross_entropy loss=0.06664980483130903\n",
      "Epoch: 103, time taken: 0.6514472961425781, accuracy=0.9830002115059221, sparse_categorical_cross_entropy loss=0.0662369250153838\n",
      "Epoch: 104, time taken: 0.6104333400726318, accuracy=0.9838197969543148, sparse_categorical_cross_entropy loss=0.06594205361960259\n",
      "Epoch: 105, time taken: 0.570885181427002, accuracy=0.9839784263959391, sparse_categorical_cross_entropy loss=0.06438091426040791\n",
      "Epoch: 106, time taken: 0.4492673873901367, accuracy=0.9842163705583756, sparse_categorical_cross_entropy loss=0.06384475530884005\n",
      "Epoch: 107, time taken: 0.4999358654022217, accuracy=0.9841370558375635, sparse_categorical_cross_entropy loss=0.06220930259250011\n",
      "Epoch: 108, time taken: 0.6197481155395508, accuracy=0.9854854060913706, sparse_categorical_cross_entropy loss=0.06233209705779158\n",
      "Epoch: 109, time taken: 0.6420018672943115, accuracy=0.9841370558375635, sparse_categorical_cross_entropy loss=0.06207821836477134\n",
      "Epoch: 110, time taken: 0.5987858772277832, accuracy=0.9850095177664975, sparse_categorical_cross_entropy loss=0.06065174886907006\n",
      "Epoch: 111, time taken: 0.5298676490783691, accuracy=0.9861199238578681, sparse_categorical_cross_entropy loss=0.059401106693297026\n",
      "Epoch: 112, time taken: 0.6119091510772705, accuracy=0.9850095177664975, sparse_categorical_cross_entropy loss=0.05952967719304158\n",
      "Epoch: 113, time taken: 0.6298871040344238, accuracy=0.9864636209813875, sparse_categorical_cross_entropy loss=0.05783528611563197\n",
      "Epoch: 114, time taken: 0.5951657295227051, accuracy=0.9864371827411168, sparse_categorical_cross_entropy loss=0.057564710445849494\n",
      "Epoch: 115, time taken: 0.6446006298065186, accuracy=0.9866486886632825, sparse_categorical_cross_entropy loss=0.05687222762502284\n",
      "Epoch: 116, time taken: 0.6190235614776611, accuracy=0.9868337563451777, sparse_categorical_cross_entropy loss=0.05557005035118968\n",
      "Epoch: 117, time taken: 0.5457985401153564, accuracy=0.986992385786802, sparse_categorical_cross_entropy loss=0.05579614472169322\n",
      "Epoch: 118, time taken: 0.560420036315918, accuracy=0.9879441624365483, sparse_categorical_cross_entropy loss=0.05383564457424163\n",
      "Epoch: 119, time taken: 0.5329060554504395, accuracy=0.9876269035532995, sparse_categorical_cross_entropy loss=0.05380742911326184\n",
      "Epoch: 120, time taken: 0.6173937320709229, accuracy=0.9881821065989848, sparse_categorical_cross_entropy loss=0.05243172116297589\n",
      "Epoch: 121, time taken: 0.5474650859832764, accuracy=0.9883407360406091, sparse_categorical_cross_entropy loss=0.05184547651815814\n",
      "Epoch: 122, time taken: 0.538846492767334, accuracy=0.9884200507614214, sparse_categorical_cross_entropy loss=0.050868965507322686\n",
      "Epoch: 123, time taken: 0.5699746608734131, accuracy=0.9883142978003384, sparse_categorical_cross_entropy loss=0.05131927988552906\n",
      "Epoch: 124, time taken: 0.6100225448608398, accuracy=0.9883407360406091, sparse_categorical_cross_entropy loss=0.049952706173547114\n",
      "Epoch: 125, time taken: 0.6558506488800049, accuracy=0.9888959390862944, sparse_categorical_cross_entropy loss=0.04963652819905327\n",
      "Epoch: 126, time taken: 0.6171510219573975, accuracy=0.9895304568527918, sparse_categorical_cross_entropy loss=0.04907238377435456\n",
      "Epoch: 127, time taken: 0.3715934753417969, accuracy=0.9898477157360406, sparse_categorical_cross_entropy loss=0.047781720428454647\n",
      "Epoch: 128, time taken: 0.607367753982544, accuracy=0.9889752538071066, sparse_categorical_cross_entropy loss=0.047661508155594806\n",
      "Epoch: 129, time taken: 0.6581137180328369, accuracy=0.989900592216582, sparse_categorical_cross_entropy loss=0.047315879972129896\n",
      "Epoch: 130, time taken: 0.5976910591125488, accuracy=0.990006345177665, sparse_categorical_cross_entropy loss=0.046037704132686555\n",
      "Epoch: 131, time taken: 0.6313960552215576, accuracy=0.9904029187817259, sparse_categorical_cross_entropy loss=0.045632802445163385\n",
      "Epoch: 132, time taken: 0.6161942481994629, accuracy=0.9909316835871403, sparse_categorical_cross_entropy loss=0.045039450214021406\n",
      "Epoch: 133, time taken: 0.6197943687438965, accuracy=0.9894247038917089, sparse_categorical_cross_entropy loss=0.045046462216594786\n",
      "Epoch: 134, time taken: 0.620145320892334, accuracy=0.9906408629441624, sparse_categorical_cross_entropy loss=0.04386600812731127\n",
      "Epoch: 135, time taken: 0.611194372177124, accuracy=0.9911960659898477, sparse_categorical_cross_entropy loss=0.0430287918288703\n",
      "Epoch: 136, time taken: 0.5831737518310547, accuracy=0.9909581218274112, sparse_categorical_cross_entropy loss=0.04273796614765923\n",
      "Epoch: 137, time taken: 0.6142799854278564, accuracy=0.9909581218274112, sparse_categorical_cross_entropy loss=0.042528143231129883\n",
      "Epoch: 138, time taken: 0.6029071807861328, accuracy=0.9914340101522843, sparse_categorical_cross_entropy loss=0.04165909853398917\n",
      "Epoch: 139, time taken: 0.582979679107666, accuracy=0.9909581218274112, sparse_categorical_cross_entropy loss=0.04153834823576279\n",
      "Epoch: 140, time taken: 0.6113224029541016, accuracy=0.9916719543147208, sparse_categorical_cross_entropy loss=0.0396482433970618\n",
      "Epoch: 141, time taken: 0.6265292167663574, accuracy=0.9919892131979695, sparse_categorical_cross_entropy loss=0.04017500677857335\n",
      "Epoch: 142, time taken: 0.6149938106536865, accuracy=0.9915133248730964, sparse_categorical_cross_entropy loss=0.03940711732633404\n",
      "Epoch: 143, time taken: 0.6132502555847168, accuracy=0.991857021996616, sparse_categorical_cross_entropy loss=0.03893793061592704\n",
      "Epoch: 144, time taken: 0.6068863868713379, accuracy=0.9921214043993232, sparse_categorical_cross_entropy loss=0.0381600789776645\n",
      "Epoch: 145, time taken: 0.6187043190002441, accuracy=0.9923064720812182, sparse_categorical_cross_entropy loss=0.03781241104486231\n",
      "Epoch: 146, time taken: 0.6193835735321045, accuracy=0.9919627749576988, sparse_categorical_cross_entropy loss=0.03703745819777145\n",
      "Epoch: 147, time taken: 0.6168930530548096, accuracy=0.992517978003384, sparse_categorical_cross_entropy loss=0.03635249648984751\n",
      "Epoch: 148, time taken: 0.6008360385894775, accuracy=0.9927030456852792, sparse_categorical_cross_entropy loss=0.03624418464222026\n",
      "Epoch: 149, time taken: 0.6391801834106445, accuracy=0.9938134517766497, sparse_categorical_cross_entropy loss=0.0349758303365728\n",
      "Epoch: 150, time taken: 0.5887982845306396, accuracy=0.9927823604060914, sparse_categorical_cross_entropy loss=0.03520279219023258\n"
     ]
    }
   ],
   "source": [
    "(train_loss, train_accuracy), (test_loss, test_accuracy) = model.fit(X, y, epochs=150, learning_rate=0.01, X_test=X_test, y_test=y_test)"
   ]
  },
  {
   "cell_type": "code",
   "execution_count": 38,
   "id": "1f627aa9-b5ce-48ef-97c5-51f1cf98968f",
   "metadata": {},
   "outputs": [
    {
     "data": {
      "text/plain": [
       "np.float64(0.9284013605442177)"
      ]
     },
     "execution_count": 38,
     "metadata": {},
     "output_type": "execute_result"
    }
   ],
   "source": [
    "# A = model.pre\n",
    "y_pred = model.predict(X_test)\n",
    "y_pred.shape\n",
    "y_pred\n",
    "temp = np.zeros_like(y_pred)\n",
    "temp[np.arange(y_pred.shape[0]),np.argmax(y_pred, axis=1)] = True\n",
    "accuracy(temp, y_test)\n",
    "\n"
   ]
  },
  {
   "cell_type": "code",
   "execution_count": 40,
   "id": "c9c28936-6992-4615-9f29-60c276196e61",
   "metadata": {},
   "outputs": [
    {
     "name": "stdout",
     "output_type": "stream",
     "text": [
      "0.9335714285714286\n",
      "49\n"
     ]
    },
    {
     "data": {
      "text/plain": [
       "[<matplotlib.lines.Line2D at 0x14f90e36060>]"
      ]
     },
     "execution_count": 40,
     "metadata": {},
     "output_type": "execute_result"
    },
    {
     "data": {
      "image/png": "[encoded data removed]",
      "text/plain": [
       "<Figure size 640x480 with 1 Axes>"
      ]
     },
     "metadata": {},
     "output_type": "display_data"
    }
   ],
   "source": [
    "print(np.max(test_accuracy))\n",
    "print(np.argmin(test_loss))\n",
    "plt.plot(test_accuracy)\n",
    "plt.plot(test_loss)"
   ]
  },
  {
   "cell_type": "code",
   "execution_count": 43,
   "id": "6be51941-67c7-4ef9-a22f-d1b578ae166e",
   "metadata": {},
   "outputs": [
    {
     "data": {
      "text/plain": [
       "[<matplotlib.lines.Line2D at 0x14f90eeaab0>]"
      ]
     },
     "execution_count": 43,
     "metadata": {},
     "output_type": "execute_result"
    },
    {
     "data": {
      "image/png": "[encoded data removed]",
      "text/plain": [
       "<Figure size 640x480 with 1 Axes>"
      ]
     },
     "metadata": {},
     "output_type": "display_data"
    }
   ],
   "source": [
    "plt.plot(train_accuracy)\n",
    "plt.plot(train_loss)"
   ]
  },
  {
   "cell_type": "code",
   "execution_count": 9,
   "id": "c9830457-8bba-4bd8-ac54-78a6caf6ac9f",
   "metadata": {},
   "outputs": [
    {
     "data": {
      "text/plain": [
       "(12600, 784)"
      ]
     },
     "execution_count": 9,
     "metadata": {},
     "output_type": "execute_result"
    }
   ],
   "source": [
    "# import tensorflow as tf\n",
    "X.shape"
   ]
  },
  {
   "cell_type": "code",
   "execution_count": 10,
   "id": "2cb418e4-2291-4084-8ce0-73726237a561",
   "metadata": {},
   "outputs": [],
   "source": [
    "# tfmodel = tf.keras.Sequential([\n",
    "#     tf.keras.layers.Dense(16, activation='relu'),\n",
    "#     tf.keras.layers.Dense(16, activation='relu'),\n",
    "#     tf.keras.layers.Dense(10, activation='softmax')\n",
    "# ])\n",
    "# tfmodel.compile(loss=tf.keras.losses.CategoricalCrossentropy, metrics=['accuracy'])"
   ]
  },
  {
   "cell_type": "code",
   "execution_count": 11,
   "id": "7a1dc788-ba78-4e2c-88cb-38ae125537d4",
   "metadata": {},
   "outputs": [],
   "source": [
    "# tfmodel.fit(X, y, epochs=10)"
   ]
  },
  {
   "cell_type": "code",
   "execution_count": null,
   "id": "5cc4ac4d-113b-44bf-abe8-0c11c6a2f90d",
   "metadata": {},
   "outputs": [],
   "source": []
  },
  {
   "cell_type": "code",
   "execution_count": null,
   "id": "f49d6934-a065-41ab-8bbe-19f2eaf53d38",
   "metadata": {},
   "outputs": [],
   "source": []
  }
 ],
 "metadata": {
  "kernelspec": {
   "display_name": "Python 3 (ipykernel)",
   "language": "python",
   "name": "python3"
  },
  "language_info": {
   "codemirror_mode": {
    "name": "ipython",
    "version": 3
   },
   "file_extension": ".py",
   "mimetype": "text/x-python",
   "name": "python",
   "nbconvert_exporter": "python",
   "pygments_lexer": "ipython3",
   "version": "3.12.10"
  }
 },
 "nbformat": 4,
 "nbformat_minor": 5
}
