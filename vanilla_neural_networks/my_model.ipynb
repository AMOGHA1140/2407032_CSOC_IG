{
 "cells": [
  {
   "cell_type": "code",
   "execution_count": 1,
   "id": "d0356e67-0039-46a9-8e08-a3ba242089d5",
   "metadata": {},
   "outputs": [],
   "source": [
    "import pandas as pd \n",
    "import numpy as np\n",
    "from sklearn.preprocessing import LabelEncoder\n",
    "from sklearn.model_selection import train_test_split\n",
    "import matplotlib.pyplot as plt\n",
    "from sklearn.preprocessing import StandardScaler\n"
   ]
  },
  {
   "cell_type": "code",
   "execution_count": 2,
   "id": "bc21ae51-4eb5-4e3a-9422-2dcfa7f94b11",
   "metadata": {},
   "outputs": [],
   "source": [
    "data = pd.read_csv(\"./dataset.csv\", parse_dates=['ScheduledDay', 'AppointmentDay'])\n",
    "\n"
   ]
  },
  {
   "cell_type": "code",
   "execution_count": 3,
   "id": "0d50c123-4014-49f0-809e-ada43b8f3588",
   "metadata": {},
   "outputs": [
    {
     "data": {
      "text/html": [
       "<div>\n",
       "<style scoped>\n",
       "    .dataframe tbody tr th:only-of-type {\n",
       "        vertical-align: middle;\n",
       "    }\n",
       "\n",
       "    .dataframe tbody tr th {\n",
       "        vertical-align: top;\n",
       "    }\n",
       "\n",
       "    .dataframe thead th {\n",
       "        text-align: right;\n",
       "    }\n",
       "</style>\n",
       "<table border=\"1\" class=\"dataframe\">\n",
       "  <thead>\n",
       "    <tr style=\"text-align: right;\">\n",
       "      <th></th>\n",
       "      <th>PatientId</th>\n",
       "      <th>AppointmentID</th>\n",
       "      <th>Gender</th>\n",
       "      <th>ScheduledDay</th>\n",
       "      <th>AppointmentDay</th>\n",
       "      <th>Age</th>\n",
       "      <th>Neighbourhood</th>\n",
       "      <th>Scholarship</th>\n",
       "      <th>Hipertension</th>\n",
       "      <th>Diabetes</th>\n",
       "      <th>Alcoholism</th>\n",
       "      <th>Handcap</th>\n",
       "      <th>SMS_received</th>\n",
       "      <th>No-show</th>\n",
       "    </tr>\n",
       "  </thead>\n",
       "  <tbody>\n",
       "    <tr>\n",
       "      <th>0</th>\n",
       "      <td>2.987250e+13</td>\n",
       "      <td>5642903</td>\n",
       "      <td>F</td>\n",
       "      <td>2016-04-29 18:38:08+00:00</td>\n",
       "      <td>2016-04-29 00:00:00+00:00</td>\n",
       "      <td>62</td>\n",
       "      <td>JARDIM DA PENHA</td>\n",
       "      <td>0</td>\n",
       "      <td>1</td>\n",
       "      <td>0</td>\n",
       "      <td>0</td>\n",
       "      <td>0</td>\n",
       "      <td>0</td>\n",
       "      <td>No</td>\n",
       "    </tr>\n",
       "    <tr>\n",
       "      <th>1</th>\n",
       "      <td>5.589978e+14</td>\n",
       "      <td>5642503</td>\n",
       "      <td>M</td>\n",
       "      <td>2016-04-29 16:08:27+00:00</td>\n",
       "      <td>2016-04-29 00:00:00+00:00</td>\n",
       "      <td>56</td>\n",
       "      <td>JARDIM DA PENHA</td>\n",
       "      <td>0</td>\n",
       "      <td>0</td>\n",
       "      <td>0</td>\n",
       "      <td>0</td>\n",
       "      <td>0</td>\n",
       "      <td>0</td>\n",
       "      <td>No</td>\n",
       "    </tr>\n",
       "    <tr>\n",
       "      <th>2</th>\n",
       "      <td>4.262962e+12</td>\n",
       "      <td>5642549</td>\n",
       "      <td>F</td>\n",
       "      <td>2016-04-29 16:19:04+00:00</td>\n",
       "      <td>2016-04-29 00:00:00+00:00</td>\n",
       "      <td>62</td>\n",
       "      <td>MATA DA PRAIA</td>\n",
       "      <td>0</td>\n",
       "      <td>0</td>\n",
       "      <td>0</td>\n",
       "      <td>0</td>\n",
       "      <td>0</td>\n",
       "      <td>0</td>\n",
       "      <td>No</td>\n",
       "    </tr>\n",
       "    <tr>\n",
       "      <th>3</th>\n",
       "      <td>8.679512e+11</td>\n",
       "      <td>5642828</td>\n",
       "      <td>F</td>\n",
       "      <td>2016-04-29 17:29:31+00:00</td>\n",
       "      <td>2016-04-29 00:00:00+00:00</td>\n",
       "      <td>8</td>\n",
       "      <td>PONTAL DE CAMBURI</td>\n",
       "      <td>0</td>\n",
       "      <td>0</td>\n",
       "      <td>0</td>\n",
       "      <td>0</td>\n",
       "      <td>0</td>\n",
       "      <td>0</td>\n",
       "      <td>No</td>\n",
       "    </tr>\n",
       "    <tr>\n",
       "      <th>4</th>\n",
       "      <td>8.841186e+12</td>\n",
       "      <td>5642494</td>\n",
       "      <td>F</td>\n",
       "      <td>2016-04-29 16:07:23+00:00</td>\n",
       "      <td>2016-04-29 00:00:00+00:00</td>\n",
       "      <td>56</td>\n",
       "      <td>JARDIM DA PENHA</td>\n",
       "      <td>0</td>\n",
       "      <td>1</td>\n",
       "      <td>1</td>\n",
       "      <td>0</td>\n",
       "      <td>0</td>\n",
       "      <td>0</td>\n",
       "      <td>No</td>\n",
       "    </tr>\n",
       "    <tr>\n",
       "      <th>...</th>\n",
       "      <td>...</td>\n",
       "      <td>...</td>\n",
       "      <td>...</td>\n",
       "      <td>...</td>\n",
       "      <td>...</td>\n",
       "      <td>...</td>\n",
       "      <td>...</td>\n",
       "      <td>...</td>\n",
       "      <td>...</td>\n",
       "      <td>...</td>\n",
       "      <td>...</td>\n",
       "      <td>...</td>\n",
       "      <td>...</td>\n",
       "      <td>...</td>\n",
       "    </tr>\n",
       "    <tr>\n",
       "      <th>110522</th>\n",
       "      <td>2.572134e+12</td>\n",
       "      <td>5651768</td>\n",
       "      <td>F</td>\n",
       "      <td>2016-05-03 09:15:35+00:00</td>\n",
       "      <td>2016-06-07 00:00:00+00:00</td>\n",
       "      <td>56</td>\n",
       "      <td>MARIA ORTIZ</td>\n",
       "      <td>0</td>\n",
       "      <td>0</td>\n",
       "      <td>0</td>\n",
       "      <td>0</td>\n",
       "      <td>0</td>\n",
       "      <td>1</td>\n",
       "      <td>No</td>\n",
       "    </tr>\n",
       "    <tr>\n",
       "      <th>110523</th>\n",
       "      <td>3.596266e+12</td>\n",
       "      <td>5650093</td>\n",
       "      <td>F</td>\n",
       "      <td>2016-05-03 07:27:33+00:00</td>\n",
       "      <td>2016-06-07 00:00:00+00:00</td>\n",
       "      <td>51</td>\n",
       "      <td>MARIA ORTIZ</td>\n",
       "      <td>0</td>\n",
       "      <td>0</td>\n",
       "      <td>0</td>\n",
       "      <td>0</td>\n",
       "      <td>0</td>\n",
       "      <td>1</td>\n",
       "      <td>No</td>\n",
       "    </tr>\n",
       "    <tr>\n",
       "      <th>110524</th>\n",
       "      <td>1.557663e+13</td>\n",
       "      <td>5630692</td>\n",
       "      <td>F</td>\n",
       "      <td>2016-04-27 16:03:52+00:00</td>\n",
       "      <td>2016-06-07 00:00:00+00:00</td>\n",
       "      <td>21</td>\n",
       "      <td>MARIA ORTIZ</td>\n",
       "      <td>0</td>\n",
       "      <td>0</td>\n",
       "      <td>0</td>\n",
       "      <td>0</td>\n",
       "      <td>0</td>\n",
       "      <td>1</td>\n",
       "      <td>No</td>\n",
       "    </tr>\n",
       "    <tr>\n",
       "      <th>110525</th>\n",
       "      <td>9.213493e+13</td>\n",
       "      <td>5630323</td>\n",
       "      <td>F</td>\n",
       "      <td>2016-04-27 15:09:23+00:00</td>\n",
       "      <td>2016-06-07 00:00:00+00:00</td>\n",
       "      <td>38</td>\n",
       "      <td>MARIA ORTIZ</td>\n",
       "      <td>0</td>\n",
       "      <td>0</td>\n",
       "      <td>0</td>\n",
       "      <td>0</td>\n",
       "      <td>0</td>\n",
       "      <td>1</td>\n",
       "      <td>No</td>\n",
       "    </tr>\n",
       "    <tr>\n",
       "      <th>110526</th>\n",
       "      <td>3.775115e+14</td>\n",
       "      <td>5629448</td>\n",
       "      <td>F</td>\n",
       "      <td>2016-04-27 13:30:56+00:00</td>\n",
       "      <td>2016-06-07 00:00:00+00:00</td>\n",
       "      <td>54</td>\n",
       "      <td>MARIA ORTIZ</td>\n",
       "      <td>0</td>\n",
       "      <td>0</td>\n",
       "      <td>0</td>\n",
       "      <td>0</td>\n",
       "      <td>0</td>\n",
       "      <td>1</td>\n",
       "      <td>No</td>\n",
       "    </tr>\n",
       "  </tbody>\n",
       "</table>\n",
       "<p>110527 rows × 14 columns</p>\n",
       "</div>"
      ],
      "text/plain": [
       "           PatientId  AppointmentID Gender              ScheduledDay  \\\n",
       "0       2.987250e+13        5642903      F 2016-04-29 18:38:08+00:00   \n",
       "1       5.589978e+14        5642503      M 2016-04-29 16:08:27+00:00   \n",
       "2       4.262962e+12        5642549      F 2016-04-29 16:19:04+00:00   \n",
       "3       8.679512e+11        5642828      F 2016-04-29 17:29:31+00:00   \n",
       "4       8.841186e+12        5642494      F 2016-04-29 16:07:23+00:00   \n",
       "...              ...            ...    ...                       ...   \n",
       "110522  2.572134e+12        5651768      F 2016-05-03 09:15:35+00:00   \n",
       "110523  3.596266e+12        5650093      F 2016-05-03 07:27:33+00:00   \n",
       "110524  1.557663e+13        5630692      F 2016-04-27 16:03:52+00:00   \n",
       "110525  9.213493e+13        5630323      F 2016-04-27 15:09:23+00:00   \n",
       "110526  3.775115e+14        5629448      F 2016-04-27 13:30:56+00:00   \n",
       "\n",
       "                  AppointmentDay  Age      Neighbourhood  Scholarship  \\\n",
       "0      2016-04-29 00:00:00+00:00   62    JARDIM DA PENHA            0   \n",
       "1      2016-04-29 00:00:00+00:00   56    JARDIM DA PENHA            0   \n",
       "2      2016-04-29 00:00:00+00:00   62      MATA DA PRAIA            0   \n",
       "3      2016-04-29 00:00:00+00:00    8  PONTAL DE CAMBURI            0   \n",
       "4      2016-04-29 00:00:00+00:00   56    JARDIM DA PENHA            0   \n",
       "...                          ...  ...                ...          ...   \n",
       "110522 2016-06-07 00:00:00+00:00   56        MARIA ORTIZ            0   \n",
       "110523 2016-06-07 00:00:00+00:00   51        MARIA ORTIZ            0   \n",
       "110524 2016-06-07 00:00:00+00:00   21        MARIA ORTIZ            0   \n",
       "110525 2016-06-07 00:00:00+00:00   38        MARIA ORTIZ            0   \n",
       "110526 2016-06-07 00:00:00+00:00   54        MARIA ORTIZ            0   \n",
       "\n",
       "        Hipertension  Diabetes  Alcoholism  Handcap  SMS_received No-show  \n",
       "0                  1         0           0        0             0      No  \n",
       "1                  0         0           0        0             0      No  \n",
       "2                  0         0           0        0             0      No  \n",
       "3                  0         0           0        0             0      No  \n",
       "4                  1         1           0        0             0      No  \n",
       "...              ...       ...         ...      ...           ...     ...  \n",
       "110522             0         0           0        0             1      No  \n",
       "110523             0         0           0        0             1      No  \n",
       "110524             0         0           0        0             1      No  \n",
       "110525             0         0           0        0             1      No  \n",
       "110526             0         0           0        0             1      No  \n",
       "\n",
       "[110527 rows x 14 columns]"
      ]
     },
     "execution_count": 3,
     "metadata": {},
     "output_type": "execute_result"
    }
   ],
   "source": [
    "data"
   ]
  },
  {
   "cell_type": "code",
   "execution_count": 4,
   "id": "42ce37aa-a6b4-4880-9727-f01a38de84b7",
   "metadata": {},
   "outputs": [
    {
     "name": "stderr",
     "output_type": "stream",
     "text": [
      "C:\\Users\\SUDARSHAN\\AppData\\Local\\Packages\\PythonSoftwareFoundation.Python.3.12_qbz5n2kfra8p0\\LocalCache\\local-packages\\Python312\\site-packages\\sklearn\\preprocessing\\_label.py:110: DataConversionWarning: A column-vector y was passed when a 1d array was expected. Please change the shape of y to (n_samples, ), for example using ravel().\n",
      "  y = column_or_1d(y, warn=True)\n",
      "C:\\Users\\SUDARSHAN\\AppData\\Local\\Temp\\ipykernel_5104\\2725340149.py:9: SettingWithCopyWarning: \n",
      "A value is trying to be set on a copy of a slice from a DataFrame.\n",
      "Try using .loc[row_indexer,col_indexer] = value instead\n",
      "\n",
      "See the caveats in the documentation: https://pandas.pydata.org/pandas-docs/stable/user_guide/indexing.html#returning-a-view-versus-a-copy\n",
      "  X['AppointmentTime'] = (data['AppointmentDay']-data['ScheduledDay']).dt.days\n",
      "C:\\Users\\SUDARSHAN\\AppData\\Local\\Temp\\ipykernel_5104\\2725340149.py:10: SettingWithCopyWarning: \n",
      "A value is trying to be set on a copy of a slice from a DataFrame.\n",
      "Try using .loc[row_indexer,col_indexer] = value instead\n",
      "\n",
      "See the caveats in the documentation: https://pandas.pydata.org/pandas-docs/stable/user_guide/indexing.html#returning-a-view-versus-a-copy\n",
      "  X['AppointmentTime'] = X['AppointmentTime'].apply(lambda x: np.maximum(x, 0))\n",
      "C:\\Users\\SUDARSHAN\\AppData\\Local\\Temp\\ipykernel_5104\\2725340149.py:14: SettingWithCopyWarning: \n",
      "A value is trying to be set on a copy of a slice from a DataFrame.\n",
      "Try using .loc[row_indexer,col_indexer] = value instead\n",
      "\n",
      "See the caveats in the documentation: https://pandas.pydata.org/pandas-docs/stable/user_guide/indexing.html#returning-a-view-versus-a-copy\n",
      "  X['Appointment_on_weekend'] = (data['AppointmentDay'].dt.dayofweek).isin([5, 6]).astype(int)\n",
      "C:\\Users\\SUDARSHAN\\AppData\\Local\\Temp\\ipykernel_5104\\2725340149.py:15: SettingWithCopyWarning: \n",
      "A value is trying to be set on a copy of a slice from a DataFrame.\n",
      "Try using .loc[row_indexer,col_indexer] = value instead\n",
      "\n",
      "See the caveats in the documentation: https://pandas.pydata.org/pandas-docs/stable/user_guide/indexing.html#returning-a-view-versus-a-copy\n",
      "  X.loc[:, 'Weekday'] = data['AppointmentDay'].dt.dayofweek.copy()\n"
     ]
    }
   ],
   "source": [
    "y = LabelEncoder().fit_transform(data[[\"No-show\"]])\n",
    "\n",
    "\n",
    "\n",
    "\n",
    "X = data[[\"Age\", \"Scholarship\",\t\"Hipertension\",\t\"Diabetes\",\t\"Alcoholism\",\t\"Handcap\",\t\"SMS_received\"]]\n",
    "\n",
    "#add number of days between scheduled and actual date as a new feature\n",
    "X['AppointmentTime'] = (data['AppointmentDay']-data['ScheduledDay']).dt.days\n",
    "X['AppointmentTime'] = X['AppointmentTime'].apply(lambda x: np.maximum(x, 0))\n",
    "\n",
    "#add a new label indication if the appointmentDay is weekend or not\n",
    "\n",
    "X['Appointment_on_weekend'] = (data['AppointmentDay'].dt.dayofweek).isin([5, 6]).astype(int)\n",
    "X.loc[:, 'Weekday'] = data['AppointmentDay'].dt.dayofweek.copy()\n",
    "\n",
    "\n",
    "#one hot encode gender\n",
    "X = pd.concat([X, pd.get_dummies(data['Gender']).astype(np.float32)], axis=1)\n",
    "\n",
    "X['Age']= StandardScaler().fit_transform(X[['Age']])\n",
    "X.head()\n",
    "\n",
    "# y = y.reshape((-1, 1))\n",
    "y = y.reshape(-1, 1)\n",
    "\n",
    "\n",
    "X_train, X_test, y_train, y_test = train_test_split(X, y, test_size=.3)\n",
    "X_train = X_train.to_numpy()\n",
    "X_test= X_test.to_numpy()\n",
    "\n",
    "\n",
    "#NO is encoded as 0, YES as 1 in y"
   ]
  },
  {
   "cell_type": "code",
   "execution_count": 5,
   "id": "bb7208c6-6d4d-4943-976c-6db87a53094b",
   "metadata": {},
   "outputs": [],
   "source": [
    "# # y = pd.DataFrame({'NoShow':y})\n",
    "# z = pd.concat([X, y], axis=1)\n",
    "\n",
    "# z.to_csv(\"transformed_dataset.csv\", index=False)\n"
   ]
  },
  {
   "cell_type": "code",
   "execution_count": 38,
   "id": "8aca8ea1-aa60-4bc8-84a9-06f272027f67",
   "metadata": {},
   "outputs": [],
   "source": [
    "from main import Sequential, Dense, Adam, L2Regularizer\n",
    "model = Sequential([\n",
    "    Dense(64),#, regularizer=L2Regularizer(0.01)),\n",
    "    Dense(32),#, regularizer=L2Regularizer(0.01)),\n",
    "    Dense(16),#, regularizer=L2Regularizer(0.001)),\n",
    "    Dense(16), \n",
    "    Dense(8),#, regularizer=L2Regularizer(0.001)),\n",
    "    Dense(8),\n",
    "    Dense(1, activation='sigmoid')\n",
    "])"
   ]
  },
  {
   "cell_type": "code",
   "execution_count": 39,
   "id": "047ae913-892f-4709-a311-9caf4f6ec4ed",
   "metadata": {},
   "outputs": [],
   "source": [
    "model.compile(loss='binary_cross_entropy', optimizer=Adam(model, learning_rate=1e-3))\n",
    "model.build(X.shape[1])"
   ]
  },
  {
   "cell_type": "code",
   "execution_count": 40,
   "id": "3ec4ecf6-1aa9-4e0f-a79e-551ddba87ab6",
   "metadata": {},
   "outputs": [
    {
     "data": {
      "text/plain": [
       "np.float64(0.26617207997828646)"
      ]
     },
     "execution_count": 40,
     "metadata": {},
     "output_type": "execute_result"
    }
   ],
   "source": [
    "y_pred = model.predict(X_test)\n",
    "from main import accuracy\n",
    "accuracy(y_pred>=0.5, y_test)\n"
   ]
  },
  {
   "cell_type": "code",
   "execution_count": 52,
   "id": "50b4a089-ff00-4ace-86f9-7c97caec0a8c",
   "metadata": {},
   "outputs": [
    {
     "name": "stdout",
     "output_type": "stream",
     "text": [
      "Epoch: 1, time taken: 0.48267698287963867, accuracy=0.7973096416784536, binary_cross_entropy loss=0.4526214330269436\n",
      "Epoch: 2, time taken: 0.4382789134979248, accuracy=0.7971715140264026, binary_cross_entropy loss=0.4526831775558783\n",
      "Epoch: 3, time taken: 0.4330768585205078, accuracy=0.7973096416784536, binary_cross_entropy loss=0.4522287747835545\n",
      "Epoch: 4, time taken: 0.41196298599243164, accuracy=0.7975398544318717, binary_cross_entropy loss=0.4516862317338233\n",
      "Epoch: 5, time taken: 0.427990198135376, accuracy=0.7971715140264026, binary_cross_entropy loss=0.45180918920004204\n",
      "Epoch: 6, time taken: 0.42613768577575684, accuracy=0.7972175565770863, binary_cross_entropy loss=0.45170393860858243\n",
      "Epoch: 7, time taken: 0.4396069049835205, accuracy=0.7974477693305045, binary_cross_entropy loss=0.45099244198336147\n",
      "Epoch: 8, time taken: 0.40621161460876465, accuracy=0.7971715140264026, binary_cross_entropy loss=0.45176316075952644\n",
      "Epoch: 9, time taken: 0.4339303970336914, accuracy=0.797125471475719, binary_cross_entropy loss=0.4514534424289867\n",
      "Epoch: 10, time taken: 0.4341013431549072, accuracy=0.7970794289250354, binary_cross_entropy loss=0.4513738371938499\n",
      "Epoch: 11, time taken: 0.4238572120666504, accuracy=0.7974938118811881, binary_cross_entropy loss=0.4503786491633979\n",
      "Epoch: 12, time taken: 0.43379902839660645, accuracy=0.7973096416784536, binary_cross_entropy loss=0.4506499906593357\n",
      "Epoch: 13, time taken: 0.42807626724243164, accuracy=0.7974477693305045, binary_cross_entropy loss=0.4503015743300249\n",
      "Epoch: 14, time taken: 0.45136451721191406, accuracy=0.7972635991277699, binary_cross_entropy loss=0.45063347595892866\n",
      "Epoch: 15, time taken: 0.4036710262298584, accuracy=0.7973096416784536, binary_cross_entropy loss=0.45043848342256654\n"
     ]
    }
   ],
   "source": [
    "\n",
    "(train_loss, train_accuracy), (test_loss, test_accuracy) = model.fit(X_train, y_train, epochs=15, batch_size=256, X_test=X_test, y_test=y_test)"
   ]
  },
  {
   "cell_type": "code",
   "execution_count": 42,
   "id": "74af8394-e47b-4554-9e78-821c8740c1d6",
   "metadata": {},
   "outputs": [],
   "source": [
    "# model.optimizer.learning_rate=1e-5\n",
    "# (train_loss, train_accuracy), (test_loss, test_accuracy) = model.fit(X_train_true, np.ones((X_train_true.shape[0], 1)), epochs=1, batch_size=1024, X_test=X_test, y_test=y_test)"
   ]
  },
  {
   "cell_type": "code",
   "execution_count": 43,
   "id": "42d91cbd-986c-49ad-b50f-d0f46f26c7b7",
   "metadata": {},
   "outputs": [],
   "source": [
    "# model.fit(X_train, y_train, epochs=500, learning_rate=1e-2)\n",
    "# plt.plot(train_loss)\n",
    "# plt.plot(train_accuracy)"
   ]
  },
  {
   "cell_type": "code",
   "execution_count": 44,
   "id": "10016105-7312-4163-92f8-d55dacad2f9e",
   "metadata": {},
   "outputs": [],
   "source": [
    "# plt.plot(test_loss)\n",
    "# plt.plot(test_accuracy)"
   ]
  },
  {
   "cell_type": "code",
   "execution_count": 45,
   "id": "26e3d77f-4601-422c-885b-1dba8af14366",
   "metadata": {},
   "outputs": [],
   "source": [
    "y_pred = model.predict(X_test)"
   ]
  },
  {
   "cell_type": "code",
   "execution_count": 46,
   "id": "b43f5fd0-33ef-4d23-a10d-7a9fbdda122a",
   "metadata": {},
   "outputs": [
    {
     "data": {
      "text/plain": [
       "np.float64(0.7998733375554148)"
      ]
     },
     "execution_count": 46,
     "metadata": {},
     "output_type": "execute_result"
    }
   ],
   "source": [
    "from main import accuracy, calculate_f1, calculate_precision, calculate_recall\n",
    "accuracy(y_pred>=0.5, y_test)"
   ]
  },
  {
   "cell_type": "code",
   "execution_count": 47,
   "id": "364e9404-671d-4bfa-a95e-66c7c7fdaf38",
   "metadata": {},
   "outputs": [
    {
     "data": {
      "text/plain": [
       "0.7493220585212356"
      ]
     },
     "execution_count": 47,
     "metadata": {},
     "output_type": "execute_result"
    }
   ],
   "source": [
    "f1_score(y_test, y_pred>=0.365, average='weighted')"
   ]
  },
  {
   "cell_type": "code",
   "execution_count": 48,
   "id": "36c3bc16-17b0-47fa-82f8-5f3e7f94a568",
   "metadata": {},
   "outputs": [],
   "source": [
    "from sklearn.metrics import precision_score, recall_score, f1_score, precision_recall_curve\n"
   ]
  },
  {
   "cell_type": "code",
   "execution_count": 53,
   "id": "6f88e4e4-c730-451b-b643-68a7ab05d6eb",
   "metadata": {},
   "outputs": [],
   "source": [
    "precision, recall, thresholds = precision_recall_curve(y_test, y_pred)\n"
   ]
  },
  {
   "cell_type": "code",
   "execution_count": 54,
   "id": "62c02bfe-0fef-48ee-a090-111046899e7a",
   "metadata": {},
   "outputs": [],
   "source": [
    "f1 = 2*precision*recall/(precision+recall+1e-9)"
   ]
  },
  {
   "cell_type": "code",
   "execution_count": 57,
   "id": "48298e94-2465-407b-9b80-349b679285fd",
   "metadata": {},
   "outputs": [
    {
     "name": "stdout",
     "output_type": "stream",
     "text": [
      "0.4390286432649334\n"
     ]
    },
    {
     "data": {
      "text/plain": [
       "np.int64(5619)"
      ]
     },
     "execution_count": 57,
     "metadata": {},
     "output_type": "execute_result"
    }
   ],
   "source": [
    "# plt.plot(thresholds, f1[:-1])\n",
    "print(np.max(f1))\n",
    "\n",
    "np.argmax(f1)\n",
    "# thresholds[5826]\n"
   ]
  },
  {
   "cell_type": "code",
   "execution_count": 34,
   "id": "aed640c6-9c59-4859-b59f-e486d87d54fe",
   "metadata": {},
   "outputs": [
    {
     "data": {
      "text/plain": [
       "[<matplotlib.lines.Line2D at 0x259caf9f950>]"
      ]
     },
     "execution_count": 34,
     "metadata": {},
     "output_type": "execute_result"
    },
    {
     "data": {
      "image/png": "[encoded data removed]",
      "text/plain": [
       "<Figure size 640x480 with 1 Axes>"
      ]
     },
     "metadata": {},
     "output_type": "display_data"
    }
   ],
   "source": [
    "# plt.plot(f1,'b')\n",
    "# plt.plot(recall, 'orange')\n",
    "# plt.plot(precision, 'g')\n",
    "\n",
    "plt.plot(thresholds, f1[:-1],'b')\n",
    "plt.plot(thresholds,recall[:-1], 'orange')\n",
    "plt.plot(thresholds,precision[:-1], 'g')\n",
    "# plt.plot([0, 0.5], [0.447, 0.447], 'r')"
   ]
  },
  {
   "cell_type": "code",
   "execution_count": 35,
   "id": "522bde1b-92f3-4005-9b31-1b1757a29afb",
   "metadata": {},
   "outputs": [
    {
     "data": {
      "text/plain": [
       "[<matplotlib.lines.Line2D at 0x259ca24c560>]"
      ]
     },
     "execution_count": 35,
     "metadata": {},
     "output_type": "execute_result"
    },
    {
     "data": {
      "image/png": "[encoded data removed]",
      "text/plain": [
       "<Figure size 640x480 with 1 Axes>"
      ]
     },
     "metadata": {},
     "output_type": "display_data"
    }
   ],
   "source": [
    "plt.plot(recall, precision)"
   ]
  },
  {
   "cell_type": "code",
   "execution_count": 36,
   "id": "4dd2ae90-9139-4792-bfe9-8e2235f66d57",
   "metadata": {},
   "outputs": [
    {
     "data": {
      "text/plain": [
       "np.float64(0.34480490617380255)"
      ]
     },
     "execution_count": 36,
     "metadata": {},
     "output_type": "execute_result"
    }
   ],
   "source": [
    "from sklearn.metrics import auc\n",
    "auc(recall, precision)"
   ]
  },
  {
   "cell_type": "code",
   "execution_count": null,
   "id": "8a1357a7-2ee4-4cdf-9236-ffb0d2ad9653",
   "metadata": {},
   "outputs": [],
   "source": [
    "import psutil\n",
    "psutil.virtual_memory().used"
   ]
  },
  {
   "cell_type": "code",
   "execution_count": 37,
   "id": "a1dbb863-3197-4eea-b08f-2396dc7cb76d",
   "metadata": {},
   "outputs": [
    {
     "name": "stdout",
     "output_type": "stream",
     "text": [
      "Current script - RSS: 319.07 MB\n",
      "Current script - VMS: 1287.30 MB\n",
      "Total system RAM used: 13.78 GB\n"
     ]
    }
   ],
   "source": [
    "### THIS PART OF CODE WAS GENERATED USING GEMINI\n",
    "\n",
    "import psutil\n",
    "import os\n",
    "\n",
    "# Get the current process\n",
    "process = psutil.Process(os.getpid())\n",
    "\n",
    "# Get memory info for this specific process\n",
    "# .rss (Resident Set Size) is often a good measure for actual physical RAM used by the process.\n",
    "# .vms (Virtual Memory Size) is the total virtual address space, can be much larger.\n",
    "mem_info = process.memory_info()\n",
    "rss_bytes = mem_info.rss\n",
    "vms_bytes = mem_info.vms\n",
    "\n",
    "print(f\"Current script - RSS: {rss_bytes / (1024 * 1024):.2f} MB\") # Resident Set Size\n",
    "print(f\"Current script - VMS: {vms_bytes / (1024 * 1024):.2f} MB\") # Virtual Memory Size\n",
    "\n",
    "# For total system usage (what you were using before)\n",
    "total_system_used_bytes = psutil.virtual_memory().used\n",
    "print(f\"Total system RAM used: {total_system_used_bytes / (1024 * 1024 * 1024):.2f} GB\")"
   ]
  },
  {
   "cell_type": "code",
   "execution_count": null,
   "id": "97a58cbd-214f-4256-8f6f-89e9dff70788",
   "metadata": {},
   "outputs": [],
   "source": []
  }
 ],
 "metadata": {
  "kernelspec": {
   "display_name": "Python 3 (ipykernel)",
   "language": "python",
   "name": "python3"
  },
  "language_info": {
   "codemirror_mode": {
    "name": "ipython",
    "version": 3
   },
   "file_extension": ".py",
   "mimetype": "text/x-python",
   "name": "python",
   "nbconvert_exporter": "python",
   "pygments_lexer": "ipython3",
   "version": "3.12.10"
  }
 },
 "nbformat": 4,
 "nbformat_minor": 5
}
