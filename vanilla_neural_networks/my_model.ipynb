{
 "cells": [
  {
   "cell_type": "code",
   "execution_count": 24,
   "id": "d0356e67-0039-46a9-8e08-a3ba242089d5",
   "metadata": {},
   "outputs": [],
   "source": [
    "import pandas as pd \n",
    "import numpy as np\n",
    "from sklearn.preprocessing import LabelEncoder\n",
    "from sklearn.model_selection import train_test_split\n",
    "import matplotlib.pyplot as plt\n"
   ]
  },
  {
   "cell_type": "code",
   "execution_count": 2,
   "id": "bc21ae51-4eb5-4e3a-9422-2dcfa7f94b11",
   "metadata": {},
   "outputs": [],
   "source": [
    "data = pd.read_csv(\"./dataset.csv\")\n",
    "\n"
   ]
  },
  {
   "cell_type": "code",
   "execution_count": 3,
   "id": "33b58e3d-0a3f-47cf-982f-461c765f6e7b",
   "metadata": {},
   "outputs": [
    {
     "name": "stderr",
     "output_type": "stream",
     "text": [
      "C:\\Users\\SUDARSHAN\\AppData\\Local\\Temp\\ipykernel_33984\\3557131927.py:6: SettingWithCopyWarning: \n",
      "A value is trying to be set on a copy of a slice from a DataFrame.\n",
      "Try using .loc[row_indexer,col_indexer] = value instead\n",
      "\n",
      "See the caveats in the documentation: https://pandas.pydata.org/pandas-docs/stable/user_guide/indexing.html#returning-a-view-versus-a-copy\n",
      "  X['Gender'] = LabelEncoder().fit_transform(X['Gender'])\n"
     ]
    }
   ],
   "source": [
    "y = LabelEncoder().fit_transform(data[\"No-show\"])\n",
    "\n",
    "\n",
    "\n",
    "X = data[[\"Age\", \"Gender\", \"Scholarship\",\t\"Hipertension\",\t\"Diabetes\",\t\"Alcoholism\",\t\"Handcap\",\t\"SMS_received\"]]\n",
    "X['Gender'] = LabelEncoder().fit_transform(X['Gender'])\n",
    "X.head()\n",
    "\n",
    "y = y.reshape((-1, 1))\n",
    "\n",
    "X_train, X_test, y_train, y_test = train_test_split(X, y, test_size=.3)\n",
    "X_train = X_train.to_numpy()\n",
    "X_test= X_test.to_numpy()\n"
   ]
  },
  {
   "cell_type": "code",
   "execution_count": 28,
   "id": "8aca8ea1-aa60-4bc8-84a9-06f272027f67",
   "metadata": {},
   "outputs": [],
   "source": [
    "from main import Sequential, Dense\n",
    "model = Sequential([\n",
    "    Dense(8),\n",
    "    Dense(4),\n",
    "    Dense(1, activation='sigmoid')\n",
    "])"
   ]
  },
  {
   "cell_type": "code",
   "execution_count": 29,
   "id": "047ae913-892f-4709-a311-9caf4f6ec4ed",
   "metadata": {},
   "outputs": [],
   "source": [
    "model.compile(loss='binary_cross_entropy')\n",
    "model.build(X.shape[1])"
   ]
  },
  {
   "cell_type": "code",
   "execution_count": 30,
   "id": "3ec4ecf6-1aa9-4e0f-a79e-551ddba87ab6",
   "metadata": {},
   "outputs": [
    {
     "data": {
      "text/plain": [
       "np.float64(0.20597726107542447)"
      ]
     },
     "execution_count": 30,
     "metadata": {},
     "output_type": "execute_result"
    }
   ],
   "source": [
    "y_pred = model.predict(X_test)\n",
    "from main import accuracy\n",
    "accuracy(y_pred>=0.5, y_test)\n"
   ]
  },
  {
   "cell_type": "code",
   "execution_count": 31,
   "id": "50b4a089-ff00-4ace-86f9-7c97caec0a8c",
   "metadata": {},
   "outputs": [
    {
     "name": "stdout",
     "output_type": "stream",
     "text": [
      "Epoch: 1, time taken: 1.5085999965667725, binary_cross_entropy loss: 0.5334310906248675, Accuracy: 0.7926656413040201\n",
      "Epoch: 2, time taken: 1.638636589050293, binary_cross_entropy loss: 0.5274570907469989, Accuracy: 0.793570373051057\n",
      "Epoch: 3, time taken: 1.5641329288482666, binary_cross_entropy loss: 0.5219841372058976, Accuracy: 0.7940227389245755\n",
      "Epoch: 4, time taken: 1.5342824459075928, binary_cross_entropy loss: 0.518973022691044, Accuracy: 0.7940227389245755\n"
     ]
    }
   ],
   "source": [
    "(train_loss, train_accuracy), (test_loss, test_accuracy) = model.fit(X_train, y_train, epochs=4, learning_rate=1e-3, X_test=X_test, y_test=y_test)"
   ]
  },
  {
   "cell_type": "code",
   "execution_count": 27,
   "id": "42d91cbd-986c-49ad-b50f-d0f46f26c7b7",
   "metadata": {},
   "outputs": [
    {
     "data": {
      "text/plain": [
       "[<matplotlib.lines.Line2D at 0x16b89afd6a0>]"
      ]
     },
     "execution_count": 27,
     "metadata": {},
     "output_type": "execute_result"
    },
    {
     "data": {
      "image/png": "[encoded data removed]",
      "text/plain": [
       "<Figure size 640x480 with 1 Axes>"
      ]
     },
     "metadata": {},
     "output_type": "display_data"
    }
   ],
   "source": [
    "# model.fit(X_train, y_train, epochs=500, learning_rate=1e-2)\n",
    "plt.plot(train_loss)"
   ]
  },
  {
   "cell_type": "code",
   "execution_count": 21,
   "id": "26e3d77f-4601-422c-885b-1dba8af14366",
   "metadata": {},
   "outputs": [],
   "source": [
    "y_pred = model.predict(X_test)"
   ]
  },
  {
   "cell_type": "code",
   "execution_count": 22,
   "id": "b43f5fd0-33ef-4d23-a10d-7a9fbdda122a",
   "metadata": {},
   "outputs": [
    {
     "data": {
      "text/plain": [
       "np.float64(0.7940227389245755)"
      ]
     },
     "execution_count": 22,
     "metadata": {},
     "output_type": "execute_result"
    }
   ],
   "source": [
    "from main import accuracy\n",
    "accuracy(y_pred>=0.5, y_test)"
   ]
  },
  {
   "cell_type": "code",
   "execution_count": 11,
   "id": "364e9404-671d-4bfa-a95e-66c7c7fdaf38",
   "metadata": {},
   "outputs": [
    {
     "data": {
      "text/plain": [
       "array([[0.14424558],\n",
       "       [0.22415764],\n",
       "       [0.23348788],\n",
       "       ...,\n",
       "       [0.23465055],\n",
       "       [0.20634341],\n",
       "       [0.23216167]])"
      ]
     },
     "execution_count": 11,
     "metadata": {},
     "output_type": "execute_result"
    }
   ],
   "source": [
    "y_pred"
   ]
  },
  {
   "cell_type": "code",
   "execution_count": null,
   "id": "36c3bc16-17b0-47fa-82f8-5f3e7f94a568",
   "metadata": {},
   "outputs": [],
   "source": []
  },
  {
   "cell_type": "code",
   "execution_count": null,
   "id": "62c02bfe-0fef-48ee-a090-111046899e7a",
   "metadata": {},
   "outputs": [],
   "source": []
  }
 ],
 "metadata": {
  "kernelspec": {
   "display_name": "Python 3 (ipykernel)",
   "language": "python",
   "name": "python3"
  },
  "language_info": {
   "codemirror_mode": {
    "name": "ipython",
    "version": 3
   },
   "file_extension": ".py",
   "mimetype": "text/x-python",
   "name": "python",
   "nbconvert_exporter": "python",
   "pygments_lexer": "ipython3",
   "version": "3.12.10"
  }
 },
 "nbformat": 4,
 "nbformat_minor": 5
}
