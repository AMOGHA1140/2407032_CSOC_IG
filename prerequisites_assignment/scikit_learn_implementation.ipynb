{
 "cells": [
  {
   "cell_type": "code",
   "execution_count": 25,
   "id": "50577fbd",
   "metadata": {},
   "outputs": [],
   "source": [
    "import pandas as pd\n",
    "from pprint import pprint\n",
    "import sklearn\n",
    "from sklearn.model_selection import train_test_split\n",
    "from sklearn.preprocessing import StandardScaler\n",
    "import copy\n",
    "import matplotlib.pyplot as plt\n",
    "from sklearn.metrics import root_mean_squared_error, mean_absolute_error, mean_squared_error\n",
    "from sklearn.metrics import r2_score as sklearn_r2_score\n",
    "import time\n",
    "from sklearn.linear_model import LinearRegression\n",
    "import numpy as np"
   ]
  },
  {
   "cell_type": "code",
   "execution_count": 57,
   "id": "1e43c810",
   "metadata": {},
   "outputs": [
    {
     "name": "stdout",
     "output_type": "stream",
     "text": [
      "longitude             0\n",
      "latitude              0\n",
      "housing_median_age    0\n",
      "total_rooms           0\n",
      "total_bedrooms        0\n",
      "population            0\n",
      "households            0\n",
      "median_income         0\n",
      "INLAND                0\n",
      "ISLAND                0\n",
      "NEAR BAY              0\n",
      "NEAR OCEAN            0\n",
      "dtype: int64\n",
      "[ 2.12963148  1.31415614  1.25869341 ... -0.99274649 -1.05860847\n",
      " -1.01787803]\n"
     ]
    }
   ],
   "source": [
    "\n",
    "\n",
    "dataset = pd.read_csv(\"housing.csv\")\n",
    "# dataset.head()\n",
    "# dataset = dataset.fillna(dataset.median())\n",
    "X = dataset.drop(columns=[\"median_house_value\", 'ocean_proximity'])\n",
    "y = dataset['median_house_value']\n",
    "\n",
    "\n",
    "\n",
    "# pd.get_dummies(dataset['ocean_proximity'])\n",
    "X = pd.concat([X, pd.get_dummies(dataset['ocean_proximity'], drop_first=True)], axis=1)\n",
    "\n",
    "M, N = X.shape\n",
    "X['total_bedrooms'] = X['total_bedrooms'].fillna(X['total_bedrooms'].median())\n",
    "\n",
    "\n",
    "columns = ['longitude', 'latitude', 'housing_median_age', 'total_rooms', 'total_bedrooms', 'population', 'households', 'median_income']\n",
    "scaler = StandardScaler()\n",
    "X[columns] =  scaler.fit_transform(X[columns])\n",
    "y = StandardScaler().fit_transform(dataset[['median_house_value']]).reshape((-1))\n",
    "\n",
    "\n",
    "\n",
    "X_train, X_test, y_train, y_test = train_test_split(X, y, test_size=0.3, random_state=42)\n",
    "print(X.isna().sum())\n",
    "X.head()\n",
    "X_train = X_train.to_numpy()\n",
    "X_test = X_test.to_numpy()\n",
    "\n",
    "print(y)"
   ]
  },
  {
   "cell_type": "code",
   "execution_count": 58,
   "id": "70ac396b",
   "metadata": {},
   "outputs": [
    {
     "name": "stdout",
     "output_type": "stream",
     "text": [
      "Time taken:  0.012998342514038086\n",
      "\n",
      "On training dataset:\n",
      "MSE -  0.17755556968690311\n",
      "RMSE -  0.42137343258314597\n",
      "MAE -  0.4309052334205368\n",
      "R2-Score -  0.6470480227253683\n",
      "\n",
      "On test dataset:\n",
      "MSE -  0.17774504173074568\n",
      "RMSE -  0.4215981993922005\n",
      "MAE -  0.4339793296167354\n",
      "R2-Score -  0.6393611711434393\n"
     ]
    }
   ],
   "source": [
    "model = LinearRegression()\n",
    "\n",
    "start = time.time()\n",
    "reg = model.fit(X_train, y_train)\n",
    "time_taken = time.time() - start\n",
    "\n",
    "y_train_prediction = reg.predict(X_train)\n",
    "y_test_prediction = reg.predict(X_test)\n",
    "\n",
    "\n",
    "print(\"Time taken: \", time_taken)\n",
    "print()\n",
    "\n",
    "print(\"On training dataset:\")\n",
    "print(\"MSE - \", mean_squared_error(y_train, y_train_prediction)/2)\n",
    "print(\"RMSE - \", root_mean_squared_error(y_train, y_train_prediction)/2**0.5)\n",
    "print(\"MAE - \", mean_absolute_error(y_train, y_train_prediction))\n",
    "print(\"R2-Score - \", sklearn_r2_score(y_train, y_train_prediction))\n",
    "print()\n",
    "\n",
    "print(\"On test dataset:\")\n",
    "print(\"MSE - \", mean_squared_error(y_test, y_test_prediction)/2)\n",
    "print(\"RMSE - \", root_mean_squared_error(y_test, y_test_prediction)/2**0.5)\n",
    "print(\"MAE - \", mean_absolute_error(y_test, y_test_prediction))\n",
    "print(\"R2-Score - \", sklearn_r2_score(y_test, y_test_prediction))\n",
    "\n"
   ]
  },
  {
   "cell_type": "code",
   "execution_count": 59,
   "id": "a9d3ce24",
   "metadata": {},
   "outputs": [],
   "source": [
    "X_new = np.concatenate([np.ones((X_train.shape[0], 1)), X_train], axis=1).astype(np.float64)\n",
    "# X_new = X_new[:1]\n",
    "\n",
    "\n",
    "\n",
    "# print(np.isnan(X_new).sum())\n",
    "# print((X_new.T@X_new).tolist())\n",
    "\n",
    "params = np.linalg.inv(X_new.T@X_new)@X_new.T@y_train"
   ]
  },
  {
   "cell_type": "code",
   "execution_count": 60,
   "id": "d7bdf3f6",
   "metadata": {},
   "outputs": [
    {
     "name": "stdout",
     "output_type": "stream",
     "text": [
      "[ 0.11360791 -0.46013883 -0.46118261  0.12062252 -0.11101941  0.3842319\n",
      " -0.36631703  0.1401925   0.64651846 -0.3559672   1.17761699 -0.05256867\n",
      "  0.02749749]\n",
      "0.11360790688485484 [-0.46013883 -0.46118261  0.12062252 -0.11101941  0.3842319  -0.36631703\n",
      "  0.1401925   0.64651846 -0.3559672   1.17761699 -0.05256867  0.02749749]\n"
     ]
    }
   ],
   "source": [
    "print(params)\n",
    "\n",
    "print(reg.intercept_,reg.coef_)"
   ]
  },
  {
   "cell_type": "code",
   "execution_count": 61,
   "id": "b8fbce5d",
   "metadata": {},
   "outputs": [
    {
     "name": "stdout",
     "output_type": "stream",
     "text": [
      "0.35549008346149125\n"
     ]
    }
   ],
   "source": [
    "W = params[1:]\n",
    "b = params[0]\n",
    "\n",
    "mse = mean_squared_error(y_test, X_test@W+b)\n",
    "print(mse)"
   ]
  },
  {
   "cell_type": "code",
   "execution_count": null,
   "id": "77febf20",
   "metadata": {},
   "outputs": [],
   "source": []
  }
 ],
 "metadata": {
  "kernelspec": {
   "display_name": "Python 3",
   "language": "python",
   "name": "python3"
  },
  "language_info": {
   "codemirror_mode": {
    "name": "ipython",
    "version": 3
   },
   "file_extension": ".py",
   "mimetype": "text/x-python",
   "name": "python",
   "nbconvert_exporter": "python",
   "pygments_lexer": "ipython3",
   "version": "3.12.10"
  }
 },
 "nbformat": 4,
 "nbformat_minor": 5
}
