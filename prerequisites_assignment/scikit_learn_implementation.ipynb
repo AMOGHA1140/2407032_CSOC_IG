{
 "cells": [
  {
   "cell_type": "code",
   "execution_count": 7,
   "id": "50577fbd",
   "metadata": {},
   "outputs": [],
   "source": [
    "import pandas as pd\n",
    "from pprint import pprint\n",
    "import sklearn\n",
    "from sklearn.model_selection import train_test_split\n",
    "from sklearn.preprocessing import StandardScaler\n",
    "import copy\n",
    "import matplotlib.pyplot as plt\n",
    "from sklearn.metrics import root_mean_squared_error, mean_absolute_error, mean_squared_error\n",
    "from sklearn.metrics import r2_score as sklearn_r2_score\n",
    "import time\n",
    "from sklearn.linear_model import LinearRegression\n",
    "import numpy as np"
   ]
  },
  {
   "cell_type": "code",
   "execution_count": 8,
   "id": "1e43c810",
   "metadata": {},
   "outputs": [
    {
     "name": "stdout",
     "output_type": "stream",
     "text": [
      "[ 2.12963148  1.31415614  1.25869341 ... -0.99274649 -1.05860847\n",
      " -1.01787803]\n"
     ]
    }
   ],
   "source": [
    "\n",
    "\n",
    "dataset = pd.read_csv(\"housing.csv\")\n",
    "# dataset.head()\n",
    "# dataset = dataset.fillna(dataset.median())\n",
    "X = dataset.drop(columns=[\"median_house_value\", 'ocean_proximity'])\n",
    "y = dataset['median_house_value']\n",
    "\n",
    "\n",
    "\n",
    "# pd.get_dummies(dataset['ocean_proximity'])\n",
    "\n",
    "M, N = X.shape\n",
    "X['total_bedrooms'] = X['total_bedrooms'].fillna(X['total_bedrooms'].median())\n",
    "\n",
    "\n",
    "columns = ['longitude', 'latitude', 'housing_median_age', 'total_rooms', 'total_bedrooms', 'population', 'households', 'median_income']\n",
    "scaler = StandardScaler()\n",
    "X[columns] =  scaler.fit_transform(X[columns])\n",
    "y = StandardScaler().fit_transform(dataset[['median_house_value']]).reshape((-1))\n",
    "\n",
    "X = pd.concat([X, pd.get_dummies(dataset['ocean_proximity'])], axis=1)\n",
    "\n",
    "X_train, X_test, y_train, y_test = train_test_split(X, y, test_size=0.3, random_state=42)\n",
    "# print(X.isna().sum())\n",
    "X.head()\n",
    "X_train = X_train.to_numpy()\n",
    "\n",
    "X_test = X_test.to_numpy()\n",
    "\n",
    "print(y)"
   ]
  },
  {
   "cell_type": "code",
   "execution_count": 9,
   "id": "70ac396b",
   "metadata": {},
   "outputs": [
    {
     "name": "stdout",
     "output_type": "stream",
     "text": [
      "Time taken:  0.016056537628173828\n",
      "\n",
      "On training dataset:\n",
      "MSE -  0.17755556968690311\n",
      "RMSE -  0.42137343258314597\n",
      "MAE -  0.4309052334205368\n",
      "R2-Score -  0.6470480227253683\n",
      "\n",
      "On test dataset:\n",
      "MSE -  0.17774504173074568\n",
      "RMSE -  0.4215981993922005\n",
      "MAE -  0.43397932961673547\n",
      "R2-Score -  0.6393611711434393\n"
     ]
    }
   ],
   "source": [
    "model = LinearRegression()\n",
    "\n",
    "start = time.time()\n",
    "reg = model.fit(X_train, y_train)\n",
    "time_taken = time.time() - start\n",
    "\n",
    "y_train_prediction = reg.predict(X_train)\n",
    "y_test_prediction = reg.predict(X_test)\n",
    "\n",
    "\n",
    "print(\"Time taken: \", time_taken)\n",
    "print()\n",
    "\n",
    "print(\"On training dataset:\")\n",
    "print(\"MSE - \", mean_squared_error(y_train, y_train_prediction)/2)\n",
    "print(\"RMSE - \", root_mean_squared_error(y_train, y_train_prediction)/2**0.5)\n",
    "print(\"MAE - \", mean_absolute_error(y_train, y_train_prediction))\n",
    "print(\"R2-Score - \", sklearn_r2_score(y_train, y_train_prediction))\n",
    "print()\n",
    "\n",
    "print(\"On test dataset:\")\n",
    "print(\"MSE - \", mean_squared_error(y_test, y_test_prediction)/2)\n",
    "print(\"RMSE - \", root_mean_squared_error(y_test, y_test_prediction)/2**0.5)\n",
    "print(\"MAE - \", mean_absolute_error(y_test, y_test_prediction))\n",
    "print(\"R2-Score - \", sklearn_r2_score(y_test, y_test_prediction))\n",
    "\n"
   ]
  },
  {
   "cell_type": "code",
   "execution_count": 10,
   "id": "a9d3ce24",
   "metadata": {},
   "outputs": [],
   "source": [
    "X_new = np.concatenate([np.ones((X_train.shape[0], 1)), X_train], axis=1).astype(np.float64)\n",
    "\n",
    "\n",
    "\n",
    "\n",
    "params = np.linalg.inv(X_new.T@X_new)@X_new.T@y_train"
   ]
  },
  {
   "cell_type": "code",
   "execution_count": 11,
   "id": "d7bdf3f6",
   "metadata": {},
   "outputs": [
    {
     "name": "stdout",
     "output_type": "stream",
     "text": [
      "[-0.62704426 -0.3144845  -0.24355345  0.12667885  0.00192418  0.23981207\n",
      " -0.51827097  0.33612177  0.59744891  0.48252612 -0.37951134  1.00803701\n",
      " -0.32400445  0.23312738]\n",
      "0.2729236293506678 [-0.46013883 -0.46118261  0.12062252 -0.11101941  0.3842319  -0.36631703\n",
      "  0.1401925   0.64651846 -0.15931572 -0.51528292  1.01830127 -0.21188439\n",
      " -0.13181823]\n"
     ]
    }
   ],
   "source": [
    "print(params)\n",
    "\n",
    "print(reg.intercept_,reg.coef_)"
   ]
  },
  {
   "cell_type": "code",
   "execution_count": 13,
   "id": "b8fbce5d",
   "metadata": {},
   "outputs": [
    {
     "name": "stdout",
     "output_type": "stream",
     "text": [
      "0.3536513023032572\n"
     ]
    }
   ],
   "source": [
    "W = params[1:]\n",
    "b = params[0]\n",
    "\n",
    "mse = mean_squared_error(y_test, X_test@W+b)/2\n",
    "print(mse)"
   ]
  },
  {
   "cell_type": "markdown",
   "id": "7c27e0f5",
   "metadata": {},
   "source": [
    "The above error shows that using the formula fails because of linearly dependent columns. lets try again now by removing 1 column from one hot encodings"
   ]
  },
  {
   "cell_type": "code",
   "execution_count": 30,
   "id": "77febf20",
   "metadata": {},
   "outputs": [
    {
     "name": "stdout",
     "output_type": "stream",
     "text": [
      "[-0.46013883 -0.46118261  0.12062252 -0.11101941  0.3842319  -0.36631703\n",
      "  0.1401925   0.64651846 -0.02749749 -0.38346469  1.1501195  -0.08006616]\n",
      "0.1411053971162745\n",
      "0.1775555696869031\n"
     ]
    }
   ],
   "source": [
    "X_train_new = np.delete(X_train, 12, 1).astype(np.float64)\n",
    "\n",
    "X_new = np.concatenate([np.ones((X_train_new.shape[0], 1)), X_train_new], axis=1).astype(np.float64)\n",
    "\n",
    "\n",
    "X_new.T@X_new\n",
    "np.linalg.inv(X_new.T@X_new)\n",
    "params = np.linalg.inv(X_new.T@X_new)@X_new.T@y_train\n",
    "\n",
    "W = params[1:]\n",
    "b = params[0]\n",
    "print(W)\n",
    "print(b)\n",
    "mse = mean_squared_error(y_train, X_train_new@W+b)/2\n",
    "print(mse)"
   ]
  },
  {
   "cell_type": "code",
   "execution_count": 34,
   "id": "c135b357",
   "metadata": {},
   "outputs": [
    {
     "name": "stdout",
     "output_type": "stream",
     "text": [
      "[-0.46013883 -0.46118261  0.12062252 -0.11101941  0.3842319  -0.36631703\n",
      "  0.1401925   0.64651846 -0.02749749 -0.38346469  1.1501195  -0.08006616]\n",
      "0.14110539711627756\n",
      "0.17755556968690311\n"
     ]
    }
   ],
   "source": [
    "reg = LinearRegression().fit(X_train_new, y_train)\n",
    "print(reg.coef_)\n",
    "print(reg.intercept_)\n",
    "mse = mean_squared_error(y_train, reg.predict(X_train_new))/2\n",
    "print(mse)\n",
    "\n"
   ]
  },
  {
   "cell_type": "markdown",
   "id": "6396de21",
   "metadata": {},
   "source": [
    "As we can see, on dropping a column from one hot encoding, and doing the above method, we get exactly the same  answer as scikit-learn"
   ]
  }
 ],
 "metadata": {
  "kernelspec": {
   "display_name": "Python 3",
   "language": "python",
   "name": "python3"
  },
  "language_info": {
   "codemirror_mode": {
    "name": "ipython",
    "version": 3
   },
   "file_extension": ".py",
   "mimetype": "text/x-python",
   "name": "python",
   "nbconvert_exporter": "python",
   "pygments_lexer": "ipython3",
   "version": "3.12.10"
  }
 },
 "nbformat": 4,
 "nbformat_minor": 5
}
