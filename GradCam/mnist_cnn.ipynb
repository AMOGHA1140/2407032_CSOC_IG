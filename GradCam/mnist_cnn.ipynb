{
 "cells": [
  {
   "cell_type": "code",
   "execution_count": 2,
   "id": "ca271d32-f220-48dd-8fab-fef3a407e195",
   "metadata": {},
   "outputs": [],
   "source": [
    "import torch \n",
    "import torchvision\n",
    "from torchvision import datasets\n",
    "from torch.utils.data import Dataset, DataLoader, random_split\n",
    "import torch.nn as nn\n",
    "\n",
    "import torch.optim as optim\n",
    "\n",
    "\n",
    "import time\n",
    "import matplotlib.pyplot as plt\n",
    "import numpy as np"
   ]
  },
  {
   "cell_type": "code",
   "execution_count": 3,
   "id": "49c5b3a6-f0a1-4191-a99a-17bf5102ef04",
   "metadata": {},
   "outputs": [],
   "source": [
    "train = datasets.MNIST(\n",
    "    root='data',\n",
    "    train = True,\n",
    "    download=True,\n",
    "    transform=torchvision.transforms.ToTensor()\n",
    ")\n",
    "\n",
    "test = datasets.MNIST(\n",
    "    root='data',\n",
    "    train = False,\n",
    "    download=True,\n",
    "    transform=torchvision.transforms.ToTensor()\n",
    ")"
   ]
  },
  {
   "cell_type": "code",
   "execution_count": 4,
   "id": "e50ef630-5fa8-449a-8dfb-aeeb7c17aeea",
   "metadata": {},
   "outputs": [],
   "source": [
    "train_loader = DataLoader(train, batch_size=128, shuffle=True)\n",
    "test_loader = DataLoader(test, batch_size=len(test), shuffle=False)"
   ]
  },
  {
   "cell_type": "code",
   "execution_count": 5,
   "id": "11eb94da-b557-498b-863c-1029a3266c22",
   "metadata": {},
   "outputs": [
    {
     "name": "stdout",
     "output_type": "stream",
     "text": [
      "number =  7\n"
     ]
    },
    {
     "data": {
      "text/plain": [
       "<matplotlib.image.AxesImage at 0x16f148ba360>"
      ]
     },
     "execution_count": 5,
     "metadata": {},
     "output_type": "execute_result"
    },
    {
     "data": {
      "image/png": "[encoded data removed]",
      "text/plain": [
       "<Figure size 640x480 with 1 Axes>"
      ]
     },
     "metadata": {},
     "output_type": "display_data"
    }
   ],
   "source": [
    "i = 15 #the image number you want to see\n",
    "\n",
    "print(\"number = \", train[i][1])\n",
    "plt.imshow(train[i][0].view(28, 28), cmap='gray')"
   ]
  },
  {
   "cell_type": "code",
   "execution_count": 6,
   "id": "4f873cc2-45e4-4c27-8712-33d81a655fb8",
   "metadata": {},
   "outputs": [],
   "source": [
    "class Network(nn.Module):\n",
    "\n",
    "    def __init__(self) -> None:\n",
    "        super().__init__()\n",
    "        self.model = nn.Sequential(\n",
    "            nn.Conv2d(in_channels=1, out_channels=16, kernel_size=3, padding='same'),\n",
    "            nn.ReLU(),\n",
    "            nn.Conv2d(in_channels=16, out_channels=16, kernel_size=3, padding='same'),\n",
    "            nn.ReLU(),\n",
    "            nn.MaxPool2d(kernel_size=2, stride=2),\n",
    "\n",
    "            nn.Conv2d(in_channels=16, out_channels=32, kernel_size=3, padding='same'),\n",
    "            nn.ReLU(),\n",
    "            nn.Conv2d(in_channels=32, out_channels=32, kernel_size=3, padding='same'),\n",
    "            nn.ReLU(),\n",
    "            nn.MaxPool2d(kernel_size=2, stride=2),\n",
    "\n",
    "            nn.Flatten(),\n",
    "            nn.Linear(7*7*32, out_features=128),\n",
    "            nn.ReLU(),\n",
    "            nn.Linear(128, 10, )\n",
    "        )\n",
    "\n",
    "    def forward(self, input):\n",
    "        return self.model(input)"
   ]
  },
  {
   "cell_type": "code",
   "execution_count": 24,
   "id": "10591080",
   "metadata": {},
   "outputs": [],
   "source": [
    "\n",
    "model = Network()\n",
    "\n",
    "model.to('cuda')\n",
    "\n",
    "criterion = nn.CrossEntropyLoss()\n",
    "\n",
    "optimizer = optim.Adam(model.parameters(), lr=1e-3)"
   ]
  },
  {
   "cell_type": "code",
   "execution_count": null,
   "id": "06a11150",
   "metadata": {},
   "outputs": [
    {
     "name": "stdout",
     "output_type": "stream",
     "text": [
      "Epoch: 1, iteration: 1, test accuracy: 0.09799999743700027, test loss: 2.3027803897857666\n",
      "Epoch: 1, iteration: 101, test accuracy: 0.9286999702453613, test loss: 0.25182458758354187\n",
      "Epoch: 1, iteration: 201, test accuracy: 0.9493999481201172, test loss: 0.16792696714401245\n",
      "Epoch: 1, iteration: 301, test accuracy: 0.9702000021934509, test loss: 0.08921226859092712\n",
      "Epoch: 1, iteration: 401, test accuracy: 0.9767999649047852, test loss: 0.07458359748125076\n",
      "epoch: 1, iteration: 469, train loss: 0.27610322682857513, train accuracy: 0.9121166666666667, time taken: 11.518822193145752\n",
      "Epoch: 2, iteration: 1, test accuracy: 0.9807999730110168, test loss: 0.0615449883043766\n",
      "Epoch: 2, iteration: 101, test accuracy: 0.9812999963760376, test loss: 0.056011516600847244\n",
      "Epoch: 2, iteration: 201, test accuracy: 0.9828999638557434, test loss: 0.052740130573511124\n"
     ]
    },
    {
     "ename": "KeyboardInterrupt",
     "evalue": "",
     "output_type": "error",
     "traceback": [
      "\u001b[31m---------------------------------------------------------------------------\u001b[39m",
      "\u001b[31mKeyboardInterrupt\u001b[39m                         Traceback (most recent call last)",
      "\u001b[36mCell\u001b[39m\u001b[36m \u001b[39m\u001b[32mIn[25]\u001b[39m\u001b[32m, line 24\u001b[39m\n\u001b[32m     21\u001b[39m optimizer.step()\n\u001b[32m     23\u001b[39m torch.Tensor()\n\u001b[32m---> \u001b[39m\u001b[32m24\u001b[39m total_training_loss += \u001b[43mloss_value\u001b[49m\u001b[43m.\u001b[49m\u001b[43mitem\u001b[49m\u001b[43m(\u001b[49m\u001b[43m)\u001b[49m*labels.shape[\u001b[32m0\u001b[39m]\n\u001b[32m     25\u001b[39m total_training_samples += labels.shape[\u001b[32m0\u001b[39m]\n\u001b[32m     26\u001b[39m _, predicted = torch.max(output, dim=\u001b[32m1\u001b[39m)\n",
      "\u001b[31mKeyboardInterrupt\u001b[39m: "
     ]
    }
   ],
   "source": [
    "device='cuda'\n",
    "import time\n",
    "\n",
    "for epoch in range(5):\n",
    "    \n",
    "    start = time.time()\n",
    "    total_training_loss = 0\n",
    "    total_training_samples = 0\n",
    "    total_training_correct_classfied = 0\n",
    "\n",
    "    for iteration, (features, labels) in enumerate(train_loader):\n",
    "        features = features.to(device)\n",
    "        labels = labels.to(device)\n",
    "\n",
    "        output = model(features)\n",
    "        \n",
    "        loss_value = criterion(output, labels)\n",
    "\n",
    "        optimizer.zero_grad()\n",
    "        loss_value.backward()\n",
    "        optimizer.step()\n",
    "\n",
    "        torch.Tensor()\n",
    "        total_training_loss += loss_value.item()*labels.shape[0]\n",
    "        total_training_samples += labels.shape[0]\n",
    "        _, predicted = torch.max(output, dim=1)\n",
    "        total_training_correct_classfied += (labels == predicted).sum().item()\n",
    "\n",
    "\n",
    "        \n",
    "        if ((iteration)%200==0):\n",
    "\n",
    "            x_test, y_test = next(iter(test_loader))\n",
    "            x_test = x_test.to(device)\n",
    "            y_test = y_test.to(device)\n",
    "\n",
    "            with torch.no_grad():\n",
    "                test_output = model(x_test)\n",
    "\n",
    "                test_loss_value = criterion(test_output, y_test)\n",
    "\n",
    "                _, predicted = torch.max(test_output, dim=1)\n",
    "                accuracy = (predicted==y_test).type(torch.float32).mean().item()\n",
    "                \n",
    "\n",
    "                print(f\"Epoch: {epoch+1}, iteration: {iteration+1}, test accuracy: {accuracy}, test loss: {test_loss_value}\")\n",
    "\n",
    "        \n",
    "    print(f\"epoch: {epoch+1}, iteration: {iteration+1}, train loss: {total_training_loss/total_training_samples}, train accuracy: {total_training_correct_classfied/total_training_samples}, time taken: {time.time()-start}\")\n",
    "\n",
    "    \n",
    "\n"
   ]
  },
  {
   "cell_type": "code",
   "execution_count": 9,
   "id": "61e4a6f9",
   "metadata": {},
   "outputs": [
    {
     "name": "stdout",
     "output_type": "stream",
     "text": [
      "test accuracy: 0.9881999492645264, test loss: 0.03275950998067856\n"
     ]
    }
   ],
   "source": [
    "x_test, y_test = next(iter(test_loader))\n",
    "x_test = x_test.to(device)\n",
    "y_test = y_test.to(device)\n",
    "with torch.no_grad():\n",
    "    test_output = model(x_test)\n",
    "    test_loss_value = criterion(test_output, y_test)\n",
    "    _, predicted = torch.max(test_output, dim=1)\n",
    "    accuracy = (predicted==y_test).type(torch.float32).mean().item()\n",
    "        \n",
    "print(f\"test accuracy: {accuracy}, test loss: {test_loss_value}\")\n"
   ]
  },
  {
   "cell_type": "code",
   "execution_count": 10,
   "id": "c86588e3",
   "metadata": {},
   "outputs": [],
   "source": [
    "wrongly_classfied = x_test[predicted!=y_test]\n",
    "wrongly_classfied_labels = y_test[predicted!=y_test]\n",
    "wrongly_classfied_predited = predicted[predicted!=y_test]"
   ]
  },
  {
   "cell_type": "code",
   "execution_count": 11,
   "id": "ccad8cfd",
   "metadata": {},
   "outputs": [
    {
     "data": {
      "text/plain": [
       "torch.Size([118])"
      ]
     },
     "execution_count": 11,
     "metadata": {},
     "output_type": "execute_result"
    }
   ],
   "source": [
    "wrongly_classfied_predited.shape"
   ]
  },
  {
   "cell_type": "code",
   "execution_count": 57,
   "id": "82b2651c",
   "metadata": {},
   "outputs": [
    {
     "name": "stdout",
     "output_type": "stream",
     "text": [
      "true=  tensor(0) . predicted = 1\n"
     ]
    },
    {
     "data": {
      "text/plain": [
       "<matplotlib.image.AxesImage at 0x13254ae8920>"
      ]
     },
     "execution_count": 57,
     "metadata": {},
     "output_type": "execute_result"
    },
    {
     "data": {
      "image/png": "[encoded data removed]",
      "text/plain": [
       "<Figure size 640x480 with 1 Axes>"
      ]
     },
     "metadata": {},
     "output_type": "display_data"
    }
   ],
   "source": [
    "i = 96 #the image number you want to see\n",
    "\n",
    "features= wrongly_classfied[i][0]\n",
    "true_number = wrongly_classfied_labels[i]\n",
    "predicted_number = wrongly_classfied_predited[i]\n",
    "\n",
    "\n",
    "print(\"true= \", true_number.to('cpu'), f\". predicted = {predicted_number}\")\n",
    "plt.imshow(features.to('cpu'), cmap='gray')"
   ]
  },
  {
   "cell_type": "code",
   "execution_count": null,
   "id": "8b5cac77",
   "metadata": {},
   "outputs": [],
   "source": []
  },
  {
   "cell_type": "code",
   "execution_count": 21,
   "id": "f0856e00",
   "metadata": {},
   "outputs": [
    {
     "name": "stdout",
     "output_type": "stream",
     "text": [
      "Test Score - Loss: 0.03275950998067856, top-1 accuracy: 0.9882, top-5 accuracy: 1.0\n"
     ]
    },
    {
     "data": {
      "text/plain": [
       "(0.03275950998067856, np.float64(0.9882), np.float64(1.0))"
      ]
     },
     "execution_count": 21,
     "metadata": {},
     "output_type": "execute_result"
    }
   ],
   "source": [
    "print_test_details(model, loss=criterion)"
   ]
  },
  {
   "cell_type": "code",
   "execution_count": null,
   "id": "b565fff5",
   "metadata": {},
   "outputs": [],
   "source": []
  }
 ],
 "metadata": {
  "kernelspec": {
   "display_name": "Python 3",
   "language": "python",
   "name": "python3"
  },
  "language_info": {
   "codemirror_mode": {
    "name": "ipython",
    "version": 3
   },
   "file_extension": ".py",
   "mimetype": "text/x-python",
   "name": "python",
   "nbconvert_exporter": "python",
   "pygments_lexer": "ipython3",
   "version": "3.12.10"
  }
 },
 "nbformat": 4,
 "nbformat_minor": 5
}
