{
 "cells": [
  {
   "cell_type": "code",
   "execution_count": 1,
   "id": "da43f284",
   "metadata": {},
   "outputs": [],
   "source": [
    "import torch\n",
    "from torchvision import datasets, transforms\n",
    "from torch.utils.data import random_split\n",
    "import torch.nn as nn\n",
    "import torchvision\n",
    "import torch.optim as optim\n",
    "\n",
    "\n",
    "import numpy as np\n",
    "import time\n",
    "import matplotlib.pyplot as plt\n",
    "from sklearn.metrics import top_k_accuracy_score\n",
    "from main import Xception, print_test_details, train_transform, test_transform\n",
    "from main import print_test_details, ResNet, BasicBlock, BottleNeck, train_transform, test_transform #custom function in main.py\n",
    "\n",
    "\n",
    "\n",
    "import json, os"
   ]
  },
  {
   "cell_type": "code",
   "execution_count": 2,
   "id": "b8819c8b",
   "metadata": {},
   "outputs": [],
   "source": [
    "# HYPERPARAMETERS\n",
    "\n",
    "train_size = 0.8\n",
    "test_size=0.2\n",
    "cuda = 'cuda'\n",
    "cpu = 'cpu' \n",
    "device = cuda if torch.cuda.is_available() else cpu\n"
   ]
  },
  {
   "cell_type": "code",
   "execution_count": 3,
   "id": "79447060",
   "metadata": {},
   "outputs": [],
   "source": [
    "\n",
    "class myDataset(torch.utils.data.Dataset):\n",
    "\n",
    "    def __init__(self, data, transform=None):\n",
    "        self.data = data\n",
    "        self.transform = transform\n",
    "\n",
    "    def __len__(self):\n",
    "        return len(self.data)\n",
    "    \n",
    "    def __getitem__(self, index):\n",
    "        x, y = self.data[index]\n",
    "        if self.transform:\n",
    "            x = self.transform(x)\n",
    "        return x, y\n",
    "   \n"
   ]
  },
  {
   "cell_type": "code",
   "execution_count": 4,
   "id": "f05734a1",
   "metadata": {},
   "outputs": [],
   "source": [
    "\n",
    "full_dataset = torchvision.datasets.ImageFolder(\n",
    "    root='./dataset',\n",
    "    transform=None\n",
    ")\n",
    "\n",
    "train, test = random_split(full_dataset, [train_size, test_size], generator=torch.Generator().manual_seed(0))\n",
    "\n",
    "# train_dataset = myDataset(train, transform=train_transform)\n",
    "test_dataset = myDataset(test, transform=test_transform)\n",
    "\n",
    "batch_size=64\n",
    "\n",
    "# train_loader = torch.utils.data.DataLoader(\n",
    "#     dataset=train_dataset,\n",
    "#     batch_size=batch_size,\n",
    "#     shuffle=True, \n",
    "# )\n",
    "test_loader = torch.utils.data.DataLoader(\n",
    "    dataset=test_dataset,\n",
    "    batch_size=1,\n",
    "    shuffle=False   \n",
    ")   "
   ]
  },
  {
   "cell_type": "code",
   "execution_count": 5,
   "id": "7a6feb9c",
   "metadata": {},
   "outputs": [
    {
     "name": "stdout",
     "output_type": "stream",
     "text": [
      "\n"
     ]
    }
   ],
   "source": [
    "\n",
    "resnet = ResNet(\n",
    "    block=BottleNeck,\n",
    "    layers=[2, 2, 2, 2]\n",
    ")\n",
    "\n",
    "resnet.load_state_dict(torch.load(\"resnet26_scratch_implementation_weights.pth\"))\n",
    "resnet.to(device)\n",
    "resnet.eval()\n",
    "\n",
    "\n",
    "xception = Xception(5)\n",
    "xception.load_state_dict(torch.load(\"xception_middle5_5.9M.pth\"))\n",
    "xception.to(device)\n",
    "xception.eval()\n",
    "\n",
    "print()\n",
    "\n"
   ]
  },
  {
   "cell_type": "code",
   "execution_count": 6,
   "id": "92ecc364",
   "metadata": {},
   "outputs": [],
   "source": [
    "x, y = next(iter(test_loader))\n"
   ]
  },
  {
   "cell_type": "code",
   "execution_count": 7,
   "id": "b7da210b",
   "metadata": {},
   "outputs": [
    {
     "data": {
      "text/plain": [
       "torch.Size([1, 10, 3, 299, 299])"
      ]
     },
     "execution_count": 7,
     "metadata": {},
     "output_type": "execute_result"
    }
   ],
   "source": [
    "x.shape"
   ]
  },
  {
   "cell_type": "code",
   "execution_count": 8,
   "id": "90abbd0d",
   "metadata": {},
   "outputs": [],
   "source": [
    "@torch.no_grad\n",
    "def print_test_details(num_samples:int=None, fraction_sampleS:float=1.0):\n",
    "\n",
    "    assert test_loader.batch_size == 1\n",
    "\n",
    "    if num_samples is None:\n",
    "        num_samples = len(test_loader.dataset)*fraction_sampleS\n",
    "\n",
    "    top_1_correct = 0\n",
    "    top_5_correct = 0\n",
    "    # loss = 0\n",
    "    iter_start = time.time()\n",
    "    for i, (images, label) in enumerate(test_loader):\n",
    "\n",
    "        if (i%100 == 0):\n",
    "            print(f\"{i}- time taken={time.time()-iter_start}\")\n",
    "            iter_start = time.time()\n",
    "\n",
    "        if (i>=num_samples):\n",
    "            break\n",
    "\n",
    "        images = images.to(device)\n",
    "        label = label.to(device)\n",
    "        \n",
    "        images = torch.squeeze(images, 0)\n",
    "\n",
    "\n",
    "        xception_output = xception(images)\n",
    "        resnet_output = resnet(torchvision.transforms.Resize((224, 224))(images))\n",
    "\n",
    "        assert resnet_output.shape == xception_output.shape\n",
    "\n",
    "        output = (xception_output + resnet_output)/2.\n",
    "\n",
    "        output = torch.mean(output, 0).reshape(1, -1)\n",
    "\n",
    "\n",
    "        all_possible_labels = np.array(range(256))\n",
    "            \n",
    "        cpu_labels = label.cpu().numpy()\n",
    "        cpu_averaged_outputs = output.cpu().numpy()\n",
    "\n",
    "        top_1_correct += top_k_accuracy_score(cpu_labels, cpu_averaged_outputs, k=1, labels=all_possible_labels, normalize=False)\n",
    "        top_5_correct += top_k_accuracy_score(cpu_labels, cpu_averaged_outputs, k=5, labels=all_possible_labels, normalize=False)\n",
    "\n",
    "    print(f\"top-1 accuracy={top_1_correct/num_samples:.4f}, top 5-accuracy={top_5_correct/num_samples:.4f}\")\n",
    "\n",
    "\n",
    "\n",
    "        "
   ]
  },
  {
   "cell_type": "code",
   "execution_count": 9,
   "id": "ef94fbe3",
   "metadata": {},
   "outputs": [
    {
     "name": "stdout",
     "output_type": "stream",
     "text": [
      "0- time taken=0.03299880027770996\n",
      "100- time taken=9.5657799243927\n",
      "200- time taken=8.458730697631836\n",
      "300- time taken=8.525291681289673\n",
      "400- time taken=8.727914333343506\n",
      "500- time taken=11.363964080810547\n",
      "600- time taken=12.77847957611084\n",
      "700- time taken=12.64483094215393\n",
      "800- time taken=10.918440103530884\n",
      "900- time taken=8.382431268692017\n",
      "1000- time taken=8.427351713180542\n",
      "top-1 accuracy=0.6020, top 5-accuracy=0.7910\n"
     ]
    }
   ],
   "source": [
    "print_test_details(1000)"
   ]
  },
  {
   "cell_type": "code",
   "execution_count": null,
   "id": "30d54b56",
   "metadata": {},
   "outputs": [],
   "source": []
  }
 ],
 "metadata": {
  "kernelspec": {
   "display_name": "Python 3",
   "language": "python",
   "name": "python3"
  },
  "language_info": {
   "codemirror_mode": {
    "name": "ipython",
    "version": 3
   },
   "file_extension": ".py",
   "mimetype": "text/x-python",
   "name": "python",
   "nbconvert_exporter": "python",
   "pygments_lexer": "ipython3",
   "version": "3.12.10"
  }
 },
 "nbformat": 4,
 "nbformat_minor": 5
}
